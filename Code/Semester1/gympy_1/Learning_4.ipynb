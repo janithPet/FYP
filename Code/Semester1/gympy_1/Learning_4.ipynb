{
 "cells": [
  {
   "cell_type": "markdown",
   "metadata": {},
   "source": [
    "# Start simple, Start linearly\n",
    "\n",
    "The program below will mark the first RL algorithm truly implemented in this project. As such, to see if I've got the basics down, I started with a simply linear policy to learn. The algorithm contains two main parts. \n",
    "\n",
    "* The first is to learn a surrogate dynamics model of the environment. I personally like to think of this as the agent's belief of how the environment behaves, so the term surrogate doesn't too appropriate. A GP model will be used, with a gaussian covariance kernel. \n",
    "\n",
    "* The second is to use this belief of the system to learn an optimal policy. As mentioned previously, a linear policy structure will be used. Furthermore, bayesian optimisation with expected improvement will be used to find the optimal policy values. \n",
    "\n",
    "Let's see how this goes. Fingers crossed. "
   ]
  },
  {
   "cell_type": "code",
   "execution_count": 1,
   "metadata": {
    "collapsed": true
   },
   "outputs": [],
   "source": [
    "%matplotlib inline\n",
    "\n",
    "import gym\n",
    "import GPy\n",
    "import GPyOpt\n",
    "import numpy as np\n",
    "\n",
    "import matplotlib.pyplot as plt\n",
    "from mpl_toolkits.mplot3d import Axes3D\n",
    "from matplotlib import cm\n",
    "\n",
    "import gympy\n",
    "\n"
   ]
  },
  {
   "cell_type": "markdown",
   "metadata": {},
   "source": [
    "Once the libraries have been imported as above, the openai gym environment and the appropriate covariance kernels will need to be defined. The former of these can be carried out using the *setupEnvironment* function in the gympy library. This outputs the relevant input and observations arrays, as well as the rewards, action and prediction initial arrays. "
   ]
  },
  {
   "cell_type": "code",
   "execution_count": 20,
   "metadata": {
    "collapsed": false
   },
   "outputs": [
    {
     "name": "stdout",
     "output_type": "stream",
     "text": [
      "Please enter the environment: \n"
     ]
    },
    {
     "name": "stderr",
     "output_type": "stream",
     "text": [
      "[2016-11-24 19:11:23,610] Making new env: Pendulum-v0\n"
     ]
    }
   ],
   "source": [
    "env, observations, inputsNumpy, observationsNumpy, rewardsNumpy, action, predictionPDF = gympy.setupEnvironment(defaultEnvironment = 'Pendulum-v0', whichVersion = 0)\n",
    "k_dynamics = GPy.kern.RBF(input_dim=4, variance=1., lengthscale=1.)\n",
    "k_rewards = GPy.kern.RBF(input_dim=3, variance=1., lengthscale=1.)"
   ]
  },
  {
   "cell_type": "markdown",
   "metadata": {},
   "source": [
    "It is now necessary to define the key features of the RL algorithm. These include the how the reward (or cost) will be caluculated, the structure of the policy, and finally the objective function that will be minimised. \n",
    "\n",
    "The first of these is how the reward will be calculated. The reward, as mentioned in the [previous notebook](Learning_3.ipynb), the reward is function of the current state and the goal state. For the present notebook, the reward is calculated as the sum of the geometric distances between the each of the current states and the goal states. Please note that since each of these will be $ \\geqslant \\: 0$, it is technically speaking a cost, rather than a reward. However, since the difference betweeen the two is merely a negative symbol, reward and cost will be used interchangebly. \n",
    "\n",
    "Since the present problem will use a linear policy, which is only applicable to a pendulum at very small angles away from equilibrium points, the agent will be punished for moving away by $1^0$ from the equilibrium angle."
   ]
  },
  {
   "cell_type": "code",
   "execution_count": 3,
   "metadata": {
    "collapsed": true
   },
   "outputs": [],
   "source": [
    "def generateTotalReward(predictionPDF, goalState, totalReward):\n",
    "    predictionPDF[0,2] = predictionPDF[0,1]/8\n",
    "    if (abs(predictionPDF[0,0]) < np.cos(5*np.pi/180)) or (abs(predictionPDF[0,1]) > np.sin(5*np.pi/180)):\n",
    "        multiplier = 1000\n",
    "    else:\n",
    "        multiplier = 1\n",
    "    currentReward = multiplier*(np.sqrt(np.sum((predictionPDF-goalState)*(predictionPDF-goalState))))\n",
    "    totalReward = totalReward + currentReward\n",
    "    \n",
    "    return totalReward"
   ]
  },
  {
   "cell_type": "markdown",
   "metadata": {},
   "source": [
    "The policy must now be defined in terms of its parameters. In this particular example, a linear policy was chosen, for simplicity. This will be of the form:\n",
    "\n",
    "$$ \\pi(s_t) = \\phi(s_t)^T \\mathbf{\\theta} + \\mathbf{b},$$\n",
    "\n",
    "where the basis functions in $\\phi$ are simply the state variables, and the vector $\\theta$ represents the weights. Thus the action will be selected by policy that looks like:\n",
    "\n",
    "$$ a_t = s_{t,1}\\theta_1 + s_{t,2}\\theta_2  +  s_{t,3}\\theta_3 + \\theta_4, $$\n",
    "\n",
    "since this particular problem has 3 state variables. Note that $\\theta_4$ is the sum of the vector $\\mathbf{b}$. The reinforcement learning problem now becomes one of finiding the values of $\\theta$ such that the cost defined earlier is minimised. \n",
    "\n",
    "A function is defined to return the action after following the equation above."
   ]
  },
  {
   "cell_type": "code",
   "execution_count": 4,
   "metadata": {
    "collapsed": true
   },
   "outputs": [],
   "source": [
    "def action_fromPolicy(policyParameters, bufferObservations_policy):\n",
    "    actionToTake_policy = 0\n",
    "    [r,c] = policyParameters.shape\n",
    "    for i in range(c):\n",
    "        if i < c-1:\n",
    "            actionToTake_policy = actionToTake_policy + (bufferObservations_policy[0,i] * policyParameters[0,i])\n",
    "        else:\n",
    "            actionToTake_policy = actionToTake_policy + policyParameters[0,i]\n",
    "    actionToTake_policy = 2 * ((9/8)*np.sin(actionToTake_policy) + (1/8)*np.sin(3*actionToTake_policy))         \n",
    "\n",
    "    return actionToTake_policy"
   ]
  },
  {
   "cell_type": "markdown",
   "metadata": {},
   "source": [
    "Finding the policy parameters that minimise the total reward is clearly an optimisation problem. As such the optimisation method that will be used for this particular notebook is Bayesian Optimisation using Expected Improvement. Simply put, this methods chooses the next test point based on the highest expected improvement from the current minimun point (for a minimising problem that is). Thusly, a good mix of exploration and exploitation can be utilised to find the global minimum given the state box.\n",
    "\n",
    "The python library GPyOpt will be utilised for this. This requires the definition of an objective function; this is function that is to be optimised. In the present work, this will be the mapping from the policyy parameters to the total reward. Since this is a model based RL algorithm, the GP model that was trained previously will be used to generate the total reward. "
   ]
  },
  {
   "cell_type": "code",
   "execution_count": 6,
   "metadata": {
    "collapsed": false
   },
   "outputs": [],
   "source": [
    "def objectiveFunction(policyParameters):\n",
    "    thetaBound = np.array([np.pi*5*180,1])\n",
    "    thetaObservations = np.random.uniform(low=-thetaBound, high=thetaBound)\n",
    "\n",
    "    bufferObservations_policy = np.array([np.cos(thetaObservations[0]), np.sin(thetaObservations[0]), thetaObservations[1]])\n",
    "\n",
    "    bufferObservations_policy = np.reshape(bufferObservations_policy, ([1,3]))\n",
    "    bufferInputs_policy = np.zeros((1,4))\n",
    "    \n",
    "    totalIterations = 1000\n",
    "    totalReward = 0\n",
    "    \n",
    "    goalState = np.array([1,0,0])\n",
    "\n",
    "    \n",
    "    actionToTake_policy = action_fromPolicy(policyParameters, bufferObservations_policy)\n",
    "    predictionPDF = bufferObservations_policy\n",
    "    \n",
    "    attempt = 1\n",
    "    for i in range(totalIterations):\n",
    "        \n",
    "#         if abs(actionToTake_policy) > 2:\n",
    "#             totalReward = totalReward + 1000\n",
    "        bufferActionToTake = np.array([actionToTake_policy])\n",
    "        bufferActionToTake = np.reshape(bufferActionToTake, ([1]))\n",
    "        bufferACtionToTake_toAppend = np.reshape(bufferActionToTake,([1,1]))\n",
    "        bufferInputs_policy = np.append(bufferActionToTake_toAppend, predictionPDF, axis = 1) \n",
    "\n",
    "#         predictionPDF = m_dynamics.predict(bufferInputs_policy)[0]\n",
    "        \n",
    "        predictionPDF, rewards, done, info = env.step(bufferActionToTake)\n",
    "        predictionPDF_actual = np.reshape(predictionPDF, ([1,3]))\n",
    "        predctionPDF_emulation = m_dynamics.predict(bufferInputs_policy)[0]\n",
    "        \n",
    "#         inputsNumpy, bufferInput = gympy.appendInputArray(inputsNumpy, bufferActionToTake_toAppend, predictionPDF, attempt)\n",
    "#         [observationsNumpy, bufferObservations] = gympy.appendObservationsArray(observationsNumpy, observations, attempt)\n",
    "        \n",
    "        totalReward = generateTotalReward(predictionPDF_actual, goalState, totalReward)\n",
    "        actionToTake_policy = action_fromPolicy(policyParameters, predictionPDF)\n",
    "        \n",
    "        \n",
    "        \n",
    "#         env.setState(np.arccos(predictionPDF[0,0]), predictionPDF[0,2])\n",
    "#         env.render()\n",
    "#         if (abs(predictionPDF_actual[0,0]) < np.cos(5*np.pi/180)):\n",
    "#             break\n",
    "\n",
    "        \n",
    "\n",
    "#     m_dynamics = gympy.generateModel(inputsNumpy, observationsNumpy, k_dynamics)\n",
    "#     m_dynamics.optimize()\n",
    "\n",
    "\n",
    "        \n",
    "        \n",
    "    return totalReward\n",
    "\n",
    "def objectiveFunction_iterations(policyParameters):\n",
    "    thetaBound = np.array([np.pi*5*180,1])\n",
    "    thetaObservations = np.random.uniform(low=-thetaBound, high=thetaBound)\n",
    "\n",
    "    bufferObservations_policy = np.array([np.cos(thetaObservations[0]), np.sin(thetaObservations[0]), thetaObservations[1]])\n",
    "\n",
    "    bufferObservations_policy = np.reshape(bufferObservations_policy, ([1,3]))\n",
    "    bufferInputs_policy = np.zeros((1,4))\n",
    "    \n",
    "    totalIterations = 1000\n",
    "    totalReward = 0\n",
    "    counter = 1\n",
    "    \n",
    "    predictionPDF = env.reset(whichVersion=1)\n",
    "    predictionPDF = np.reshape(predictionPDF, ([1,3]))\n",
    "    actionToTake_policy = action_fromPolicy(policyParameters, predictionPDF)\n",
    "    \n",
    "    \n",
    "    \n",
    "    while abs(predictionPDF[0,0]) > np.cos(5*np.pi/180) and counter <= totalIterations:\n",
    "                \n",
    "        bufferActionToTake = np.array([actionToTake_policy])\n",
    "        bufferActionToTake = np.reshape(bufferActionToTake, ([1]))\n",
    "#         bufferActionToTake_toAppend = np.reshape(bufferActionToTake,([1,1]))\n",
    "#         bufferInputs_policy = np.append(bufferActionToTake_toAppend, predictionPDF, axis = 1) \n",
    "        \n",
    "        predictionPDF, rewards, done, info = env.step(bufferActionToTake)\n",
    "        predictionPDF = np.reshape(predictionPDF, ([1,3]))\n",
    "        actionToTake_policy = action_fromPolicy(policyParameters,predictionPDF)\n",
    "        \n",
    "        counter += 1\n",
    "    \n",
    "    \n",
    "    totalReward = 1000/counter\n",
    "    \n",
    "    return totalReward\n",
    "        \n",
    "    "
   ]
  },
  {
   "cell_type": "markdown",
   "metadata": {},
   "source": [
    "A random policy is now created to start the process."
   ]
  },
  {
   "cell_type": "code",
   "execution_count": 7,
   "metadata": {
    "collapsed": true
   },
   "outputs": [],
   "source": [
    "policyBounds = np.array([1,1,1,10])\n",
    "policyParameters =  np.random.uniform(low = -policyBounds, high = policyBounds)\n",
    "policyParameters = np.reshape(policyParameters,([1,4]))"
   ]
  },
  {
   "cell_type": "markdown",
   "metadata": {},
   "source": [
    "What follows now will be the RL loop. However, in order to explain the steps using markdown the first iteration will be carried out outside the loop. The remaining steps will be carried out within a loop without any remarks.\n",
    "\n",
    "Once the policy parameters have been chosen, they must be used on the actual system."
   ]
  },
  {
   "cell_type": "code",
   "execution_count": 9,
   "metadata": {
    "collapsed": false,
    "scrolled": true
   },
   "outputs": [],
   "source": [
    "for attempt in range(1000):\n",
    "    if attempt%200 == 0:\n",
    "        observations = env.reset(whichVersion=0)\n",
    "        \n",
    "    bufferObservations = np.reshape(observations, ([1,3]))\n",
    "    actionToTake = action_fromPolicy(policyParameters, bufferObservations)\n",
    "    actionToTake_random = env.action_space.sample()\n",
    "    \n",
    "    inputsNumpy, bufferInput = gympy.appendInputArray(inputsNumpy, actionToTake_random, observations, attempt)\n",
    "    \n",
    "    actionToTake = np.array([actionToTake])\n",
    "    \n",
    "    [observationsNumpy, bufferObservations] = gympy.appendObservationsArray(observationsNumpy, observations, attempt)\n",
    "    \n",
    "    observations, rewards, done, info = env.step(actionToTake_random)\n",
    "    \n",
    "    env.render()"
   ]
  },
  {
   "cell_type": "markdown",
   "metadata": {},
   "source": [
    "Using the data points that were recorded from this trial, the system will learn a model of how the environment behaves."
   ]
  },
  {
   "cell_type": "code",
   "execution_count": 10,
   "metadata": {
    "collapsed": false
   },
   "outputs": [
    {
     "name": "stderr",
     "output_type": "stream",
     "text": [
      "[2016-11-24 19:00:12,995] initializing Y\n",
      "[2016-11-24 19:00:12,997] initializing inference method\n",
      "[2016-11-24 19:00:12,998] adding kernel and likelihood as parameters\n"
     ]
    }
   ],
   "source": [
    "m_dynamics = gympy.generateModel(inputsNumpy, observationsNumpy, k_dynamics)\n",
    "m_dynamics.optimize()"
   ]
  },
  {
   "cell_type": "code",
   "execution_count": 11,
   "metadata": {
    "collapsed": false,
    "scrolled": true
   },
   "outputs": [
    {
     "name": "stdout",
     "output_type": "stream",
     "text": [
      "[[ 0.47058699  0.15016868  0.85939597 -4.57000853]]\n"
     ]
    },
    {
     "data": {
      "text/plain": [
       "<matplotlib.text.Text at 0x7fdb446ea310>"
      ]
     },
     "execution_count": 11,
     "metadata": {},
     "output_type": "execute_result"
    },
    {
     "data": {
      "image/png": "[encoded data removed]",
      "text/plain": [
       "<matplotlib.figure.Figure at 0x7fdb449b23d0>"
      ]
     },
     "metadata": {},
     "output_type": "display_data"
    },
    {
     "data": {
      "image/png": "[encoded data removed]",
      "text/plain": [
       "<matplotlib.figure.Figure at 0x7fdb4494bd90>"
      ]
     },
     "metadata": {},
     "output_type": "display_data"
    },
    {
     "data": {
      "image/png": "[encoded data removed]",
      "text/plain": [
       "<matplotlib.figure.Figure at 0x7fdb447bb390>"
      ]
     },
     "metadata": {},
     "output_type": "display_data"
    },
    {
     "data": {
      "image/png": "[encoded data removed]",
      "text/plain": [
       "<matplotlib.figure.Figure at 0x7fdb446bddd0>"
      ]
     },
     "metadata": {},
     "output_type": "display_data"
    }
   ],
   "source": [
    "plt.figure()\n",
    "plt.hist(inputsNumpy[:,0])\n",
    "plt.title('Actions')\n",
    "\n",
    "plt.figure()\n",
    "plt.hist(inputsNumpy[:,1])\n",
    "plt.title('cos(angle)')\n",
    "\n",
    "plt.figure()\n",
    "plt.hist(inputsNumpy[:,2])\n",
    "plt.title('sin(angle)')\n",
    "\n",
    "plt.figure()\n",
    "plt.hist(inputsNumpy[:,3])\n",
    "print policyParameters\n",
    "plt.title('angle_dot')\n"
   ]
  },
  {
   "cell_type": "markdown",
   "metadata": {},
   "source": [
    "Now the agent will attempt to optimise the parameters of the policy using this learned model as its belief of how the environment behave."
   ]
  },
  {
   "cell_type": "code",
   "execution_count": 12,
   "metadata": {
    "collapsed": true
   },
   "outputs": [],
   "source": [
    "bounds = [{'domain': (-1,1), 'name': 'var_1', 'type': 'continuous', 'dimensionality':3},\n",
    "         {'domain': (-10,10), 'name': 'var_4', 'type': 'continuous', 'dimensionality':1}]"
   ]
  },
  {
   "cell_type": "code",
   "execution_count": 13,
   "metadata": {
    "collapsed": false
   },
   "outputs": [
    {
     "name": "stderr",
     "output_type": "stream",
     "text": [
      "[2016-11-24 19:00:48,883] initializing Y\n",
      "[2016-11-24 19:00:48,885] initializing inference method\n",
      "[2016-11-24 19:00:48,886] adding kernel and likelihood as parameters\n"
     ]
    },
    {
     "name": "stdout",
     "output_type": "stream",
     "text": [
      "[ 24.]\n",
      "(405, 1)\n"
     ]
    }
   ],
   "source": [
    "myBopt = GPyOpt.methods.BayesianOptimization(f = objectiveFunction_iterations, domain = bounds, acquisition_type ='MPI', num_cores=4, verbosity=True)\n",
    "max_iter = 400              # evaluation budget\n",
    "myBopt.run_optimization(max_iter)   # run optimization\n",
    "print min(myBopt.Y)\n",
    "print myBopt.Y.shape"
   ]
  },
  {
   "cell_type": "code",
   "execution_count": null,
   "metadata": {
    "collapsed": false,
    "scrolled": true
   },
   "outputs": [],
   "source": [
    "max_iter = 100              # evaluation budget\n",
    "myBopt.run_optimization(max_iter)   # run optimization\n",
    "print min(myBopt.Y)\n",
    "print myBopt.Y.shape"
   ]
  },
  {
   "cell_type": "markdown",
   "metadata": {},
   "source": [
    "Now the policy that produced to smallest long term cost, will be chosen, and will be used on the environment once more, which will then generate more data that will be added to the dynamics model to be optimised again. As such, the loop continues."
   ]
  },
  {
   "cell_type": "code",
   "execution_count": 24,
   "metadata": {
    "collapsed": false,
    "scrolled": false
   },
   "outputs": [
    {
     "name": "stdout",
     "output_type": "stream",
     "text": [
      "[ 24.]\n",
      "[[  0.55944201   0.80162202   0.4665589  -10.        ]]\n"
     ]
    }
   ],
   "source": [
    "policyParameters = myBopt.X[np.argmin(myBopt.Y)]\n",
    "print min(myBopt.Y)\n",
    "policyParameters = np.reshape(policyParameters, ([1,4]))\n",
    "print policyParameters \n",
    "\n",
    "# thetaBound = np.array([np.pi*5*180,1])\n",
    "\n",
    "# thetaObservations = np.random.uniform(low=-thetaBound, high=thetaBound)\n",
    "\n",
    "# bufferObservations_policy = np.array([np.cos(thetaObservations[0]), np.sin(thetaObservations[0]), thetaObservations[1]])\n",
    "\n",
    "# bufferObservations_policy = np.reshape(bufferObservations_policy, ([1,3]))\n",
    "# actionBuffer = action_fromPolicy(policyParameters, bufferObservations_policy)\n",
    "\n",
    "# predictionPDF = bufferObservations_policy\n",
    "# print predictionPDF\n",
    "# env.setState(np.arccos(predictionPDF[0,0]),predictionPDF[0,2]) \n",
    "# for i in range(100):\n",
    "#     bufferActionToTake = np.array([actionBuffer])\n",
    "#     bufferActionToTake = np.reshape(bufferActionToTake, ([1,1]))\n",
    "#     bufferInputs_policy = np.append(bufferActionToTake, predictionPDF,axis = 1)\n",
    "    \n",
    "#     predictionPDF = m_dynamics.predict(bufferInputs_policy)[0]\n",
    "    \n",
    "#     actionToTake_policy = action_fromPolicy(policyParameters, predictionPDF)\n",
    "    \n",
    "#     print predictionPDF"
   ]
  },
  {
   "cell_type": "code",
   "execution_count": null,
   "metadata": {
    "collapsed": false,
    "scrolled": true
   },
   "outputs": [],
   "source": [
    "for iterations in range(5):\n",
    "    observations = env.reset(whichVersion = 1)\n",
    "    for attempt in range(201):\n",
    "        attempt = attempt + 1\n",
    "        bufferObservations = np.reshape(observations, ([1,3]))\n",
    "        actionToTake = action_fromPolicy(policyParameters, bufferObservations)\n",
    "\n",
    "        inputsNumpy, bufferInput = gympy.appendInputArray(inputsNumpy, actionToTake, observations, attempt)\n",
    "        actionToTake = np.array([actionToTake])\n",
    "\n",
    "        [observationsNumpy, bufferObservations] = gympy.appendObservationsArray(observationsNumpy, observations, attempt)\n",
    "\n",
    "        observations, rewards, done, info = env.step(actionToTake)\n",
    "\n",
    "        env.render()\n",
    "        \n",
    "    m_dynamics = gympy.generateModel(inputsNumpy, observationsNumpy, k_dynamics)\n",
    "    m_dynamics.optimize()\n",
    "    \n",
    "    \n",
    "    initialX = np.reshape(policyParameters, ([4,1]))\n",
    "#     print initialX\n",
    "    myBopt = GPyOpt.methods.BayesianOptimization(f = objectiveFunction, domain = bounds, acquisition_type ='MPI', num_cores=4)\n",
    "    max_iter = 200              # evaluation budget\n",
    "    myBopt.run_optimization(max_iter)   # run optimization\n",
    "    print myBopt.Y.shape\n",
    "    print min(myBopt.Y)\n",
    "    \n",
    "    policyParameters = myBopt.X[np.argmin(myBopt.Y)]\n",
    "    policyParameters = np.reshape(policyParameters, ([1,4])) \n",
    "    print policyParameters"
   ]
  },
  {
   "cell_type": "code",
   "execution_count": 25,
   "metadata": {
    "collapsed": false,
    "scrolled": true
   },
   "outputs": [
    {
     "name": "stdout",
     "output_type": "stream",
     "text": [
      "[[  0.55944201   0.80162202   0.4665589  -10.        ]]\n",
      "[ 0.04181514] [[ 0.  0.  0.]]\n",
      "[ 0.04031105] [[  4.71002958e-07   7.42068562e-05   1.48416702e-03]]\n",
      "[ 0.03885973] [[  1.34409266e-06   2.14122959e-04   2.79837655e-03]]\n",
      "[ 0.03741691] [[  2.55804362e-06   4.14110499e-04   3.99982449e-03]]\n",
      "[ 0.03594476] [[  4.05784287e-06   6.70848143e-04   5.13484051e-03]]\n",
      "[ 0.03441] [[  5.79214680e-06   9.82922707e-04   6.24158769e-03]]\n",
      "[ 0.03278242] [[  7.71011404e-06   1.35052654e-03   7.35217677e-03]]\n",
      "[ 0.03103367] [[  9.75778106e-06   1.77523815e-03   8.49433092e-03]]\n",
      "[ 0.02913631] [[  1.18739821e-05   2.25986884e-03   9.69270640e-03]]\n",
      "[ 0.02706296] [[  1.39857099e-05   2.80836232e-03   1.09699509e-02]]\n",
      "[ 0.02478562] [[  1.60027389e-05   3.42573719e-03   1.23475636e-02]]\n",
      "[ 0.02227502] [[  1.78112696e-05   4.11806511e-03   1.38466060e-02]]\n",
      "[ 0.01950007] [[  1.92662919e-05   4.89247892e-03   1.54883038e-02]]\n",
      "[ 0.01642734] [[  2.01822945e-05   5.75720690e-03   1.72945698e-02]]\n",
      "[ 0.01302052] [[  2.03218651e-05   6.72163046e-03   1.92884723e-02]]\n",
      "[ 0.00923993] [[  1.93816246e-05   7.79636350e-03   2.14946701e-02]]\n",
      "[ 0.00504197] [[  1.69748095e-05   8.99335247e-03   2.39398291e-02]]\n",
      "[ 0.00037856] [[  1.26096589e-05   1.03259970e-02   2.66530349e-02]]\n",
      "[-0.0048034] [[  5.66256290e-06   1.18092912e-02   2.96662132e-02]]\n",
      "[-0.01056269] [[ -4.65531986e-06   1.34599872e-02   3.30145689e-02]]\n",
      "[-0.01696445] [[ -1.93395764e-05   1.52967809e-02   3.67370531e-02]]\n",
      "[-0.0240809] [[ -3.96441750e-05   1.73405231e-02   4.08768686e-02]]\n",
      "[-0.03199217] [[ -6.71456932e-05   1.96144575e-02   4.54820223e-02]]\n",
      "[-0.04078714] [[-0.00010382  0.02214449  0.05060594]]\n",
      "[-0.05056443] [[-0.00015216  0.02495948  0.05630813]]\n",
      "[-0.06143345] [[-0.00021526  0.02809159  0.06265497]]\n",
      "[-0.0735155] [[-0.000297    0.03157666  0.06972054]]\n",
      "[-0.08694509] [[-0.00040226  0.03545461  0.0775876 ]]\n",
      "[-0.10187119] [[-0.00053708  0.03976993  0.08634869]]\n",
      "[-0.11845873] [[-0.00070905  0.04457222  0.09610736]]\n",
      "[-0.13689008] [[-0.00092761  0.04991672  0.10697961]]\n",
      "[-0.1573667] [[-0.00120455  0.05586505  0.11909554]]\n",
      "[-0.18011072] [[-0.00155456  0.06248585  0.13260121]]\n",
      "[-0.20536664] [[-0.00199597  0.06985567  0.14766089]]\n",
      "[-0.23340286] [[-0.00255163  0.07805983  0.16445955]]\n",
      "[-0.26451315] [[-0.00325004  0.08719343  0.18320589]]\n",
      "[-0.29901773] [[-0.00412675  0.09736246  0.20413588]]\n",
      "[-0.33726385] [[-0.00522612  0.108685    0.22751696]]\n",
      "[-0.37962559] [[-0.00660353  0.12129254  0.25365303]]\n",
      "[-0.42650239] [[-0.00832817  0.13533141  0.2828905 ]]\n",
      "[-0.47831581] [[-0.01048652  0.15096424  0.3156256 ]]\n",
      "[-0.53550357] [[-0.01318679  0.16837148  0.3523133 ]]\n",
      "[-0.59850993] [[-0.01656447  0.18775296  0.39347827]]\n",
      "[-0.66777067] [[-0.02078949  0.20932916  0.4397284 ]]\n",
      "[-0.74369067] [[-0.02607511  0.23334228  0.49177156]]\n",
      "[-0.82661115] [[-0.03268944  0.26005658  0.55043657]]\n",
      "[-0.91676286] [[-0.04096999  0.28975762  0.61669923]]\n",
      "[-1.01420019] [[-0.05134224  0.32274961  0.69171491]]\n",
      "[-1.11871019] [[-0.06434326  0.35934959  0.77685899]]\n",
      "[-1.22968942] [[-0.08065179  0.39987664  0.87377654]]\n",
      "[-1.3459815] [[-0.10112597  0.44463305  0.9844425 ]]\n",
      "[-1.46567098] [[-0.12685032  0.49387282  1.11123196]]\n",
      "[-1.58583721] [[-0.15919267  0.54775028  1.25699783]]\n",
      "[-1.70229126] [[-0.19987004  0.606238    1.42514686]]\n",
      "[-1.80935869] [[-0.25101826  0.66899781  1.61969357]]\n",
      "[-1.89984166] [[-0.31525141  0.73518266  1.84525002]]\n",
      "[-1.96540387] [[-0.39567958  0.80314097  2.10687266]]\n",
      "[-1.99774919] [[-0.4958226   0.86999614  2.4096297 ]]\n",
      "[-1.99101368] [[-0.61930867  0.9310947   2.75767633]]\n",
      "[-1.94552513] [[-0.76918536  0.97938671  3.1525572 ]]\n",
      "[-1.87216255] [[-0.94663506  1.0049603   3.59048036]]\n",
      "[-1.79487789] [[-1.1489822   0.99522095  4.0585881 ]]\n",
      "[-1.74738307] [[-1.36728359  0.9364851   4.53098402]]\n",
      "[-1.76050077] [[-1.58461563  0.81767985  4.96645228]]\n",
      "[-1.84083048] [[-1.77703486  0.63581654  5.31084895]]\n",
      "[-1.94942782] [[-1.91889175  0.40084642  5.50679868]]\n",
      "[-1.99932405] [[-1.99154527  0.13598958  5.51023122]]\n",
      "[-1.89060606] [[-1.99082626 -0.12860825  5.3075367 ]]\n",
      "[-1.57137883] [[-1.92807162 -0.36596683  4.92270149]]\n",
      "[-1.07289567] [[-1.8242254  -0.55984806  4.40773145]]\n",
      "[-0.4838055] [[-1.70166679 -0.70610103  3.82212295]]\n",
      "[ 0.10525664] [[-1.57857326 -0.80923183  3.21518824]]\n",
      "[ 0.63539036] [[-1.46710788 -0.87780543  2.61926477]]\n",
      "[ 1.08064455] [[-1.37411897 -0.92098836  2.05143115]]\n",
      "[ 1.43520948] [[-1.30272187 -0.94668833  1.51799845]]\n",
      "[ 1.70150634] [[-1.25381634 -0.96086294  1.01847553]]\n",
      "[ 1.88309699] [[-1.22720885 -0.96745716  0.54826616]]\n",
      "[ 1.98141022] [[-1.22231977 -0.96858502  0.10034974]]\n",
      "[ 1.994812] [[-1.23855376 -0.96474015 -0.3336656 ]]\n",
      "[ 1.91931544] [[-1.27540934 -0.95493707 -0.76278701]]\n",
      "[ 1.75095889] [[-1.33236413 -0.93675983 -1.1958806 ]]\n",
      "[ 1.4902311] [[-1.40852559 -0.90635361 -1.64059474]]\n",
      "[ 1.14852794] [[-1.50200677 -0.85846772 -2.10161339]]\n",
      "[ 0.75495958] [[-1.60901179 -0.78676139 -2.57797309]]\n",
      "[ 0.35915305] [[-1.72276141 -0.68469219 -3.0595883 ]]\n",
      "[ 0.02500114] [[-1.83270968 -0.54729506 -3.52402258]]\n",
      "[-0.1837144] [[-1.9248889  -0.37380374 -3.93553181]]\n",
      "[-0.21544838] [[-1.98425228 -0.17027181 -4.24822988]]\n",
      "[-0.03396838] [[-1.99905251  0.04943486 -4.4130391 ]]\n",
      "[ 0.37324374] [[-1.96576115  0.26574112 -4.38584632]]\n",
      "[ 0.95956067] [[-1.89194455  0.45848874 -4.13534202]]\n",
      "[ 1.57138055] [[-1.79500924  0.61295475 -3.65232947]]\n",
      "[ 1.95968791] [[-1.69681212  0.72361804 -2.96169443]]\n",
      "[ 1.91764134] [[-1.61663018  0.79362113 -2.12981581]]\n",
      "[ 1.45578463] [[-1.5661841   0.83064895 -1.25174187]]\n",
      "[ 0.78990589] [[-1.54895261  0.84222423 -0.41517556]]\n",
      "[ 0.14645585] [[-1.56267649  0.83304745  0.33019039]]\n",
      "[-0.36085833] [[-1.60217835  0.80473036  0.97215625]]\n",
      "[-0.71247693] [[-1.66093541  0.75680898  1.51678717]]\n",
      "[-0.92767072] [[-1.73162221  0.68807258  1.97273426]]\n"
     ]
    }
   ],
   "source": [
    "observations = env.reset(whichVersion = 1)\n",
    "predictionPDF = np.reshape(observations, ([1,3]))\n",
    "print policyParameters\n",
    "\n",
    "# policyParameters = np.array([ 0.00875598,  0.25458643, -0.95027489,  6.63289069])\n",
    "# policyParameters = np.reshape(policyParameters, ([1,4]))\n",
    "# # observations = env.state(inputTheta = initialStates[0,0], inputThetaDot = initialStates[0.1])\n",
    "for i in range (100):\n",
    "    env.render()\n",
    "    observations = np.reshape(observations, ([1,3]))\n",
    "    action = action_fromPolicy(policyParameters, observations)\n",
    "    action = np.array([action])\n",
    "    \n",
    "    bufferActionToTake = np.reshape(action, ([1,1]))\n",
    "    bufferInputs_policy = np.append(bufferActionToTake, predictionPDF, axis = 1) \n",
    "    \n",
    "    print action, observations-predictionPDF\n",
    "    \n",
    "#     predictionPDF = m_dynamics.predict(bufferInputs_policy)[0]\n",
    "    observations, rewards, done, info = env.step(action)"
   ]
  },
  {
   "cell_type": "code",
   "execution_count": null,
   "metadata": {
    "collapsed": true
   },
   "outputs": [],
   "source": []
  },
  {
   "cell_type": "code",
   "execution_count": null,
   "metadata": {
    "collapsed": true
   },
   "outputs": [],
   "source": []
  }
 ],
 "metadata": {
  "kernelspec": {
   "display_name": "Python [Root]",
   "language": "python",
   "name": "Python [Root]"
  },
  "language_info": {
   "codemirror_mode": {
    "name": "ipython",
    "version": 2
   },
   "file_extension": ".py",
   "mimetype": "text/x-python",
   "name": "python",
   "nbconvert_exporter": "python",
   "pygments_lexer": "ipython2",
   "version": "2.7.12"
  }
 },
 "nbformat": 4,
 "nbformat_minor": 1
}
