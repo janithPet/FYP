{
 "cells": [
  {
   "cell_type": "code",
   "execution_count": 1,
   "metadata": {
    "collapsed": true
   },
   "outputs": [],
   "source": [
    "%matplotlib inline\n",
    "\n",
    "import gym\n",
    "import GPy\n",
    "import GPyOpt\n",
    "import numpy as np\n",
    "\n",
    "import matplotlib.pyplot as plt\n",
    "from mpl_toolkits.mplot3d import Axes3D\n",
    "from matplotlib import cm\n",
    "\n",
    "import gympy"
   ]
  },
  {
   "cell_type": "code",
   "execution_count": 2,
   "metadata": {
    "collapsed": false
   },
   "outputs": [
    {
     "name": "stdout",
     "output_type": "stream",
     "text": [
      "Please enter the environment: \n"
     ]
    },
    {
     "name": "stderr",
     "output_type": "stream",
     "text": [
      "[2016-11-24 19:31:27,762] Making new env: Pendulum-v0\n"
     ]
    }
   ],
   "source": [
    "env, observations, inputsNumpy, observationsNumpy, rewardsNumpy, action, predictionPDF = gympy.setupEnvironment(defaultEnvironment = 'Pendulum-v0', whichVersion = 0)\n",
    "k_dynamics = GPy.kern.RBF(input_dim=4, variance=1., lengthscale=1.)\n",
    "k_rewards = GPy.kern.RBF(input_dim=3, variance=1., lengthscale=1.)\n",
    "\n",
    "def action_fromPolicy(policyParameters, bufferObservations_policy):\n",
    "    actionToTake_policy = 0\n",
    "    [r,c] = policyParameters.shape\n",
    "    for i in range(c):\n",
    "        if i < c-1:\n",
    "            actionToTake_policy = actionToTake_policy + (bufferObservations_policy[0,i] * policyParameters[0,i])\n",
    "        else:\n",
    "            actionToTake_policy = actionToTake_policy + policyParameters[0,i]\n",
    "    actionToTake_policy = 2 * ((9/8)*np.sin(actionToTake_policy) + (1/8)*np.sin(3*actionToTake_policy))         \n",
    "\n",
    "    return actionToTake_policy\n",
    "\n"
   ]
  },
  {
   "cell_type": "code",
   "execution_count": 3,
   "metadata": {
    "collapsed": false
   },
   "outputs": [
    {
     "name": "stderr",
     "output_type": "stream",
     "text": [
      "[2016-11-24 19:31:28,079] initializing Y\n",
      "[2016-11-24 19:31:28,080] initializing inference method\n",
      "[2016-11-24 19:31:28,080] adding kernel and likelihood as parameters\n"
     ]
    }
   ],
   "source": [
    "totalIterations = 100\n",
    "counter = 1\n",
    "policyParameters = np.array([[-0.49200146,  0.23965896,  1,         -8.94638503]])\n",
    "\n",
    "for attempt in range(500):\n",
    "    if attempt%100 == 0:\n",
    "        observations = env.reset(whichVersion=1)\n",
    "    \n",
    "    bufferObservations = np.reshape(observations, ([1,3]))\n",
    "    actionToTake = action_fromPolicy(policyParameters, bufferObservations)\n",
    "    actionToTake_random = env.action_space.sample()\n",
    "    \n",
    "    inputsNumpy, bufferInput = gympy.appendInputArray(inputsNumpy, actionToTake_random, observations, attempt)\n",
    "    \n",
    "    actionToTake = np.array([actionToTake])\n",
    "    \n",
    "    [observationsNumpy, bufferObservations] = gympy.appendObservationsArray(observationsNumpy, observations, attempt)\n",
    "    \n",
    "    observations, rewards, done, info = env.step(actionToTake)\n",
    "    \n",
    "m_dynamics = gympy.generateModel(inputsNumpy, observationsNumpy, k_dynamics)\n",
    "m_dynamics.optimize()"
   ]
  },
  {
   "cell_type": "code",
   "execution_count": 5,
   "metadata": {
    "collapsed": false,
    "scrolled": false
   },
   "outputs": [
    {
     "name": "stderr",
     "output_type": "stream",
     "text": [
      "[2016-11-24 19:35:28,131] initializing Y\n",
      "[2016-11-24 19:35:28,132] initializing inference method\n",
      "[2016-11-24 19:35:28,132] adding kernel and likelihood as parameters\n"
     ]
    },
    {
     "name": "stdout",
     "output_type": "stream",
     "text": [
      "(1051, 4) (1,) [  9.99999895e-01  -4.59233585e-04   0.00000000e+00]\n",
      "training GP model\n",
      "(1084, 4) (2,) [ 0.99996332  0.00856449  0.        ]\n",
      "(1107, 4) (3,) [ 0.99998955 -0.00457138  0.        ]\n",
      "(1155, 4) (4,) [ 0.99999646 -0.00265968  0.        ]\n",
      "(1194, 4) (5,) [  9.99999705e-01  -7.68478497e-04   0.00000000e+00]\n",
      "(1228, 4) (6,) [ 0.99999801  0.00199515  0.        ]\n",
      "(1257, 4) (7,) [ 0.99999573  0.00292164  0.        ]\n",
      "(1285, 4) (8,) [  9.99999951e-01  -3.13228993e-04   0.00000000e+00]\n",
      "(1318, 4) (9,) [ 0.99999786  0.00206975  0.        ]\n",
      "(1347, 4) (10,) [ 0.99998963 -0.0045547   0.        ]\n",
      "(1395, 4) (11,) [ 0.99997764  0.00668721  0.        ]\n",
      "(1419, 4) (12,) [ 0.99997745 -0.00671575  0.        ]\n",
      "(1474, 4) (13,) [ 0.99996961  0.00779614  0.        ]\n",
      "(1497, 4) (14,) [ 0.99999686  0.0025059   0.        ]\n",
      "(1526, 4) (15,) [ 0.99997372 -0.00724946  0.        ]\n",
      "(1575, 4) (16,) [ 0.99997042  0.00769143  0.        ]\n",
      "(1598, 4) (17,) [ 0.99996851 -0.0079363   0.        ]\n",
      "(1642, 4) (18,) [ 0.99997855 -0.00654928  0.        ]\n",
      "(1700, 4) (19,) [ 0.99999635  0.00270098  0.        ]\n",
      "(1728, 4) (20,) [ 0.99998321  0.00579566  0.        ]\n",
      "(1753, 4) (21,) [ 0.99998819  0.00485986  0.        ]\n",
      "(1779, 4) (22,) [ 0.99996834  0.00795793  0.        ]\n",
      "(1802, 4) (23,) [ 0.99999717  0.00238052  0.        ]\n",
      "(1831, 4) (24,) [  9.99999988e-01  -1.56949921e-04   0.00000000e+00]\n",
      "(1864, 4) (25,) [ 0.99998454  0.00556077  0.        ]\n",
      "(1889, 4) (26,) [ 0.99999653 -0.00263486  0.        ]\n",
      "(1928, 4) (27,) [ 0.9999841  -0.00563872  0.        ]\n"
     ]
    },
    {
     "name": "stderr",
     "output_type": "stream",
     "text": [
      "[2016-11-24 19:35:36,323] initializing Y\n",
      "[2016-11-24 19:35:36,324] initializing inference method\n",
      "[2016-11-24 19:35:36,325] adding kernel and likelihood as parameters\n"
     ]
    },
    {
     "name": "stdout",
     "output_type": "stream",
     "text": [
      "(1991, 4) (28,) [ 0.99998713  0.00507325  0.        ]\n",
      "(2017, 4) (29,) [ 0.99998859  0.00477736  0.        ]\n",
      "(2043, 4) (30,) [ 0.99997528  0.00703095  0.        ]\n",
      "(2067, 4) (31,) [ 0.99997207  0.00747452  0.        ]\n",
      "training GP model\n",
      "(2091, 4) (32,) [ 0.99999589 -0.00286664  0.        ]\n",
      "(2131, 4) (33,) [ 0.99997715 -0.00675988  0.        ]\n",
      "(2185, 4) (34,) [ 0.99999815  0.00192476  0.        ]\n",
      "(2215, 4) (35,) [ 0.99999208 -0.00397931  0.        ]\n",
      "(2260, 4) (36,) [ 0.99998523  0.00543545  0.        ]\n",
      "(2285, 4) (37,) [ 0.99997479 -0.00710113  0.        ]\n",
      "(2335, 4) (38,) [  9.99999913e-01  -4.16134843e-04   0.00000000e+00]\n",
      "(2368, 4) (39,) [ 0.99997337  0.00729853  0.        ]\n",
      "(2392, 4) (40,) [ 0.99999921 -0.00126033  0.        ]\n",
      "(2427, 4) (41,) [ 0.99997338 -0.0072967   0.        ]\n",
      "(2475, 4) (42,) [ 0.99999346  0.003618    0.        ]\n",
      "(2502, 4) (43,) [ 0.99999836 -0.00181206  0.        ]\n",
      "(2539, 4) (44,) [ 0.99999781  0.0020941   0.        ]\n",
      "(2568, 4) (45,) [ 0.9999991  -0.00134045  0.        ]\n",
      "(2603, 4) (46,) [ 0.99998643  0.00521034  0.        ]\n",
      "(2629, 4) (47,) [ 0.9999908   0.00429029  0.        ]\n",
      "(2656, 4) (48,) [ 0.99997987 -0.00634573  0.        ]\n",
      "(2719, 4) (49,) [  9.99999847e-01   5.52414527e-04   0.00000000e+00]\n",
      "(2751, 4) (50,) [ 0.99996702  0.00812173  0.        ]\n",
      "(2774, 4) (51,) [ 0.99998801 -0.00489706  0.        ]\n",
      "(2825, 4) (52,) [ 0.99997586  0.00694876  0.        ]\n",
      "(2849, 4) (53,) [ 0.99999401  0.00346061  0.        ]\n",
      "(2877, 4) (54,) [ 0.99998456 -0.00555678  0.        ]\n",
      "(2938, 4) (55,) [  9.99999736e-01   7.27033694e-04   0.00000000e+00]\n",
      "(2969, 4) (56,) [ 0.99997979  0.00635799  0.        ]\n",
      "(2994, 4) (57,) [ 0.99997345  0.00728711  0.        ]\n",
      "(3018, 4) (58,) [ 0.99999837  0.00180498  0.        ]\n",
      "(3048, 4) (59,) [ 0.99996849  0.0079388   0.        ]\n",
      "(3071, 4) (60,) [ 0.99996443  0.00843483  0.        ]\n"
     ]
    },
    {
     "name": "stderr",
     "output_type": "stream",
     "text": [
      "[2016-11-24 19:35:49,556] initializing Y\n",
      "[2016-11-24 19:35:49,556] initializing inference method\n",
      "[2016-11-24 19:35:49,557] adding kernel and likelihood as parameters\n"
     ]
    },
    {
     "name": "stdout",
     "output_type": "stream",
     "text": [
      "training GP model\n",
      "(3094, 4) (61,) [ 0.99998336 -0.00576843  0.        ]\n",
      "(3162, 4) (62,) [ 0.99997628  0.00688817  0.        ]\n",
      "(3186, 4) (63,) [  9.99999611e-01  -8.82093502e-04   0.00000000e+00]\n",
      "(3220, 4) (64,) [ 0.99997347 -0.0072844   0.        ]\n",
      "(3268, 4) (65,) [ 0.99999529  0.00306872  0.        ]\n",
      "(3296, 4) (66,) [ 0.99998782 -0.00493646  0.        ]\n",
      "(3348, 4) (67,) [ 0.99998205  0.00599082  0.        ]\n",
      "(3373, 4) (68,) [ 0.99998833  0.00483105  0.        ]\n",
      "(3399, 4) (69,) [ 0.9999773  -0.00673734  0.        ]\n",
      "(3453, 4) (70,) [ 0.99999734  0.00230537  0.        ]\n",
      "(3482, 4) (71,) [  9.99999871e-01  -5.06975146e-04   0.00000000e+00]\n",
      "(3516, 4) (72,) [ 0.99998508 -0.0054617   0.        ]\n",
      "(3575, 4) (73,) [ 0.9999897   0.00453945  0.        ]\n",
      "(3601, 4) (74,) [ 0.99998548 -0.00538948  0.        ]\n",
      "(3659, 4) (75,) [ 0.99999375 -0.00353635  0.        ]\n",
      "(3701, 4) (76,) [ 0.99998866  0.00476174  0.        ]\n",
      "(3727, 4) (77,) [ 0.99996477 -0.00839453  0.        ]\n",
      "(3768, 4) (78,) [ 0.99999921 -0.00125591  0.        ]\n",
      "(3803, 4) (79,) [ 0.99997482 -0.00709661  0.        ]\n",
      "(3853, 4) (80,) [ 0.9999825   0.00591588  0.        ]\n",
      "(3878, 4) (81,) [  9.99999908e-01   4.28729153e-04   0.00000000e+00]\n",
      "(3910, 4) (82,) [  9.99999565e-01   9.32579713e-04   0.00000000e+00]\n",
      "(3941, 4) (83,) [ 0.99998735 -0.00502997  0.        ]\n",
      "(3994, 4) (84,) [ 0.99997027 -0.00771124  0.        ]\n",
      "(4039, 4) (85,) [  9.99999982e-01   1.91238589e-04   0.00000000e+00]\n",
      "(4071, 4) (86,) [ 0.99996824 -0.00797043  0.        ]\n"
     ]
    },
    {
     "name": "stderr",
     "output_type": "stream",
     "text": [
      "[2016-11-24 19:38:18,595] initializing Y\n",
      "[2016-11-24 19:38:18,596] initializing inference method\n",
      "[2016-11-24 19:38:18,597] adding kernel and likelihood as parameters\n"
     ]
    },
    {
     "name": "stdout",
     "output_type": "stream",
     "text": [
      "training GP model\n",
      "(4114, 4) (87,) [ 0.99996305 -0.00859619  0.        ]\n",
      "(4154, 4) (88,) [ 0.99997858  0.00654505  0.        ]\n",
      "(4178, 4) (89,) [ 0.99999679  0.0025332   0.        ]\n",
      "(4207, 4) (90,) [ 0.99997928  0.00643734  0.        ]\n",
      "(4232, 4) (91,) [ 0.99999562  0.00295931  0.        ]\n",
      "(4260, 4) (92,) [ 0.99999784  0.00208074  0.        ]\n",
      "(4289, 4) (93,) [  9.99999795e-01  -6.40872641e-04   0.00000000e+00]\n",
      "(4323, 4) (94,) [ 0.99999695  0.00247111  0.        ]\n",
      "(4352, 4) (95,) [ 0.99997409  0.00719849  0.        ]\n",
      "(4376, 4) (96,) [ 0.99997408  0.00719983  0.        ]\n",
      "(4400, 4) (97,) [  9.99999911e-01   4.20746641e-04   0.00000000e+00]\n",
      "(4432, 4) (98,) [ 0.99997209 -0.00747131  0.        ]\n",
      "(4479, 4) (99,) [ 0.99999115 -0.0042069   0.        ]\n",
      "(4525, 4) (100,) [ 0.99999883  0.00153156  0.        ]\n",
      "(4555, 4) (101,) [ 0.99999571  0.00292972  0.        ]\n",
      "(4583, 4) (102,) [ 0.99999743 -0.00226525  0.        ]\n",
      "(4621, 4) (103,) [ 0.99999945  0.00105196  0.        ]\n",
      "(4652, 4) (104,) [ 0.99998143  0.00609344  0.        ]\n",
      "(4677, 4) (105,) [ 0.99999832  0.00183324  0.        ]\n",
      "(4707, 4) (106,) [ 0.99998819 -0.00486068  0.        ]\n",
      "(4758, 4) (107,) [ 0.99999893  0.00146019  0.        ]\n",
      "(4788, 4) (108,) [ 0.9999853   0.00542209  0.        ]\n",
      "(4813, 4) (109,) [ 0.99998394 -0.00566752  0.        ]\n",
      "(4877, 4) (110,) [ 0.99998705 -0.00508959  0.        ]\n",
      "(4930, 4) (111,) [ 0.99997965  0.00637954  0.        ]\n",
      "(4955, 4) (112,) [ 0.99998579  0.0053308   0.        ]\n",
      "(4981, 4) (113,) [ 0.99998807 -0.0048851   0.        ]\n",
      "(5032, 4) (114,) [ 0.9999636  -0.00853269  0.        ]\n",
      "(5073, 4) (115,) [ 0.99997729 -0.00673953  0.        ]\n"
     ]
    },
    {
     "name": "stderr",
     "output_type": "stream",
     "text": [
      "[2016-11-24 19:40:10,231] initializing Y\n",
      "[2016-11-24 19:40:10,233] initializing inference method\n",
      "[2016-11-24 19:40:10,233] adding kernel and likelihood as parameters\n"
     ]
    },
    {
     "name": "stdout",
     "output_type": "stream",
     "text": [
      "training GP model\n",
      "(5127, 4) (116,) [ 0.99999934  0.00114679  0.        ]\n",
      "(5158, 4) (117,) [ 0.99997781  0.00666128  0.        ]\n",
      "(5182, 4) (118,) [ 0.99997964 -0.00638168  0.        ]\n",
      "(5244, 4) (119,) [ 0.99998385 -0.0056833   0.        ]\n",
      "(5309, 4) (120,) [ 0.99999478 -0.00323095  0.        ]\n",
      "(5350, 4) (121,) [ 0.99999821 -0.0018901   0.        ]\n",
      "(5387, 4) (122,) [ 0.99999512  0.00312531  0.        ]\n",
      "(5415, 4) (123,) [ 0.99997821 -0.00660146  0.        ]\n",
      "(5472, 4) (124,) [ 0.99996658  0.00817603  0.        ]\n",
      "(5495, 4) (125,) [ 0.99999759  0.00219382  0.        ]\n",
      "(5524, 4) (126,) [ 0.99998918  0.00465091  0.        ]\n",
      "(5550, 4) (127,) [  9.99999889e-01   4.71895656e-04   0.00000000e+00]\n",
      "(5582, 4) (128,) [ 0.99997598 -0.00693145  0.        ]\n",
      "(5634, 4) (129,) [ 0.99999845 -0.00176351  0.        ]\n",
      "(5670, 4) (130,) [ 0.99999474  0.00324311  0.        ]\n",
      "(5698, 4) (131,) [ 0.99998226 -0.00595716  0.        ]\n",
      "(5782, 4) (132,) [ 0.99998327 -0.0057844   0.        ]\n",
      "(5851, 4) (133,) [ 0.99999704  0.00243434  0.        ]\n",
      "(5880, 4) (134,) [ 0.99997684 -0.00680622  0.        ]\n",
      "(5933, 4) (135,) [ 0.99998231  0.00594803  0.        ]\n",
      "(5958, 4) (136,) [ 0.99999714  0.00239128  0.        ]\n",
      "(5987, 4) (137,) [ 0.99997788  0.00665057  0.        ]\n",
      "(6011, 4) (138,) [ 0.99999229  0.00392774  0.        ]\n",
      "(6038, 4) (139,) [ 0.99996809  0.0079891   0.        ]\n",
      "(6061, 4) (140,) [ 0.99999775  0.00212086  0.        ]\n",
      "(6090, 4) (141,) [ 0.99996759  0.00805117  0.        ]\n",
      "(6113, 4) (142,) [ 0.99998734 -0.00503094  0.        ]\n"
     ]
    },
    {
     "name": "stderr",
     "output_type": "stream",
     "text": [
      "[2016-11-24 19:42:43,683] initializing Y\n",
      "[2016-11-24 19:42:43,683] initializing inference method\n",
      "[2016-11-24 19:42:43,684] adding kernel and likelihood as parameters\n"
     ]
    },
    {
     "name": "stdout",
     "output_type": "stream",
     "text": [
      "training GP model\n",
      "(6166, 4) (143,) [ 0.99999868  0.00162258  0.        ]\n",
      "(6196, 4) (144,) [ 0.99998847  0.00480131  0.        ]\n",
      "(6222, 4) (145,) [ 0.99999914 -0.00131055  0.        ]\n",
      "(6257, 4) (146,) [ 0.99999938 -0.00111528  0.        ]\n",
      "(6292, 4) (147,) [ 0.99999178 -0.00405401  0.        ]\n",
      "(6337, 4) (148,) [ 0.9999949   0.00319265  0.        ]\n",
      "(6365, 4) (149,) [ 0.99996666  0.00816573  0.        ]\n",
      "(6388, 4) (150,) [ 0.99999403  0.00345419  0.        ]\n",
      "(6416, 4) (151,) [ 0.99999142  0.00414337  0.        ]\n",
      "(6443, 4) (152,) [ 0.99999725 -0.00234497  0.        ]\n",
      "(6481, 4) (153,) [ 0.99998639  0.00521801  0.        ]\n",
      "(6507, 4) (154,) [ 0.99999515 -0.00311467  0.        ]\n",
      "(6548, 4) (155,) [ 0.99999723 -0.0023552   0.        ]\n",
      "(6586, 4) (156,) [ 0.99996688  0.0081385   0.        ]\n",
      "(6609, 4) (157,) [ 0.99996745  0.00806833  0.        ]\n",
      "(6632, 4) (158,) [ 0.99999604 -0.00281306  0.        ]\n",
      "(6672, 4) (159,) [ 0.99998113 -0.00614278  0.        ]\n",
      "(6746, 4) (160,) [ 0.99998272  0.00587803  0.        ]\n",
      "(6771, 4) (161,) [ 0.99998837 -0.00482189  0.        ]\n",
      "(6822, 4) (162,) [ 0.99999595 -0.00284577  0.        ]\n",
      "(6862, 4) (163,) [ 0.99996984  0.00776628  0.        ]\n",
      "(6885, 4) (164,) [ 0.99996404 -0.00848092  0.        ]\n",
      "(6926, 4) (165,) [ 0.99998799  0.00490031  0.        ]\n",
      "(6952, 4) (166,) [ 0.99999239  0.00390045  0.        ]\n",
      "(6979, 4) (167,) [ 0.99998028  0.00627998  0.        ]\n",
      "(7004, 4) (168,) [ 0.99997967 -0.00637727  0.        ]\n",
      "(7066, 4) (169,) [ 0.99998815  0.00486834  0.        ]\n",
      "(7092, 4) (170,) [ 0.99999935  0.00113721  0.        ]\n",
      "(7123, 4) (171,) [ 0.99998045  0.00625242  0.        ]\n",
      "(7148, 4) (172,) [ 0.99996974 -0.00777935  0.        ]\n"
     ]
    },
    {
     "name": "stderr",
     "output_type": "stream",
     "text": [
      "[2016-11-24 19:49:06,109] initializing Y\n",
      "[2016-11-24 19:49:06,110] initializing inference method\n",
      "[2016-11-24 19:49:06,111] adding kernel and likelihood as parameters\n"
     ]
    },
    {
     "name": "stdout",
     "output_type": "stream",
     "text": [
      "training GP model\n",
      "KeyboardInterrupt caught, calling on_optimization_end() to round things up\n"
     ]
    },
    {
     "ename": "KeyboardInterrupt",
     "evalue": "",
     "output_type": "error",
     "traceback": [
      "\u001b[0;31m---------------------------------------------------------------------------\u001b[0m",
      "\u001b[0;31mKeyboardInterrupt\u001b[0m                         Traceback (most recent call last)",
      "\u001b[0;32m<ipython-input-5-760d22e95fcd>\u001b[0m in \u001b[0;36m<module>\u001b[0;34m()\u001b[0m\n\u001b[1;32m     45\u001b[0m     \u001b[0;32mif\u001b[0m \u001b[0minputsNumpy\u001b[0m\u001b[0;34m.\u001b[0m\u001b[0mshape\u001b[0m\u001b[0;34m[\u001b[0m\u001b[0;36m0\u001b[0m\u001b[0;34m]\u001b[0m \u001b[0;34m-\u001b[0m \u001b[0mmodelCounter\u001b[0m \u001b[0;34m>=\u001b[0m \u001b[0;36m1000\u001b[0m\u001b[0;34m:\u001b[0m\u001b[0;34m\u001b[0m\u001b[0m\n\u001b[1;32m     46\u001b[0m         \u001b[0;32mprint\u001b[0m \u001b[0;34m'training GP model'\u001b[0m\u001b[0;34m\u001b[0m\u001b[0m\n\u001b[0;32m---> 47\u001b[0;31m         \u001b[0mm_dynamics\u001b[0m \u001b[0;34m=\u001b[0m \u001b[0mgympy\u001b[0m\u001b[0;34m.\u001b[0m\u001b[0mgenerateModel\u001b[0m\u001b[0;34m(\u001b[0m\u001b[0minputsNumpy\u001b[0m\u001b[0;34m,\u001b[0m \u001b[0mobservationsNumpy\u001b[0m\u001b[0;34m,\u001b[0m \u001b[0mk_dynamics\u001b[0m\u001b[0;34m)\u001b[0m\u001b[0;34m\u001b[0m\u001b[0m\n\u001b[0m\u001b[1;32m     48\u001b[0m         \u001b[0mm_dynamics\u001b[0m\u001b[0;34m.\u001b[0m\u001b[0moptimize\u001b[0m\u001b[0;34m(\u001b[0m\u001b[0;34m)\u001b[0m\u001b[0;34m\u001b[0m\u001b[0m\n\u001b[1;32m     49\u001b[0m         \u001b[0mmodelCounter\u001b[0m \u001b[0;34m=\u001b[0m \u001b[0minputsNumpy\u001b[0m\u001b[0;34m.\u001b[0m\u001b[0mshape\u001b[0m\u001b[0;34m[\u001b[0m\u001b[0;36m0\u001b[0m\u001b[0;34m]\u001b[0m\u001b[0;34m\u001b[0m\u001b[0m\n",
      "\u001b[0;32m/home/janith_p/FYP/Github/FYP/Code/Semester1/gympy_1/gympy.pyc\u001b[0m in \u001b[0;36mgenerateModel\u001b[0;34m(inputsNumpy, observationsNumpy, k)\u001b[0m\n\u001b[1;32m    118\u001b[0m \u001b[0;32mdef\u001b[0m \u001b[0mgenerateModel\u001b[0m\u001b[0;34m(\u001b[0m\u001b[0minputsNumpy\u001b[0m\u001b[0;34m,\u001b[0m \u001b[0mobservationsNumpy\u001b[0m\u001b[0;34m,\u001b[0m \u001b[0mk\u001b[0m\u001b[0;34m)\u001b[0m\u001b[0;34m:\u001b[0m\u001b[0;34m\u001b[0m\u001b[0m\n\u001b[1;32m    119\u001b[0m     \u001b[0mm\u001b[0m \u001b[0;34m=\u001b[0m \u001b[0mGPy\u001b[0m\u001b[0;34m.\u001b[0m\u001b[0mmodels\u001b[0m\u001b[0;34m.\u001b[0m\u001b[0mGPRegression\u001b[0m\u001b[0;34m(\u001b[0m\u001b[0minputsNumpy\u001b[0m\u001b[0;34m,\u001b[0m \u001b[0mobservationsNumpy\u001b[0m\u001b[0;34m,\u001b[0m \u001b[0mk\u001b[0m\u001b[0;34m)\u001b[0m\u001b[0;34m\u001b[0m\u001b[0m\n\u001b[0;32m--> 120\u001b[0;31m     \u001b[0mm\u001b[0m\u001b[0;34m.\u001b[0m\u001b[0moptimize\u001b[0m\u001b[0;34m(\u001b[0m\u001b[0;34m)\u001b[0m\u001b[0;34m\u001b[0m\u001b[0m\n\u001b[0m\u001b[1;32m    121\u001b[0m \u001b[0;34m\u001b[0m\u001b[0m\n\u001b[1;32m    122\u001b[0m     \u001b[0;32mreturn\u001b[0m \u001b[0mm\u001b[0m\u001b[0;34m\u001b[0m\u001b[0m\n",
      "\u001b[0;32m/home/janith_p/anaconda2/lib/python2.7/site-packages/GPy/core/gp.pyc\u001b[0m in \u001b[0;36moptimize\u001b[0;34m(self, optimizer, start, messages, max_iters, ipython_notebook, clear_after_finish, **kwargs)\u001b[0m\n\u001b[1;32m    555\u001b[0m         \u001b[0mself\u001b[0m\u001b[0;34m.\u001b[0m\u001b[0minference_method\u001b[0m\u001b[0;34m.\u001b[0m\u001b[0mon_optimization_start\u001b[0m\u001b[0;34m(\u001b[0m\u001b[0;34m)\u001b[0m\u001b[0;34m\u001b[0m\u001b[0m\n\u001b[1;32m    556\u001b[0m         \u001b[0;32mtry\u001b[0m\u001b[0;34m:\u001b[0m\u001b[0;34m\u001b[0m\u001b[0m\n\u001b[0;32m--> 557\u001b[0;31m             \u001b[0msuper\u001b[0m\u001b[0;34m(\u001b[0m\u001b[0mGP\u001b[0m\u001b[0;34m,\u001b[0m \u001b[0mself\u001b[0m\u001b[0;34m)\u001b[0m\u001b[0;34m.\u001b[0m\u001b[0moptimize\u001b[0m\u001b[0;34m(\u001b[0m\u001b[0moptimizer\u001b[0m\u001b[0;34m,\u001b[0m \u001b[0mstart\u001b[0m\u001b[0;34m,\u001b[0m \u001b[0mmessages\u001b[0m\u001b[0;34m,\u001b[0m \u001b[0mmax_iters\u001b[0m\u001b[0;34m,\u001b[0m \u001b[0mipython_notebook\u001b[0m\u001b[0;34m,\u001b[0m \u001b[0mclear_after_finish\u001b[0m\u001b[0;34m,\u001b[0m \u001b[0;34m**\u001b[0m\u001b[0mkwargs\u001b[0m\u001b[0;34m)\u001b[0m\u001b[0;34m\u001b[0m\u001b[0m\n\u001b[0m\u001b[1;32m    558\u001b[0m         \u001b[0;32mexcept\u001b[0m \u001b[0mKeyboardInterrupt\u001b[0m\u001b[0;34m:\u001b[0m\u001b[0;34m\u001b[0m\u001b[0m\n\u001b[1;32m    559\u001b[0m             \u001b[0;32mprint\u001b[0m\u001b[0;34m(\u001b[0m\u001b[0;34m\"KeyboardInterrupt caught, calling on_optimization_end() to round things up\"\u001b[0m\u001b[0;34m)\u001b[0m\u001b[0;34m\u001b[0m\u001b[0m\n",
      "\u001b[0;32m/home/janith_p/anaconda2/lib/python2.7/site-packages/paramz/model.pyc\u001b[0m in \u001b[0;36moptimize\u001b[0;34m(self, optimizer, start, messages, max_iters, ipython_notebook, clear_after_finish, **kwargs)\u001b[0m\n\u001b[1;32m    102\u001b[0m \u001b[0;34m\u001b[0m\u001b[0m\n\u001b[1;32m    103\u001b[0m         \u001b[0;32mwith\u001b[0m \u001b[0mVerboseOptimization\u001b[0m\u001b[0;34m(\u001b[0m\u001b[0mself\u001b[0m\u001b[0;34m,\u001b[0m \u001b[0mopt\u001b[0m\u001b[0;34m,\u001b[0m \u001b[0mmaxiters\u001b[0m\u001b[0;34m=\u001b[0m\u001b[0mmax_iters\u001b[0m\u001b[0;34m,\u001b[0m \u001b[0mverbose\u001b[0m\u001b[0;34m=\u001b[0m\u001b[0mmessages\u001b[0m\u001b[0;34m,\u001b[0m \u001b[0mipython_notebook\u001b[0m\u001b[0;34m=\u001b[0m\u001b[0mipython_notebook\u001b[0m\u001b[0;34m,\u001b[0m \u001b[0mclear_after_finish\u001b[0m\u001b[0;34m=\u001b[0m\u001b[0mclear_after_finish\u001b[0m\u001b[0;34m)\u001b[0m \u001b[0;32mas\u001b[0m \u001b[0mvo\u001b[0m\u001b[0;34m:\u001b[0m\u001b[0;34m\u001b[0m\u001b[0m\n\u001b[0;32m--> 104\u001b[0;31m             \u001b[0mopt\u001b[0m\u001b[0;34m.\u001b[0m\u001b[0mrun\u001b[0m\u001b[0;34m(\u001b[0m\u001b[0mstart\u001b[0m\u001b[0;34m,\u001b[0m \u001b[0mf_fp\u001b[0m\u001b[0;34m=\u001b[0m\u001b[0mself\u001b[0m\u001b[0;34m.\u001b[0m\u001b[0m_objective_grads\u001b[0m\u001b[0;34m,\u001b[0m \u001b[0mf\u001b[0m\u001b[0;34m=\u001b[0m\u001b[0mself\u001b[0m\u001b[0;34m.\u001b[0m\u001b[0m_objective\u001b[0m\u001b[0;34m,\u001b[0m \u001b[0mfp\u001b[0m\u001b[0;34m=\u001b[0m\u001b[0mself\u001b[0m\u001b[0;34m.\u001b[0m\u001b[0m_grads\u001b[0m\u001b[0;34m)\u001b[0m\u001b[0;34m\u001b[0m\u001b[0m\n\u001b[0m\u001b[1;32m    105\u001b[0m \u001b[0;34m\u001b[0m\u001b[0m\n\u001b[1;32m    106\u001b[0m         \u001b[0mself\u001b[0m\u001b[0;34m.\u001b[0m\u001b[0moptimization_runs\u001b[0m\u001b[0;34m.\u001b[0m\u001b[0mappend\u001b[0m\u001b[0;34m(\u001b[0m\u001b[0mopt\u001b[0m\u001b[0;34m)\u001b[0m\u001b[0;34m\u001b[0m\u001b[0m\n",
      "\u001b[0;32m/home/janith_p/anaconda2/lib/python2.7/site-packages/paramz/optimization/optimization.pyc\u001b[0m in \u001b[0;36mrun\u001b[0;34m(self, x_init, **kwargs)\u001b[0m\n\u001b[1;32m     49\u001b[0m     \u001b[0;32mdef\u001b[0m \u001b[0mrun\u001b[0m\u001b[0;34m(\u001b[0m\u001b[0mself\u001b[0m\u001b[0;34m,\u001b[0m \u001b[0mx_init\u001b[0m\u001b[0;34m,\u001b[0m \u001b[0;34m**\u001b[0m\u001b[0mkwargs\u001b[0m\u001b[0;34m)\u001b[0m\u001b[0;34m:\u001b[0m\u001b[0;34m\u001b[0m\u001b[0m\n\u001b[1;32m     50\u001b[0m         \u001b[0mstart\u001b[0m \u001b[0;34m=\u001b[0m \u001b[0mdt\u001b[0m\u001b[0;34m.\u001b[0m\u001b[0mdatetime\u001b[0m\u001b[0;34m.\u001b[0m\u001b[0mnow\u001b[0m\u001b[0;34m(\u001b[0m\u001b[0;34m)\u001b[0m\u001b[0;34m\u001b[0m\u001b[0m\n\u001b[0;32m---> 51\u001b[0;31m         \u001b[0mself\u001b[0m\u001b[0;34m.\u001b[0m\u001b[0mopt\u001b[0m\u001b[0;34m(\u001b[0m\u001b[0mx_init\u001b[0m\u001b[0;34m,\u001b[0m \u001b[0;34m**\u001b[0m\u001b[0mkwargs\u001b[0m\u001b[0;34m)\u001b[0m\u001b[0;34m\u001b[0m\u001b[0m\n\u001b[0m\u001b[1;32m     52\u001b[0m         \u001b[0mend\u001b[0m \u001b[0;34m=\u001b[0m \u001b[0mdt\u001b[0m\u001b[0;34m.\u001b[0m\u001b[0mdatetime\u001b[0m\u001b[0;34m.\u001b[0m\u001b[0mnow\u001b[0m\u001b[0;34m(\u001b[0m\u001b[0;34m)\u001b[0m\u001b[0;34m\u001b[0m\u001b[0m\n\u001b[1;32m     53\u001b[0m         \u001b[0mself\u001b[0m\u001b[0;34m.\u001b[0m\u001b[0mtime\u001b[0m \u001b[0;34m=\u001b[0m \u001b[0mstr\u001b[0m\u001b[0;34m(\u001b[0m\u001b[0mend\u001b[0m \u001b[0;34m-\u001b[0m \u001b[0mstart\u001b[0m\u001b[0;34m)\u001b[0m\u001b[0;34m\u001b[0m\u001b[0m\n",
      "\u001b[0;32m/home/janith_p/anaconda2/lib/python2.7/site-packages/paramz/optimization/optimization.pyc\u001b[0m in \u001b[0;36mopt\u001b[0;34m(self, x_init, f_fp, f, fp)\u001b[0m\n\u001b[1;32m    122\u001b[0m             \u001b[0mopt_dict\u001b[0m\u001b[0;34m[\u001b[0m\u001b[0;34m'factr'\u001b[0m\u001b[0;34m]\u001b[0m \u001b[0;34m=\u001b[0m \u001b[0mself\u001b[0m\u001b[0;34m.\u001b[0m\u001b[0mbfgs_factor\u001b[0m\u001b[0;34m\u001b[0m\u001b[0m\n\u001b[1;32m    123\u001b[0m \u001b[0;34m\u001b[0m\u001b[0m\n\u001b[0;32m--> 124\u001b[0;31m         \u001b[0mopt_result\u001b[0m \u001b[0;34m=\u001b[0m \u001b[0moptimize\u001b[0m\u001b[0;34m.\u001b[0m\u001b[0mfmin_l_bfgs_b\u001b[0m\u001b[0;34m(\u001b[0m\u001b[0mf_fp\u001b[0m\u001b[0;34m,\u001b[0m \u001b[0mx_init\u001b[0m\u001b[0;34m,\u001b[0m \u001b[0mmaxfun\u001b[0m\u001b[0;34m=\u001b[0m\u001b[0mself\u001b[0m\u001b[0;34m.\u001b[0m\u001b[0mmax_iters\u001b[0m\u001b[0;34m,\u001b[0m \u001b[0mmaxiter\u001b[0m\u001b[0;34m=\u001b[0m\u001b[0mself\u001b[0m\u001b[0;34m.\u001b[0m\u001b[0mmax_iters\u001b[0m\u001b[0;34m,\u001b[0m \u001b[0;34m**\u001b[0m\u001b[0mopt_dict\u001b[0m\u001b[0;34m)\u001b[0m\u001b[0;34m\u001b[0m\u001b[0m\n\u001b[0m\u001b[1;32m    125\u001b[0m         \u001b[0mself\u001b[0m\u001b[0;34m.\u001b[0m\u001b[0mx_opt\u001b[0m \u001b[0;34m=\u001b[0m \u001b[0mopt_result\u001b[0m\u001b[0;34m[\u001b[0m\u001b[0;36m0\u001b[0m\u001b[0;34m]\u001b[0m\u001b[0;34m\u001b[0m\u001b[0m\n\u001b[1;32m    126\u001b[0m         \u001b[0mself\u001b[0m\u001b[0;34m.\u001b[0m\u001b[0mf_opt\u001b[0m \u001b[0;34m=\u001b[0m \u001b[0mf_fp\u001b[0m\u001b[0;34m(\u001b[0m\u001b[0mself\u001b[0m\u001b[0;34m.\u001b[0m\u001b[0mx_opt\u001b[0m\u001b[0;34m)\u001b[0m\u001b[0;34m[\u001b[0m\u001b[0;36m0\u001b[0m\u001b[0;34m]\u001b[0m\u001b[0;34m\u001b[0m\u001b[0m\n",
      "\u001b[0;32m/home/janith_p/anaconda2/lib/python2.7/site-packages/scipy/optimize/lbfgsb.pyc\u001b[0m in \u001b[0;36mfmin_l_bfgs_b\u001b[0;34m(func, x0, fprime, args, approx_grad, bounds, m, factr, pgtol, epsilon, iprint, maxfun, maxiter, disp, callback, maxls)\u001b[0m\n\u001b[1;32m    191\u001b[0m \u001b[0;34m\u001b[0m\u001b[0m\n\u001b[1;32m    192\u001b[0m     res = _minimize_lbfgsb(fun, x0, args=args, jac=jac, bounds=bounds,\n\u001b[0;32m--> 193\u001b[0;31m                            **opts)\n\u001b[0m\u001b[1;32m    194\u001b[0m     d = {'grad': res['jac'],\n\u001b[1;32m    195\u001b[0m          \u001b[0;34m'task'\u001b[0m\u001b[0;34m:\u001b[0m \u001b[0mres\u001b[0m\u001b[0;34m[\u001b[0m\u001b[0;34m'message'\u001b[0m\u001b[0;34m]\u001b[0m\u001b[0;34m,\u001b[0m\u001b[0;34m\u001b[0m\u001b[0m\n",
      "\u001b[0;32m/home/janith_p/anaconda2/lib/python2.7/site-packages/scipy/optimize/lbfgsb.pyc\u001b[0m in \u001b[0;36m_minimize_lbfgsb\u001b[0;34m(fun, x0, args, jac, bounds, disp, maxcor, ftol, gtol, eps, maxfun, maxiter, iprint, callback, maxls, **unknown_options)\u001b[0m\n\u001b[1;32m    328\u001b[0m                 \u001b[0;31m# minimization routine wants f and g at the current x\u001b[0m\u001b[0;34m\u001b[0m\u001b[0;34m\u001b[0m\u001b[0m\n\u001b[1;32m    329\u001b[0m                 \u001b[0;31m# Overwrite f and g:\u001b[0m\u001b[0;34m\u001b[0m\u001b[0;34m\u001b[0m\u001b[0m\n\u001b[0;32m--> 330\u001b[0;31m                 \u001b[0mf\u001b[0m\u001b[0;34m,\u001b[0m \u001b[0mg\u001b[0m \u001b[0;34m=\u001b[0m \u001b[0mfunc_and_grad\u001b[0m\u001b[0;34m(\u001b[0m\u001b[0mx\u001b[0m\u001b[0;34m)\u001b[0m\u001b[0;34m\u001b[0m\u001b[0m\n\u001b[0m\u001b[1;32m    331\u001b[0m         \u001b[0;32melif\u001b[0m \u001b[0mtask_str\u001b[0m\u001b[0;34m.\u001b[0m\u001b[0mstartswith\u001b[0m\u001b[0;34m(\u001b[0m\u001b[0;34mb'NEW_X'\u001b[0m\u001b[0;34m)\u001b[0m\u001b[0;34m:\u001b[0m\u001b[0;34m\u001b[0m\u001b[0m\n\u001b[1;32m    332\u001b[0m             \u001b[0;31m# new iteration\u001b[0m\u001b[0;34m\u001b[0m\u001b[0;34m\u001b[0m\u001b[0m\n",
      "\u001b[0;32m/home/janith_p/anaconda2/lib/python2.7/site-packages/scipy/optimize/lbfgsb.pyc\u001b[0m in \u001b[0;36mfunc_and_grad\u001b[0;34m(x)\u001b[0m\n\u001b[1;32m    276\u001b[0m     \u001b[0;32melse\u001b[0m\u001b[0;34m:\u001b[0m\u001b[0;34m\u001b[0m\u001b[0m\n\u001b[1;32m    277\u001b[0m         \u001b[0;32mdef\u001b[0m \u001b[0mfunc_and_grad\u001b[0m\u001b[0;34m(\u001b[0m\u001b[0mx\u001b[0m\u001b[0;34m)\u001b[0m\u001b[0;34m:\u001b[0m\u001b[0;34m\u001b[0m\u001b[0m\n\u001b[0;32m--> 278\u001b[0;31m             \u001b[0mf\u001b[0m \u001b[0;34m=\u001b[0m \u001b[0mfun\u001b[0m\u001b[0;34m(\u001b[0m\u001b[0mx\u001b[0m\u001b[0;34m,\u001b[0m \u001b[0;34m*\u001b[0m\u001b[0margs\u001b[0m\u001b[0;34m)\u001b[0m\u001b[0;34m\u001b[0m\u001b[0m\n\u001b[0m\u001b[1;32m    279\u001b[0m             \u001b[0mg\u001b[0m \u001b[0;34m=\u001b[0m \u001b[0mjac\u001b[0m\u001b[0;34m(\u001b[0m\u001b[0mx\u001b[0m\u001b[0;34m,\u001b[0m \u001b[0;34m*\u001b[0m\u001b[0margs\u001b[0m\u001b[0;34m)\u001b[0m\u001b[0;34m\u001b[0m\u001b[0m\n\u001b[1;32m    280\u001b[0m             \u001b[0;32mreturn\u001b[0m \u001b[0mf\u001b[0m\u001b[0;34m,\u001b[0m \u001b[0mg\u001b[0m\u001b[0;34m\u001b[0m\u001b[0m\n",
      "\u001b[0;32m/home/janith_p/anaconda2/lib/python2.7/site-packages/scipy/optimize/optimize.pyc\u001b[0m in \u001b[0;36mfunction_wrapper\u001b[0;34m(*wrapper_args)\u001b[0m\n\u001b[1;32m    287\u001b[0m     \u001b[0;32mdef\u001b[0m \u001b[0mfunction_wrapper\u001b[0m\u001b[0;34m(\u001b[0m\u001b[0;34m*\u001b[0m\u001b[0mwrapper_args\u001b[0m\u001b[0;34m)\u001b[0m\u001b[0;34m:\u001b[0m\u001b[0;34m\u001b[0m\u001b[0m\n\u001b[1;32m    288\u001b[0m         \u001b[0mncalls\u001b[0m\u001b[0;34m[\u001b[0m\u001b[0;36m0\u001b[0m\u001b[0;34m]\u001b[0m \u001b[0;34m+=\u001b[0m \u001b[0;36m1\u001b[0m\u001b[0;34m\u001b[0m\u001b[0m\n\u001b[0;32m--> 289\u001b[0;31m         \u001b[0;32mreturn\u001b[0m \u001b[0mfunction\u001b[0m\u001b[0;34m(\u001b[0m\u001b[0;34m*\u001b[0m\u001b[0;34m(\u001b[0m\u001b[0mwrapper_args\u001b[0m \u001b[0;34m+\u001b[0m \u001b[0margs\u001b[0m\u001b[0;34m)\u001b[0m\u001b[0;34m)\u001b[0m\u001b[0;34m\u001b[0m\u001b[0m\n\u001b[0m\u001b[1;32m    290\u001b[0m \u001b[0;34m\u001b[0m\u001b[0m\n\u001b[1;32m    291\u001b[0m     \u001b[0;32mreturn\u001b[0m \u001b[0mncalls\u001b[0m\u001b[0;34m,\u001b[0m \u001b[0mfunction_wrapper\u001b[0m\u001b[0;34m\u001b[0m\u001b[0m\n",
      "\u001b[0;32m/home/janith_p/anaconda2/lib/python2.7/site-packages/scipy/optimize/optimize.pyc\u001b[0m in \u001b[0;36m__call__\u001b[0;34m(self, x, *args)\u001b[0m\n\u001b[1;32m     61\u001b[0m     \u001b[0;32mdef\u001b[0m \u001b[0m__call__\u001b[0m\u001b[0;34m(\u001b[0m\u001b[0mself\u001b[0m\u001b[0;34m,\u001b[0m \u001b[0mx\u001b[0m\u001b[0;34m,\u001b[0m \u001b[0;34m*\u001b[0m\u001b[0margs\u001b[0m\u001b[0;34m)\u001b[0m\u001b[0;34m:\u001b[0m\u001b[0;34m\u001b[0m\u001b[0m\n\u001b[1;32m     62\u001b[0m         \u001b[0mself\u001b[0m\u001b[0;34m.\u001b[0m\u001b[0mx\u001b[0m \u001b[0;34m=\u001b[0m \u001b[0mnumpy\u001b[0m\u001b[0;34m.\u001b[0m\u001b[0masarray\u001b[0m\u001b[0;34m(\u001b[0m\u001b[0mx\u001b[0m\u001b[0;34m)\u001b[0m\u001b[0;34m.\u001b[0m\u001b[0mcopy\u001b[0m\u001b[0;34m(\u001b[0m\u001b[0;34m)\u001b[0m\u001b[0;34m\u001b[0m\u001b[0m\n\u001b[0;32m---> 63\u001b[0;31m         \u001b[0mfg\u001b[0m \u001b[0;34m=\u001b[0m \u001b[0mself\u001b[0m\u001b[0;34m.\u001b[0m\u001b[0mfun\u001b[0m\u001b[0;34m(\u001b[0m\u001b[0mx\u001b[0m\u001b[0;34m,\u001b[0m \u001b[0;34m*\u001b[0m\u001b[0margs\u001b[0m\u001b[0;34m)\u001b[0m\u001b[0;34m\u001b[0m\u001b[0m\n\u001b[0m\u001b[1;32m     64\u001b[0m         \u001b[0mself\u001b[0m\u001b[0;34m.\u001b[0m\u001b[0mjac\u001b[0m \u001b[0;34m=\u001b[0m \u001b[0mfg\u001b[0m\u001b[0;34m[\u001b[0m\u001b[0;36m1\u001b[0m\u001b[0;34m]\u001b[0m\u001b[0;34m\u001b[0m\u001b[0m\n\u001b[1;32m     65\u001b[0m         \u001b[0;32mreturn\u001b[0m \u001b[0mfg\u001b[0m\u001b[0;34m[\u001b[0m\u001b[0;36m0\u001b[0m\u001b[0;34m]\u001b[0m\u001b[0;34m\u001b[0m\u001b[0m\n",
      "\u001b[0;32m/home/janith_p/anaconda2/lib/python2.7/site-packages/paramz/model.pyc\u001b[0m in \u001b[0;36m_objective_grads\u001b[0;34m(self, x)\u001b[0m\n\u001b[1;32m    268\u001b[0m     \u001b[0;32mdef\u001b[0m \u001b[0m_objective_grads\u001b[0m\u001b[0;34m(\u001b[0m\u001b[0mself\u001b[0m\u001b[0;34m,\u001b[0m \u001b[0mx\u001b[0m\u001b[0;34m)\u001b[0m\u001b[0;34m:\u001b[0m\u001b[0;34m\u001b[0m\u001b[0m\n\u001b[1;32m    269\u001b[0m         \u001b[0;32mtry\u001b[0m\u001b[0;34m:\u001b[0m\u001b[0;34m\u001b[0m\u001b[0m\n\u001b[0;32m--> 270\u001b[0;31m             \u001b[0mself\u001b[0m\u001b[0;34m.\u001b[0m\u001b[0moptimizer_array\u001b[0m \u001b[0;34m=\u001b[0m \u001b[0mx\u001b[0m\u001b[0;34m\u001b[0m\u001b[0m\n\u001b[0m\u001b[1;32m    271\u001b[0m             \u001b[0mobj_f\u001b[0m\u001b[0;34m,\u001b[0m \u001b[0mself\u001b[0m\u001b[0;34m.\u001b[0m\u001b[0mobj_grads\u001b[0m \u001b[0;34m=\u001b[0m \u001b[0mself\u001b[0m\u001b[0;34m.\u001b[0m\u001b[0mobjective_function\u001b[0m\u001b[0;34m(\u001b[0m\u001b[0;34m)\u001b[0m\u001b[0;34m,\u001b[0m \u001b[0mself\u001b[0m\u001b[0;34m.\u001b[0m\u001b[0m_transform_gradients\u001b[0m\u001b[0;34m(\u001b[0m\u001b[0mself\u001b[0m\u001b[0;34m.\u001b[0m\u001b[0mobjective_function_gradients\u001b[0m\u001b[0;34m(\u001b[0m\u001b[0;34m)\u001b[0m\u001b[0;34m)\u001b[0m\u001b[0;34m\u001b[0m\u001b[0m\n\u001b[1;32m    272\u001b[0m             \u001b[0mself\u001b[0m\u001b[0;34m.\u001b[0m\u001b[0m_fail_count\u001b[0m \u001b[0;34m=\u001b[0m \u001b[0;36m0\u001b[0m\u001b[0;34m\u001b[0m\u001b[0m\n",
      "\u001b[0;32m/home/janith_p/anaconda2/lib/python2.7/site-packages/paramz/parameterized.pyc\u001b[0m in \u001b[0;36m__setattr__\u001b[0;34m(self, name, val)\u001b[0m\n\u001b[1;32m    323\u001b[0m                 \u001b[0mparam\u001b[0m \u001b[0;34m=\u001b[0m \u001b[0mself\u001b[0m\u001b[0;34m.\u001b[0m\u001b[0mparameters\u001b[0m\u001b[0;34m[\u001b[0m\u001b[0mpnames\u001b[0m\u001b[0;34m.\u001b[0m\u001b[0mindex\u001b[0m\u001b[0;34m(\u001b[0m\u001b[0mname\u001b[0m\u001b[0;34m)\u001b[0m\u001b[0;34m]\u001b[0m\u001b[0;34m\u001b[0m\u001b[0m\n\u001b[1;32m    324\u001b[0m                 \u001b[0mparam\u001b[0m\u001b[0;34m[\u001b[0m\u001b[0;34m:\u001b[0m\u001b[0;34m]\u001b[0m \u001b[0;34m=\u001b[0m \u001b[0mval\u001b[0m\u001b[0;34m;\u001b[0m \u001b[0;32mreturn\u001b[0m\u001b[0;34m\u001b[0m\u001b[0m\n\u001b[0;32m--> 325\u001b[0;31m         \u001b[0;32mreturn\u001b[0m \u001b[0mobject\u001b[0m\u001b[0;34m.\u001b[0m\u001b[0m__setattr__\u001b[0m\u001b[0;34m(\u001b[0m\u001b[0mself\u001b[0m\u001b[0;34m,\u001b[0m \u001b[0mname\u001b[0m\u001b[0;34m,\u001b[0m \u001b[0mval\u001b[0m\u001b[0;34m)\u001b[0m\u001b[0;34m;\u001b[0m\u001b[0;34m\u001b[0m\u001b[0m\n\u001b[0m\u001b[1;32m    326\u001b[0m \u001b[0;34m\u001b[0m\u001b[0m\n\u001b[1;32m    327\u001b[0m     \u001b[0;31m#===========================================================================\u001b[0m\u001b[0;34m\u001b[0m\u001b[0;34m\u001b[0m\u001b[0m\n",
      "\u001b[0;32m/home/janith_p/anaconda2/lib/python2.7/site-packages/paramz/core/parameter_core.pyc\u001b[0m in \u001b[0;36moptimizer_array\u001b[0;34m(self, p)\u001b[0m\n\u001b[1;32m    116\u001b[0m \u001b[0;34m\u001b[0m\u001b[0m\n\u001b[1;32m    117\u001b[0m         \u001b[0mself\u001b[0m\u001b[0;34m.\u001b[0m\u001b[0m_optimizer_copy_transformed\u001b[0m \u001b[0;34m=\u001b[0m \u001b[0mFalse\u001b[0m\u001b[0;34m\u001b[0m\u001b[0m\n\u001b[0;32m--> 118\u001b[0;31m         \u001b[0mself\u001b[0m\u001b[0;34m.\u001b[0m\u001b[0mtrigger_update\u001b[0m\u001b[0;34m(\u001b[0m\u001b[0;34m)\u001b[0m\u001b[0;34m\u001b[0m\u001b[0m\n\u001b[0m\u001b[1;32m    119\u001b[0m \u001b[0;34m\u001b[0m\u001b[0m\n\u001b[1;32m    120\u001b[0m     \u001b[0;32mdef\u001b[0m \u001b[0m_trigger_params_changed\u001b[0m\u001b[0;34m(\u001b[0m\u001b[0mself\u001b[0m\u001b[0;34m,\u001b[0m \u001b[0mtrigger_parent\u001b[0m\u001b[0;34m=\u001b[0m\u001b[0mTrue\u001b[0m\u001b[0;34m)\u001b[0m\u001b[0;34m:\u001b[0m\u001b[0;34m\u001b[0m\u001b[0m\n",
      "\u001b[0;32m/home/janith_p/anaconda2/lib/python2.7/site-packages/paramz/core/updateable.pyc\u001b[0m in \u001b[0;36mtrigger_update\u001b[0;34m(self, trigger_parent)\u001b[0m\n\u001b[1;32m     77\u001b[0m             \u001b[0;31m#print \"Warning: updates are off, updating the model will do nothing\"\u001b[0m\u001b[0;34m\u001b[0m\u001b[0;34m\u001b[0m\u001b[0m\n\u001b[1;32m     78\u001b[0m             \u001b[0;32mreturn\u001b[0m\u001b[0;34m\u001b[0m\u001b[0m\n\u001b[0;32m---> 79\u001b[0;31m         \u001b[0mself\u001b[0m\u001b[0;34m.\u001b[0m\u001b[0m_trigger_params_changed\u001b[0m\u001b[0;34m(\u001b[0m\u001b[0mtrigger_parent\u001b[0m\u001b[0;34m)\u001b[0m\u001b[0;34m\u001b[0m\u001b[0m\n\u001b[0m",
      "\u001b[0;32m/home/janith_p/anaconda2/lib/python2.7/site-packages/paramz/core/parameter_core.pyc\u001b[0m in \u001b[0;36m_trigger_params_changed\u001b[0;34m(self, trigger_parent)\u001b[0m\n\u001b[1;32m    126\u001b[0m         \"\"\"\n\u001b[1;32m    127\u001b[0m         \u001b[0;34m[\u001b[0m\u001b[0mp\u001b[0m\u001b[0;34m.\u001b[0m\u001b[0m_trigger_params_changed\u001b[0m\u001b[0;34m(\u001b[0m\u001b[0mtrigger_parent\u001b[0m\u001b[0;34m=\u001b[0m\u001b[0mFalse\u001b[0m\u001b[0;34m)\u001b[0m \u001b[0;32mfor\u001b[0m \u001b[0mp\u001b[0m \u001b[0;32min\u001b[0m \u001b[0mself\u001b[0m\u001b[0;34m.\u001b[0m\u001b[0mparameters\u001b[0m \u001b[0;32mif\u001b[0m \u001b[0;32mnot\u001b[0m \u001b[0mp\u001b[0m\u001b[0;34m.\u001b[0m\u001b[0mis_fixed\u001b[0m\u001b[0;34m]\u001b[0m\u001b[0;34m\u001b[0m\u001b[0m\n\u001b[0;32m--> 128\u001b[0;31m         \u001b[0mself\u001b[0m\u001b[0;34m.\u001b[0m\u001b[0mnotify_observers\u001b[0m\u001b[0;34m(\u001b[0m\u001b[0mNone\u001b[0m\u001b[0;34m,\u001b[0m \u001b[0mNone\u001b[0m \u001b[0;32mif\u001b[0m \u001b[0mtrigger_parent\u001b[0m \u001b[0;32melse\u001b[0m \u001b[0;34m-\u001b[0m\u001b[0mnp\u001b[0m\u001b[0;34m.\u001b[0m\u001b[0minf\u001b[0m\u001b[0;34m)\u001b[0m\u001b[0;34m\u001b[0m\u001b[0m\n\u001b[0m\u001b[1;32m    129\u001b[0m \u001b[0;34m\u001b[0m\u001b[0m\n\u001b[1;32m    130\u001b[0m     \u001b[0;32mdef\u001b[0m \u001b[0m_size_transformed\u001b[0m\u001b[0;34m(\u001b[0m\u001b[0mself\u001b[0m\u001b[0;34m)\u001b[0m\u001b[0;34m:\u001b[0m\u001b[0;34m\u001b[0m\u001b[0m\n",
      "\u001b[0;32m/home/janith_p/anaconda2/lib/python2.7/site-packages/paramz/core/observable.pyc\u001b[0m in \u001b[0;36mnotify_observers\u001b[0;34m(self, which, min_priority)\u001b[0m\n\u001b[1;32m     89\u001b[0m                 \u001b[0mwhich\u001b[0m \u001b[0;34m=\u001b[0m \u001b[0mself\u001b[0m\u001b[0;34m\u001b[0m\u001b[0m\n\u001b[1;32m     90\u001b[0m             \u001b[0;32mif\u001b[0m \u001b[0mmin_priority\u001b[0m \u001b[0;32mis\u001b[0m \u001b[0mNone\u001b[0m\u001b[0;34m:\u001b[0m\u001b[0;34m\u001b[0m\u001b[0m\n\u001b[0;32m---> 91\u001b[0;31m                 \u001b[0;34m[\u001b[0m\u001b[0mcallble\u001b[0m\u001b[0;34m(\u001b[0m\u001b[0mself\u001b[0m\u001b[0;34m,\u001b[0m \u001b[0mwhich\u001b[0m\u001b[0;34m=\u001b[0m\u001b[0mwhich\u001b[0m\u001b[0;34m)\u001b[0m \u001b[0;32mfor\u001b[0m \u001b[0m_\u001b[0m\u001b[0;34m,\u001b[0m \u001b[0m_\u001b[0m\u001b[0;34m,\u001b[0m \u001b[0mcallble\u001b[0m \u001b[0;32min\u001b[0m \u001b[0mself\u001b[0m\u001b[0;34m.\u001b[0m\u001b[0mobservers\u001b[0m\u001b[0;34m]\u001b[0m\u001b[0;34m\u001b[0m\u001b[0m\n\u001b[0m\u001b[1;32m     92\u001b[0m             \u001b[0;32melse\u001b[0m\u001b[0;34m:\u001b[0m\u001b[0;34m\u001b[0m\u001b[0m\n\u001b[1;32m     93\u001b[0m                 \u001b[0;32mfor\u001b[0m \u001b[0mp\u001b[0m\u001b[0;34m,\u001b[0m \u001b[0m_\u001b[0m\u001b[0;34m,\u001b[0m \u001b[0mcallble\u001b[0m \u001b[0;32min\u001b[0m \u001b[0mself\u001b[0m\u001b[0;34m.\u001b[0m\u001b[0mobservers\u001b[0m\u001b[0;34m:\u001b[0m\u001b[0;34m\u001b[0m\u001b[0m\n",
      "\u001b[0;32m/home/janith_p/anaconda2/lib/python2.7/site-packages/paramz/core/parameter_core.pyc\u001b[0m in \u001b[0;36m_parameters_changed_notification\u001b[0;34m(self, me, which)\u001b[0m\n\u001b[1;32m    495\u001b[0m         \"\"\"\n\u001b[1;32m    496\u001b[0m         \u001b[0mself\u001b[0m\u001b[0;34m.\u001b[0m\u001b[0m_optimizer_copy_transformed\u001b[0m \u001b[0;34m=\u001b[0m \u001b[0mFalse\u001b[0m \u001b[0;31m# tells the optimizer array to update on next request\u001b[0m\u001b[0;34m\u001b[0m\u001b[0m\n\u001b[0;32m--> 497\u001b[0;31m         \u001b[0mself\u001b[0m\u001b[0;34m.\u001b[0m\u001b[0mparameters_changed\u001b[0m\u001b[0;34m(\u001b[0m\u001b[0;34m)\u001b[0m\u001b[0;34m\u001b[0m\u001b[0m\n\u001b[0m\u001b[1;32m    498\u001b[0m     \u001b[0;32mdef\u001b[0m \u001b[0m_pass_through_notify_observers\u001b[0m\u001b[0;34m(\u001b[0m\u001b[0mself\u001b[0m\u001b[0;34m,\u001b[0m \u001b[0mme\u001b[0m\u001b[0;34m,\u001b[0m \u001b[0mwhich\u001b[0m\u001b[0;34m=\u001b[0m\u001b[0mNone\u001b[0m\u001b[0;34m)\u001b[0m\u001b[0;34m:\u001b[0m\u001b[0;34m\u001b[0m\u001b[0m\n\u001b[1;32m    499\u001b[0m         \u001b[0mself\u001b[0m\u001b[0;34m.\u001b[0m\u001b[0mnotify_observers\u001b[0m\u001b[0;34m(\u001b[0m\u001b[0mwhich\u001b[0m\u001b[0;34m=\u001b[0m\u001b[0mwhich\u001b[0m\u001b[0;34m)\u001b[0m\u001b[0;34m\u001b[0m\u001b[0m\n",
      "\u001b[0;32m/home/janith_p/anaconda2/lib/python2.7/site-packages/GPy/core/gp.pyc\u001b[0m in \u001b[0;36mparameters_changed\u001b[0;34m(self)\u001b[0m\n\u001b[1;32m    191\u001b[0m             \u001b[0mthis\u001b[0m \u001b[0mmethod\u001b[0m \u001b[0myourself\u001b[0m\u001b[0;34m,\u001b[0m \u001b[0mthere\u001b[0m \u001b[0mmay\u001b[0m \u001b[0mbe\u001b[0m \u001b[0munexpected\u001b[0m \u001b[0mconsequences\u001b[0m\u001b[0;34m.\u001b[0m\u001b[0;34m\u001b[0m\u001b[0m\n\u001b[1;32m    192\u001b[0m         \"\"\"\n\u001b[0;32m--> 193\u001b[0;31m         \u001b[0mself\u001b[0m\u001b[0;34m.\u001b[0m\u001b[0mposterior\u001b[0m\u001b[0;34m,\u001b[0m \u001b[0mself\u001b[0m\u001b[0;34m.\u001b[0m\u001b[0m_log_marginal_likelihood\u001b[0m\u001b[0;34m,\u001b[0m \u001b[0mself\u001b[0m\u001b[0;34m.\u001b[0m\u001b[0mgrad_dict\u001b[0m \u001b[0;34m=\u001b[0m \u001b[0mself\u001b[0m\u001b[0;34m.\u001b[0m\u001b[0minference_method\u001b[0m\u001b[0;34m.\u001b[0m\u001b[0minference\u001b[0m\u001b[0;34m(\u001b[0m\u001b[0mself\u001b[0m\u001b[0;34m.\u001b[0m\u001b[0mkern\u001b[0m\u001b[0;34m,\u001b[0m \u001b[0mself\u001b[0m\u001b[0;34m.\u001b[0m\u001b[0mX\u001b[0m\u001b[0;34m,\u001b[0m \u001b[0mself\u001b[0m\u001b[0;34m.\u001b[0m\u001b[0mlikelihood\u001b[0m\u001b[0;34m,\u001b[0m \u001b[0mself\u001b[0m\u001b[0;34m.\u001b[0m\u001b[0mY_normalized\u001b[0m\u001b[0;34m,\u001b[0m \u001b[0mself\u001b[0m\u001b[0;34m.\u001b[0m\u001b[0mmean_function\u001b[0m\u001b[0;34m,\u001b[0m \u001b[0mself\u001b[0m\u001b[0;34m.\u001b[0m\u001b[0mY_metadata\u001b[0m\u001b[0;34m)\u001b[0m\u001b[0;34m\u001b[0m\u001b[0m\n\u001b[0m\u001b[1;32m    194\u001b[0m         \u001b[0mself\u001b[0m\u001b[0;34m.\u001b[0m\u001b[0mlikelihood\u001b[0m\u001b[0;34m.\u001b[0m\u001b[0mupdate_gradients\u001b[0m\u001b[0;34m(\u001b[0m\u001b[0mself\u001b[0m\u001b[0;34m.\u001b[0m\u001b[0mgrad_dict\u001b[0m\u001b[0;34m[\u001b[0m\u001b[0;34m'dL_dthetaL'\u001b[0m\u001b[0;34m]\u001b[0m\u001b[0;34m)\u001b[0m\u001b[0;34m\u001b[0m\u001b[0m\n\u001b[1;32m    195\u001b[0m         \u001b[0mself\u001b[0m\u001b[0;34m.\u001b[0m\u001b[0mkern\u001b[0m\u001b[0;34m.\u001b[0m\u001b[0mupdate_gradients_full\u001b[0m\u001b[0;34m(\u001b[0m\u001b[0mself\u001b[0m\u001b[0;34m.\u001b[0m\u001b[0mgrad_dict\u001b[0m\u001b[0;34m[\u001b[0m\u001b[0;34m'dL_dK'\u001b[0m\u001b[0;34m]\u001b[0m\u001b[0;34m,\u001b[0m \u001b[0mself\u001b[0m\u001b[0;34m.\u001b[0m\u001b[0mX\u001b[0m\u001b[0;34m)\u001b[0m\u001b[0;34m\u001b[0m\u001b[0m\n",
      "\u001b[0;32m/home/janith_p/anaconda2/lib/python2.7/site-packages/GPy/inference/latent_function_inference/exact_gaussian_inference.pyc\u001b[0m in \u001b[0;36minference\u001b[0;34m(self, kern, X, likelihood, Y, mean_function, Y_metadata, K, variance, Z_tilde)\u001b[0m\n\u001b[1;32m     43\u001b[0m         \u001b[0mdiag\u001b[0m\u001b[0;34m.\u001b[0m\u001b[0madd\u001b[0m\u001b[0;34m(\u001b[0m\u001b[0mKy\u001b[0m\u001b[0;34m,\u001b[0m \u001b[0mvariance\u001b[0m\u001b[0;34m+\u001b[0m\u001b[0;36m1e-8\u001b[0m\u001b[0;34m)\u001b[0m\u001b[0;34m\u001b[0m\u001b[0m\n\u001b[1;32m     44\u001b[0m \u001b[0;34m\u001b[0m\u001b[0m\n\u001b[0;32m---> 45\u001b[0;31m         \u001b[0mWi\u001b[0m\u001b[0;34m,\u001b[0m \u001b[0mLW\u001b[0m\u001b[0;34m,\u001b[0m \u001b[0mLWi\u001b[0m\u001b[0;34m,\u001b[0m \u001b[0mW_logdet\u001b[0m \u001b[0;34m=\u001b[0m \u001b[0mpdinv\u001b[0m\u001b[0;34m(\u001b[0m\u001b[0mKy\u001b[0m\u001b[0;34m)\u001b[0m\u001b[0;34m\u001b[0m\u001b[0m\n\u001b[0m\u001b[1;32m     46\u001b[0m \u001b[0;34m\u001b[0m\u001b[0m\n\u001b[1;32m     47\u001b[0m         \u001b[0malpha\u001b[0m\u001b[0;34m,\u001b[0m \u001b[0m_\u001b[0m \u001b[0;34m=\u001b[0m \u001b[0mdpotrs\u001b[0m\u001b[0;34m(\u001b[0m\u001b[0mLW\u001b[0m\u001b[0;34m,\u001b[0m \u001b[0mYYT_factor\u001b[0m\u001b[0;34m,\u001b[0m \u001b[0mlower\u001b[0m\u001b[0;34m=\u001b[0m\u001b[0;36m1\u001b[0m\u001b[0;34m)\u001b[0m\u001b[0;34m\u001b[0m\u001b[0m\n",
      "\u001b[0;32m/home/janith_p/anaconda2/lib/python2.7/site-packages/GPy/util/linalg.pyc\u001b[0m in \u001b[0;36mpdinv\u001b[0;34m(A, *args)\u001b[0m\n\u001b[1;32m    208\u001b[0m     \u001b[0mL\u001b[0m \u001b[0;34m=\u001b[0m \u001b[0mjitchol\u001b[0m\u001b[0;34m(\u001b[0m\u001b[0mA\u001b[0m\u001b[0;34m,\u001b[0m \u001b[0;34m*\u001b[0m\u001b[0margs\u001b[0m\u001b[0;34m)\u001b[0m\u001b[0;34m\u001b[0m\u001b[0m\n\u001b[1;32m    209\u001b[0m     \u001b[0mlogdet\u001b[0m \u001b[0;34m=\u001b[0m \u001b[0;36m2.\u001b[0m\u001b[0;34m*\u001b[0m\u001b[0mnp\u001b[0m\u001b[0;34m.\u001b[0m\u001b[0msum\u001b[0m\u001b[0;34m(\u001b[0m\u001b[0mnp\u001b[0m\u001b[0;34m.\u001b[0m\u001b[0mlog\u001b[0m\u001b[0;34m(\u001b[0m\u001b[0mnp\u001b[0m\u001b[0;34m.\u001b[0m\u001b[0mdiag\u001b[0m\u001b[0;34m(\u001b[0m\u001b[0mL\u001b[0m\u001b[0;34m)\u001b[0m\u001b[0;34m)\u001b[0m\u001b[0;34m)\u001b[0m\u001b[0;34m\u001b[0m\u001b[0m\n\u001b[0;32m--> 210\u001b[0;31m     \u001b[0mLi\u001b[0m \u001b[0;34m=\u001b[0m \u001b[0mdtrtri\u001b[0m\u001b[0;34m(\u001b[0m\u001b[0mL\u001b[0m\u001b[0;34m)\u001b[0m\u001b[0;34m\u001b[0m\u001b[0m\n\u001b[0m\u001b[1;32m    211\u001b[0m     \u001b[0mAi\u001b[0m\u001b[0;34m,\u001b[0m \u001b[0m_\u001b[0m \u001b[0;34m=\u001b[0m \u001b[0mdpotri\u001b[0m\u001b[0;34m(\u001b[0m\u001b[0mL\u001b[0m\u001b[0;34m,\u001b[0m \u001b[0mlower\u001b[0m\u001b[0;34m=\u001b[0m\u001b[0;36m1\u001b[0m\u001b[0;34m)\u001b[0m\u001b[0;34m\u001b[0m\u001b[0m\n\u001b[1;32m    212\u001b[0m     \u001b[0;31m# Ai = np.tril(Ai) + np.tril(Ai,-1).T\u001b[0m\u001b[0;34m\u001b[0m\u001b[0;34m\u001b[0m\u001b[0m\n",
      "\u001b[0;32m/home/janith_p/anaconda2/lib/python2.7/site-packages/GPy/util/linalg.pyc\u001b[0m in \u001b[0;36mdtrtri\u001b[0;34m(L)\u001b[0m\n\u001b[1;32m    226\u001b[0m \u001b[0;34m\u001b[0m\u001b[0m\n\u001b[1;32m    227\u001b[0m     \u001b[0mL\u001b[0m \u001b[0;34m=\u001b[0m \u001b[0mforce_F_ordered\u001b[0m\u001b[0;34m(\u001b[0m\u001b[0mL\u001b[0m\u001b[0;34m)\u001b[0m\u001b[0;34m\u001b[0m\u001b[0m\n\u001b[0;32m--> 228\u001b[0;31m     \u001b[0;32mreturn\u001b[0m \u001b[0mlapack\u001b[0m\u001b[0;34m.\u001b[0m\u001b[0mdtrtri\u001b[0m\u001b[0;34m(\u001b[0m\u001b[0mL\u001b[0m\u001b[0;34m,\u001b[0m \u001b[0mlower\u001b[0m\u001b[0;34m=\u001b[0m\u001b[0;36m1\u001b[0m\u001b[0;34m)\u001b[0m\u001b[0;34m[\u001b[0m\u001b[0;36m0\u001b[0m\u001b[0;34m]\u001b[0m\u001b[0;34m\u001b[0m\u001b[0m\n\u001b[0m\u001b[1;32m    229\u001b[0m \u001b[0;34m\u001b[0m\u001b[0m\n\u001b[1;32m    230\u001b[0m \u001b[0;34m\u001b[0m\u001b[0m\n",
      "\u001b[0;31mKeyboardInterrupt\u001b[0m: "
     ]
    }
   ],
   "source": [
    "useBelief = False\n",
    "avgErrorSummary = np.zeros([1])\n",
    "modelCounter = 0\n",
    "\n",
    "for i in range(400):\n",
    "    observations_sim = env.reset(whichVersion=1)\n",
    "    observations = np.reshape(observations_sim, ([1,3]))\n",
    "    predictionPDF = observations\n",
    "    actionToTake_policy = action_fromPolicy(policyParameters, observations)\n",
    "    counter = 1\n",
    "    print inputsNumpy.shape, avgErrorSummary.shape, observations_sim\n",
    "    while abs(observations[0,0]) > np.cos(5*np.pi/180) and counter <= totalIterations:\n",
    "            \n",
    "            bufferActionToTake = np.array([actionToTake_policy])\n",
    "            bufferActionToTake = np.reshape(bufferActionToTake, ([1]))\n",
    "            bufferActionToTake_toAppend = np.reshape(bufferActionToTake,([1,1]))\n",
    "            bufferInputs_policy = np.append(bufferActionToTake_toAppend, observations, axis = 1) \n",
    "\n",
    "            [observationsNumpy, bufferObservations] = gympy.appendObservationsArray(observationsNumpy, observations_sim, counter)\n",
    "            [inputsNumpy, bufferInput] = gympy.appendInputArray(inputsNumpy, bufferActionToTake, observations_sim, counter)\n",
    "\n",
    "\n",
    "            observations_sim, rewards, done, info = env.step(bufferActionToTake)\n",
    "            predictionPDF = m_dynamics.predict(bufferInputs_policy)[0]\n",
    "\n",
    "            observations = np.reshape(observations_sim, ([1,3]))\n",
    "            predictionPDF = np.reshape(predictionPDF, ([1,3]))\n",
    "\n",
    "            if counter == 1:\n",
    "                observationsSummary = observations\n",
    "                predictionSummary = predictionPDF\n",
    "                errorSummary = abs((predictionPDF - observations)/observations)\n",
    "            else:\n",
    "                observationsSummary = np.append(observationsSummary, observations, axis = 0)\n",
    "                predictionSummary = np.append(predictionSummary, predictionPDF, axis = 0)\n",
    "                errorSummary = np.append(errorSummary, abs((predictionPDF - observations)/observations), axis = 0)\n",
    "\n",
    "            actionToTake_policy = action_fromPolicy(policyParameters,observations)\n",
    "\n",
    "            counter += 1\n",
    "\n",
    "    avgError = np.mean(errorSummary) * 100\n",
    "    avgErrorSummary = np.append(avgErrorSummary, np.reshape(avgError, ([1])), axis = 0)\n",
    "\n",
    "    if inputsNumpy.shape[0] - modelCounter >= 1000:\n",
    "        print 'training GP model'\n",
    "        m_dynamics = gympy.generateModel(inputsNumpy, observationsNumpy, k_dynamics)\n",
    "        m_dynamics.optimize() \n",
    "        modelCounter = inputsNumpy.shape[0]"
   ]
  },
  {
   "cell_type": "code",
   "execution_count": 12,
   "metadata": {
    "collapsed": false
   },
   "outputs": [
    {
     "data": {
      "image/png": "[encoded data removed]",
      "text/plain": [
       "<matplotlib.figure.Figure at 0x7f6faa3c41d0>"
      ]
     },
     "metadata": {},
     "output_type": "display_data"
    }
   ],
   "source": [
    "plt.plot(avgErrorSummary[5::])\n",
    "plt.title('7148 Data Points')\n",
    "plt.xlabel('Experiment No')\n",
    "plt.ylabel('Percentage Error')\n",
    "plt.savefig('7148_datapoints', format = 'svg')"
   ]
  },
  {
   "cell_type": "code",
   "execution_count": null,
   "metadata": {
    "collapsed": true
   },
   "outputs": [],
   "source": []
  }
 ],
 "metadata": {
  "anaconda-cloud": {},
  "kernelspec": {
   "display_name": "Python [conda root]",
   "language": "python",
   "name": "conda-root-py"
  },
  "language_info": {
   "codemirror_mode": {
    "name": "ipython",
    "version": 2
   },
   "file_extension": ".py",
   "mimetype": "text/x-python",
   "name": "python",
   "nbconvert_exporter": "python",
   "pygments_lexer": "ipython2",
   "version": "2.7.12"
  }
 },
 "nbformat": 4,
 "nbformat_minor": 1
}
