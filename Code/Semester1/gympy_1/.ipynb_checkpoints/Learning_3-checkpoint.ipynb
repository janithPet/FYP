{
 "cells": [
  {
   "cell_type": "markdown",
   "metadata": {},
   "source": [
    "# Start simple, Start linearly\n",
    "\n",
    "The program below will mark the first RL algorithm truly implemented in this project. As such, to see if I've got the basics down, I started with a simply linear policy to learn. The algorithm contains two main parts. \n",
    "\n",
    "* The first is to learn a surrogate dynamics model of the environment. I personally like to think of this as the agent's belief of how the environment behaves, so the term surrogate doesn't too appropriate. A GP model will be used, with a gaussian covariance kernel. \n",
    "\n",
    "* The second is to use this belief of the system to learn an optimal policy. As mentioned previously, a linear policy structure will be used. Furthermore, bayesian optimisation with expected improvement will be used to find the optimal policy values. \n",
    "\n",
    "Let's see how this goes. Fingers crossed. "
   ]
  },
  {
   "cell_type": "code",
   "execution_count": 1,
   "metadata": {
    "collapsed": false
   },
   "outputs": [],
   "source": [
    "import gym\n",
    "import GPy\n",
    "import GPyOpt\n",
    "import numpy as np\n",
    "\n",
    "import matplotlib.pyplot as plt\n",
    "from mpl_toolkits.mplot3d import Axes3D\n",
    "from matplotlib import cm\n",
    "\n",
    "import gympy"
   ]
  },
  {
   "cell_type": "markdown",
   "metadata": {},
   "source": [
    "Define the characteristics of the particular exercise. In this case, for example, the type of learning analysis will be 'Reset' since the initial state of the environment is reset for each test point. "
   ]
  },
  {
   "cell_type": "code",
   "execution_count": 2,
   "metadata": {
    "collapsed": true
   },
   "outputs": [],
   "source": [
    "analysisType_learning = 'Reset'"
   ]
  },
  {
   "cell_type": "markdown",
   "metadata": {},
   "source": [
    "Set up the gym environment and create the array definitions for  input, output and predictions. Also generate initial values for the relevant variables. "
   ]
  },
  {
   "cell_type": "code",
   "execution_count": 3,
   "metadata": {
    "collapsed": false
   },
   "outputs": [
    {
     "name": "stdout",
     "output_type": "stream",
     "text": [
      "Please enter the environment: \n"
     ]
    },
    {
     "name": "stderr",
     "output_type": "stream",
     "text": [
      "[2016-11-15 22:03:59,248] Making new env: Pendulum-v0\n"
     ]
    }
   ],
   "source": [
    "env, observations, inputsNumpy, observationsNumpy, rewardsNumpy, action, predictionPDF = gympy.setupEnvironment(defaultEnvironment = 'Pendulum-v0', whichVersion = 0)\n",
    "k_dynamics = GPy.kern.RBF(input_dim=4, variance=1., lengthscale=1.)\n",
    "k_rewards = GPy.kern.RBF(input_dim=3, variance=1., lengthscale=1.)"
   ]
  },
  {
   "cell_type": "markdown",
   "metadata": {
    "collapsed": true
   },
   "source": [
    "Initial learning phase - learn surrogate model. This will be done with 500 random training data points. As such a loop will first be initiated to generate the training points."
   ]
  },
  {
   "cell_type": "code",
   "execution_count": 5,
   "metadata": {
    "collapsed": false
   },
   "outputs": [],
   "source": [
    "env.reset(whichVersion = 1)\n",
    "for attempt in range(100):\n",
    "    [inputsNumpy, buf5erInput, actionToTake] = gympy.appendInputArray(inputsNumpy, action, observations, attempt)\n",
    "    [observations, rewards, done, info] = env.step(actionToTake)\n",
    "    [observationsNumpy, bufferObservations] = gympy.appendObservationsArray(observationsNumpy, observations, attempt)\n",
    "    [rewardsNumpy, bufferRewards] = gympy.appendRewardsArray(rewardsNumpy, rewards, attempt)\n",
    "#     observations = env.reset()\n",
    "    env.render()"
   ]
  },
  {
   "cell_type": "markdown",
   "metadata": {},
   "source": [
    "Use the training points to generate the training points. "
   ]
  },
  {
   "cell_type": "code",
   "execution_count": 6,
   "metadata": {
    "collapsed": false
   },
   "outputs": [
    {
     "name": "stderr",
     "output_type": "stream",
     "text": [
      "[2016-11-15 22:04:12,951] initializing Y\n",
      "[2016-11-15 22:04:12,952] initializing inference method\n",
      "[2016-11-15 22:04:12,953] adding kernel and likelihood as parameters\n"
     ]
    }
   ],
   "source": [
    "m_dynamics = gympy.generateModel(inputsNumpy, observationsNumpy, k_dynamics)\n",
    "m_dynamics.optimize()"
   ]
  },
  {
   "cell_type": "markdown",
   "metadata": {
    "collapsed": true
   },
   "source": [
    "Once the learning phase has been completed, it is necessary to define the goal state (that is the terminal state) and how the reward can be calculated in terms of the current state with respect to the goal state. \n",
    "\n",
    "In this case, the reward is calculated as the sum of the geometric distances between the each of the current states and the goal states. Please note that since each of these will be $ \\geqslant \\: 0$, it is technically speaking a cost, rather than a reward. However, since the difference betweeen the two is merely a negative symbol, reward and cost will be used interchangebly. "
   ]
  },
  {
   "cell_type": "code",
   "execution_count": 7,
   "metadata": {
    "collapsed": true
   },
   "outputs": [],
   "source": [
    "goalState = np.array([1,0,0])"
   ]
  },
  {
   "cell_type": "code",
   "execution_count": 8,
   "metadata": {
    "collapsed": false
   },
   "outputs": [],
   "source": [
    "def generateTotalReward(predictionPDF, goalState, totalReward):\n",
    "    predictionPDF[0,2] = predictionPDF[0,1]/8\n",
    "    if abs(np.arccos(predictionPDF[0,0])) > 1*np.pi/180:\n",
    "        multiplier = 100\n",
    "    else:\n",
    "        multiplier = 1\n",
    "    currentReward = multiplier*(np.sqrt(np.sum((predictionPDF-goalState)*(predictionPDF-goalState))))\n",
    "    totalReward = totalReward + currentReward\n",
    "    \n",
    "    return totalReward"
   ]
  },
  {
   "cell_type": "markdown",
   "metadata": {},
   "source": [
    "The policy must now be defined in terms of its parameters. In this particular example, a linear policy was chosen, for simplicity. This will be of the form:\n",
    "\n",
    "$$ \\pi(s_t) = \\phi(s_t)^T \\mathbf{\\theta},$$\n",
    "\n",
    "where the basis functions in $\\phi$ are simply the state variables, and the vector $\\theta$ represents the weights. Thus the action will be selected by policy that looks like:\n",
    "\n",
    "$$ a_t = s_{t,1}\\theta_1 + s_{t,2}\\theta_2  +  s_{t,3}\\theta_3 + \\theta_4, $$\n",
    "\n",
    "since this particular problem has 3 state variables. The reinforcement learning problem now becomes one of finiding the values of $\\theta$ such that the cost defined earlier is minimised. \n",
    "\n",
    "The first step of this is to generate random initial values for the parameter values."
   ]
  },
  {
   "cell_type": "code",
   "execution_count": 9,
   "metadata": {
    "collapsed": false
   },
   "outputs": [],
   "source": [
    "policyParameters =  np.random.uniform(-1., 1., ([1, 4]))"
   ]
  },
  {
   "cell_type": "markdown",
   "metadata": {},
   "source": [
    "Now, a function is defined to return the action that needs to be taken as given by the policy defined by the current parameter values."
   ]
  },
  {
   "cell_type": "code",
   "execution_count": 10,
   "metadata": {
    "collapsed": true
   },
   "outputs": [],
   "source": [
    "def action_fromPolicy(policyParameters, bufferObservations_policy):\n",
    "    actionToTake_policy = 0\n",
    "    [r,c] = policyParameters.shape\n",
    "    for i in range(c):\n",
    "        if i < c-1:\n",
    "            actionToTake_policy = actionToTake_policy + (bufferObservations_policy[0,i] * policyParameters[0,i])\n",
    "        else:\n",
    "            actionToTake_policy = actionToTake_policy + policyParameters[0,i]\n",
    "                \n",
    "\n",
    "    return actionToTake_policy"
   ]
  },
  {
   "cell_type": "markdown",
   "metadata": {},
   "source": [
    "Finding the policy parameters that minimise the total reward is clearly an optimisation problem. As such the optimisation method that will be used for this particular notebook is Bayesian Optimisation using Expected Improvement. Simply put, this methods chooses the next test point based on the highest expected improvement from the current minimun point (for a minimising problem that is). Thusly, a good mix of exploration and exploitation can be utilised to find the global minimum given the state box.\n",
    "\n",
    "The python library GPyOpt will be utilised for this. This requires the definition of an objective function; this is function that is to be optimised. In the present work, this will be the mapping from the policyy parameters to the total reward. Since this is a model based RL algorithm, the GP model that was trained previously will be used to generate the total reward. "
   ]
  },
  {
   "cell_type": "code",
   "execution_count": 22,
   "metadata": {
    "collapsed": false
   },
   "outputs": [],
   "source": [
    "def objectiveFunction(policyParameters):\n",
    "    thetaBound = np.array([np.pi*5*180,1])\n",
    "    \n",
    "    thetaObservations = np.random.uniform(low=-thetaBound, high=thetaBound)\n",
    "\n",
    "    bufferObservations_policy = np.array([np.cos(thetaObservations[0]), np.sin(thetaObservations[0]), thetaObservations[1]])\n",
    "\n",
    "    bufferObservations_policy = np.reshape(bufferObservations_policy, ([1,3]))\n",
    "    bufferInpust_policy = np.zeros((1,4))\n",
    "    totalIterations = 100\n",
    "    totalReward = 0\n",
    "    \n",
    "    goalState = np.array([-1,0,0])\n",
    "    \n",
    "#     env.setState(np.arccos(bufferObservations_policy[0,0]), bufferObservations_policy[0,2])\n",
    "#     env.render()\n",
    "    \n",
    "    actionToTake_policy = action_fromPolicy(policyParameters, bufferObservations_policy)\n",
    "    \n",
    "    for i in range(totalIterations):\n",
    "        \n",
    "#         if abs(actionToTake_policy) > 2:\n",
    "#             totalReward = totalReward + 1000\n",
    "        bufferActionToTake = np.array([actionToTake_policy])\n",
    "        bufferActionToTake = np.reshape(bufferActionToTake, ([1,1]))\n",
    "        bufferInputs_policy = np.append(bufferObservations_policy, bufferActionToTake, axis = 1) \n",
    "\n",
    "        predictionPDF = m_dynamics.predict(bufferInputs_policy)[0]\n",
    "                \n",
    "        totalReward = generateTotalReward(predictionPDF, goalState, totalReward)\n",
    "        \n",
    "        actionToTake_policy = action_fromPolicy(policyParameters, predictionPDF)\n",
    "#         env.setState(np.arccos(predictionPDF[0,0]), predictionPDF[0,2])\n",
    "#         env.render()\n",
    "        \n",
    "    return totalReward"
   ]
  },
  {
   "cell_type": "code",
   "execution_count": 23,
   "metadata": {
    "collapsed": false
   },
   "outputs": [],
   "source": [
    "bounds = [{'domain': (-1,1), 'name': 'var_1', 'type': 'continuous', 'dimensionality':3},\n",
    "         {'domain': (-10,10), 'name': 'var_4', 'type': 'continuous', 'dimensionality':1}]"
   ]
  },
  {
   "cell_type": "code",
   "execution_count": 24,
   "metadata": {
    "collapsed": false
   },
   "outputs": [
    {
     "name": "stderr",
     "output_type": "stream",
     "text": [
      "[2016-11-15 22:07:47,760] initializing Y\n",
      "[2016-11-15 22:07:47,761] initializing inference method\n",
      "[2016-11-15 22:07:47,761] adding kernel and likelihood as parameters\n"
     ]
    },
    {
     "name": "stdout",
     "output_type": "stream",
     "text": [
      "working\n",
      "working\n",
      "working\n",
      "working\n",
      "working\n"
     ]
    }
   ],
   "source": [
    "myBopt = GPyOpt.methods.BayesianOptimization(f = objectiveFunction, domain = bounds, acquisition_type ='EI')"
   ]
  },
  {
   "cell_type": "code",
   "execution_count": 25,
   "metadata": {
    "collapsed": false,
    "scrolled": false
   },
   "outputs": [
    {
     "name": "stdout",
     "output_type": "stream",
     "text": [
      "working\n",
      "working\n",
      "working\n",
      "working\n",
      "working\n",
      "working\n",
      "working\n",
      "working\n",
      "working\n",
      "working\n",
      "working\n",
      "working\n",
      "working\n",
      "working\n",
      "working\n",
      "working\n",
      "working\n",
      "working\n",
      "working\n",
      "working\n",
      "working\n",
      "working\n",
      "working\n",
      "working\n",
      "working\n",
      "working\n",
      "working\n",
      "working\n",
      "working\n",
      "working\n",
      "working\n",
      "working\n",
      "working\n",
      "working\n",
      "working\n",
      "working\n",
      "working\n",
      "working\n",
      "working\n",
      "working\n",
      "working\n",
      "working\n",
      "working\n",
      "working\n",
      "working\n",
      "working\n",
      "working\n",
      "working\n",
      "working\n",
      "working\n",
      "working\n",
      "working\n",
      "working\n",
      "working\n",
      "working\n",
      "working\n",
      "working\n",
      "working\n",
      "working\n",
      "working\n",
      "working\n",
      "working\n",
      "working\n",
      "working\n",
      "working\n",
      "working\n",
      "working\n",
      "working\n",
      "working\n",
      "working\n",
      "working\n",
      "working\n",
      "working\n",
      "working\n",
      "working\n",
      "working\n",
      "working\n",
      "working\n",
      "working\n",
      "working\n",
      "working\n",
      "working\n",
      "working\n",
      "working\n",
      "working\n",
      "working\n",
      "working\n",
      "working\n",
      "working\n",
      "working\n",
      "working\n",
      "working\n",
      "working\n",
      "working\n",
      "working\n",
      "working\n",
      "working\n",
      "working\n",
      "working\n",
      "working\n",
      "working\n",
      "working\n",
      "working\n",
      "working\n",
      "working\n",
      "working\n",
      "working\n",
      "working\n",
      "working\n",
      "working\n",
      "working\n",
      "working\n",
      "working\n",
      "working\n",
      "working\n",
      "working\n",
      "working\n",
      "working\n",
      "working\n",
      "working\n",
      "working\n",
      "working\n",
      "working\n",
      "working\n",
      "working\n",
      "working\n",
      "working\n",
      "working\n",
      "working\n",
      "working\n",
      "working\n",
      "working\n",
      "working\n",
      "working\n",
      "working\n",
      "working\n",
      "working\n",
      "working\n",
      "working\n",
      "working\n",
      "working\n",
      "working\n",
      "working\n",
      "working\n",
      "working\n",
      "working\n",
      "working\n",
      "working\n",
      "working\n",
      "working\n",
      "working\n",
      "working\n",
      "working\n",
      "working\n",
      "working\n",
      "working\n",
      "working\n",
      "working\n",
      "working\n",
      "working\n",
      "working\n",
      "working\n",
      "working\n",
      "working\n",
      "working\n",
      "working\n",
      "working\n",
      "working\n",
      "working\n",
      "working\n",
      "working\n",
      "working\n",
      "working\n",
      "working\n",
      "working\n",
      "working\n",
      "working\n",
      "working\n",
      "working\n",
      "working\n",
      "working\n",
      "working\n",
      "working\n",
      "working\n",
      "working\n",
      "working\n",
      "working\n",
      "working\n",
      "working\n",
      "working\n",
      "working\n",
      "working\n",
      "working\n",
      "working\n",
      "working\n",
      "working\n",
      "working\n",
      "working\n",
      "working\n",
      "working\n",
      "[[  1.00211494e+05]\n",
      " [  1.00064524e+05]\n",
      " [  1.06333579e+05]\n",
      " [  1.05328895e+05]\n",
      " [  1.12085143e+05]\n",
      " [  1.00052305e+05]\n",
      " [  1.03194805e+05]\n",
      " [  1.18653442e+05]\n",
      " [  1.19857760e+05]\n",
      " [  1.10754870e+04]\n",
      " [  9.85978013e+03]\n",
      " [  1.15644664e+05]\n",
      " [  8.85363372e+03]\n",
      " [  1.18824422e+05]\n",
      " [  1.21514665e+05]\n",
      " [  1.12516883e+05]\n",
      " [  1.00223596e+05]\n",
      " [  1.12873717e+05]\n",
      " [  1.12895291e+05]\n",
      " [  1.16568311e+05]\n",
      " [  6.81608706e+03]\n",
      " [  2.44153075e+03]\n",
      " [  1.23844598e+04]\n",
      " [  1.40010382e+04]\n",
      " [  2.49354882e+03]\n",
      " [  1.54290215e+04]\n",
      " [  2.01408008e+02]\n",
      " [  1.12058220e+04]\n",
      " [  1.16976469e+05]\n",
      " [  1.39710476e+04]\n",
      " [  3.69044448e+03]\n",
      " [  1.70010942e+04]\n",
      " [  7.22306603e+03]\n",
      " [  9.32965540e+01]\n",
      " [  5.91021095e+01]\n",
      " [  1.85893726e+01]\n",
      " [  9.39888545e+03]\n",
      " [  1.40156493e+04]\n",
      " [  1.25437203e+04]\n",
      " [  1.98843665e+04]\n",
      " [  1.38014617e+01]\n",
      " [  1.07853682e+04]\n",
      " [  9.98736061e+03]\n",
      " [  7.12603152e+03]\n",
      " [  4.20526890e+03]\n",
      " [  2.21871040e+02]\n",
      " [  1.22621703e+04]\n",
      " [  1.04557185e+02]\n",
      " [  1.81544213e+04]\n",
      " [  2.17828159e+02]\n",
      " [  7.64537174e+01]\n",
      " [  1.52265694e+04]\n",
      " [  8.22576557e+01]\n",
      " [  9.15971465e+03]\n",
      " [  1.15571815e+05]\n",
      " [  3.69141591e+03]\n",
      " [  2.02515622e+04]\n",
      " [  8.81396378e+03]\n",
      " [  9.93932374e+03]\n",
      " [  8.74615906e+00]\n",
      " [  1.90278529e+04]\n",
      " [  1.91871178e+04]\n",
      " [  1.85912512e+04]\n",
      " [  7.22903064e+03]\n",
      " [  2.01326926e+02]\n",
      " [  9.24564235e+03]\n",
      " [  1.16973081e+05]\n",
      " [  2.02773101e+02]\n",
      " [  5.40303822e+01]\n",
      " [  1.17809291e+05]\n",
      " [  6.80863586e+03]\n",
      " [  1.01671472e+04]\n",
      " [  9.57024013e+03]\n",
      " [  5.14737773e+03]\n",
      " [  1.22153497e+04]\n",
      " [  1.20288871e+05]\n",
      " [  2.74706105e+01]\n",
      " [  1.04502951e+04]\n",
      " [  1.19535648e+05]\n",
      " [  6.41130705e+01]\n",
      " [  5.29617687e+03]\n",
      " [  2.14684171e+04]\n",
      " [  1.78128770e+04]\n",
      " [  1.79963041e+04]\n",
      " [  2.06852070e+04]\n",
      " [  1.91224150e+04]\n",
      " [  2.30506977e+01]\n",
      " [  1.10327898e+04]\n",
      " [  1.98358414e+04]\n",
      " [  1.20113103e+05]\n",
      " [  1.50750050e+04]\n",
      " [  1.06065359e+04]\n",
      " [  1.20719643e+05]\n",
      " [  1.23837722e+04]\n",
      " [  1.72833172e+04]\n",
      " [  9.59058522e+01]\n",
      " [  1.41831393e+04]\n",
      " [  1.17830580e+05]\n",
      " [  1.20082246e+05]\n",
      " [  1.57089957e+04]\n",
      " [  2.04533004e+04]\n",
      " [  2.08256884e+04]\n",
      " [  1.98808127e+04]\n",
      " [  5.92078036e+01]\n",
      " [  1.03414420e+04]\n",
      " [  1.97925971e+04]\n",
      " [  1.19860032e+04]\n",
      " [  1.17461750e+05]\n",
      " [  1.89944383e+04]\n",
      " [  5.90875961e+03]\n",
      " [  1.15993465e+05]\n",
      " [  6.79834285e+01]\n",
      " [  1.95228038e+04]\n",
      " [  1.41186405e+04]\n",
      " [  4.89875086e+03]\n",
      " [  1.59995005e+03]\n",
      " [  1.57126619e+04]\n",
      " [  1.20491301e+05]\n",
      " [  1.45106262e+04]\n",
      " [  2.20285232e+02]\n",
      " [  9.05637020e+03]\n",
      " [  5.42689868e+01]\n",
      " [  6.32004713e+01]\n",
      " [  1.20378396e+05]\n",
      " [  1.68686199e+04]\n",
      " [  1.99288895e+04]\n",
      " [  1.17192428e+04]\n",
      " [  2.05728966e+04]\n",
      " [  3.88322951e+01]\n",
      " [  1.79812643e+04]\n",
      " [  2.15271378e+02]\n",
      " [  9.79178834e+03]\n",
      " [  1.59189242e+04]\n",
      " [  1.61128124e+04]\n",
      " [  1.84245123e+04]\n",
      " [  1.08401135e+02]\n",
      " [  1.17913706e+05]\n",
      " [  1.01270472e+04]\n",
      " [  9.08490427e+03]\n",
      " [  1.34263356e+04]\n",
      " [  6.98708506e+03]\n",
      " [  8.07702836e+03]\n",
      " [  1.44309479e+04]\n",
      " [  5.86800085e+03]\n",
      " [  1.81264336e+04]\n",
      " [  1.16571695e+05]\n",
      " [  1.34335529e+04]\n",
      " [  1.80091670e+03]\n",
      " [  1.71002853e+04]\n",
      " [  1.20704346e+05]\n",
      " [  6.39645021e+03]\n",
      " [  1.46583519e+04]\n",
      " [  3.20467566e+03]\n",
      " [  1.78879339e+04]\n",
      " [  1.68603213e+01]\n",
      " [  3.03401830e+03]\n",
      " [  1.99997063e+04]\n",
      " [  1.94487998e+04]\n",
      " [  1.49429431e+04]\n",
      " [  1.19904729e+05]\n",
      " [  2.11320900e+04]\n",
      " [  4.38047624e+03]\n",
      " [  8.43017806e+03]\n",
      " [  4.08283474e+03]\n",
      " [  1.16925008e+05]\n",
      " [  1.09412536e+04]\n",
      " [  1.02691996e+04]\n",
      " [  1.27971731e+04]\n",
      " [  1.10403059e+05]\n",
      " [  7.22879889e+01]\n",
      " [  4.91511453e+03]\n",
      " [  4.13468090e+03]\n",
      " [  2.07340506e+02]\n",
      " [  5.98741600e+03]\n",
      " [  5.06946526e+03]\n",
      " [  1.88694628e+04]\n",
      " [  1.81177022e+04]\n",
      " [  1.14765340e+04]\n",
      " [  7.16779207e+03]\n",
      " [  5.16693009e+03]\n",
      " [  8.22045478e+03]\n",
      " [  2.03132419e+02]\n",
      " [  2.02307009e+02]\n",
      " [  2.04522942e+04]\n",
      " [  4.95482084e+03]\n",
      " [  2.06012285e+03]\n",
      " [  1.88832980e+04]\n",
      " [  1.06665284e+04]\n",
      " [  2.07886384e+04]\n",
      " [  1.84614516e+04]\n",
      " [  1.68130281e+04]\n",
      " [  5.88912346e+03]\n",
      " [  1.19387894e+04]\n",
      " [  9.68939747e+00]\n",
      " [  1.80153345e+04]\n",
      " [  2.03691490e+02]\n",
      " [  2.02876484e+03]\n",
      " [  1.42499148e+04]\n",
      " [  1.45448267e+04]\n",
      " [  6.48860810e+01]\n",
      " [  1.39024163e+04]\n",
      " [  4.86470016e+03]\n",
      " [  4.63655076e+03]\n",
      " [  1.03523812e+04]\n",
      " [  2.02549146e+04]]\n"
     ]
    }
   ],
   "source": [
    "max_iter = 200               # evaluation budget\n",
    "myBopt.run_optimization(max_iter)   # run optimization\n",
    "print myBopt.Y\n"
   ]
  },
  {
   "cell_type": "code",
   "execution_count": 26,
   "metadata": {
    "collapsed": false
   },
   "outputs": [
    {
     "name": "stdout",
     "output_type": "stream",
     "text": [
      "[ 8.74615906]\n",
      "[[-1.          1.          1.          0.69510087]]\n"
     ]
    }
   ],
   "source": [
    "policyParameters_optimal = myBopt.X[np.argmin(myBopt.Y)]\n",
    "print min(myBopt.Y)\n",
    "policyParameters_optimal = np.reshape(policyParameters_optimal, ([1,4]))\n",
    "print policyParameters_optimal"
   ]
  },
  {
   "cell_type": "code",
   "execution_count": null,
   "metadata": {
    "collapsed": true
   },
   "outputs": [],
   "source": [
    "for i in range(100):\n",
    "    thetaBound = np.array([np.pi*5*180,1])\n",
    "    \n",
    "    thetaObservations = np.random.uniform(low=-thetaBound, high=thetaBound)\n",
    "\n",
    "    bufferObservations_policy = np.array([np.cos(thetaObservations[0]), np.sin(thetaObservations[0]), thetaObservations[1]])\n",
    "\n",
    "    bufferObservations_policy = np.reshape(bufferObservations_policy, ([1,3]))\n",
    "    bufferInpust_policy = np.zeros((1,4))\n",
    "    totalIterations = 100\n",
    "    totalReward = 0\n",
    "    "
   ]
  },
  {
   "cell_type": "code",
   "execution_count": null,
   "metadata": {
    "collapsed": false
   },
   "outputs": [],
   "source": [
    "\n",
    "\n",
    "env = gym.make('Pendulum-v0')\n",
    "\n",
    "policyParameters_optimal = np.array([[-10,-10,-10,0]])\n",
    "env.reset(whichVersion = 1)\n",
    "# observations = env.state(inputTheta = initialStates[0,0], inputThetaDot = initialStates[0.1])\n",
    "for i in range (500):\n",
    "    env.render()\n",
    "    observations = np.reshape(observations, ([1,3]))\n",
    "    action = action_fromPolicy(policyParameters_optimal, observations)\n",
    "    action = np.array([action])\n",
    "    print action\n",
    "    observations, rewards, done, info = env.step(action)"
   ]
  },
  {
   "cell_type": "code",
   "execution_count": null,
   "metadata": {
    "collapsed": true
   },
   "outputs": [],
   "source": []
  }
 ],
 "metadata": {
  "kernelspec": {
   "display_name": "Python [Root]",
   "language": "python",
   "name": "Python [Root]"
  },
  "language_info": {
   "codemirror_mode": {
    "name": "ipython",
    "version": 2
   },
   "file_extension": ".py",
   "mimetype": "text/x-python",
   "name": "python",
   "nbconvert_exporter": "python",
   "pygments_lexer": "ipython2",
   "version": "2.7.12"
  }
 },
 "nbformat": 4,
 "nbformat_minor": 1
}
