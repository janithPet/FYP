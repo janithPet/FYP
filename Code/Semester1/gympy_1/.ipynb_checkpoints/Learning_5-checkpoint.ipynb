{
 "cells": [
  {
   "cell_type": "markdown",
   "metadata": {},
   "source": [
    "# Start simple, Start linearly\n",
    "\n",
    "The program below will mark the first RL algorithm truly implemented in this project. As such, to see if I've got the basics down, I started with a simply linear policy to learn. The algorithm contains two main parts. \n",
    "\n",
    "* The first is to learn a surrogate dynamics model of the environment. I personally like to think of this as the agent's belief of how the environment behaves, so the term surrogate doesn't too appropriate. A GP model will be used, with a gaussian covariance kernel. \n",
    "\n",
    "* The second is to use this belief of the system to learn an optimal policy. As mentioned previously, a linear policy structure will be used. Furthermore, bayesian optimisation with expected improvement will be used to find the optimal policy values. \n",
    "\n",
    "In order for the linear policy to be appropriate, the problem definition is changed to keeping a pendulum that starts inverted, with $\\pm 5^0$ from equilibrium. As such, the longer the policy can keep the pendulum within those limits, the better it is. To adhere to this limit, all simulations using the actual system are stopped if the position passes those boundaries. \n",
    "\n",
    "Let's see how this goes. Fingers crossed. "
   ]
  },
  {
   "cell_type": "code",
   "execution_count": 1,
   "metadata": {
    "collapsed": true
   },
   "outputs": [],
   "source": [
    "%matplotlib inline\n",
    "\n",
    "import gym\n",
    "import GPy\n",
    "import GPyOpt\n",
    "import numpy as np\n",
    "\n",
    "import matplotlib.pyplot as plt\n",
    "from mpl_toolkits.mplot3d import Axes3D\n",
    "from matplotlib import cm\n",
    "\n",
    "import gympy"
   ]
  },
  {
   "cell_type": "markdown",
   "metadata": {},
   "source": [
    "Once the libraries have been imported as above, the openai gym environment and the appropriate covariance kernels will need to be defined. The former of these can be carried out using the *setupEnvironment* function in the gympy library. This outputs the relevant input and observations arrays, as well as the rewards, action and prediction initial arrays. "
   ]
  },
  {
   "cell_type": "code",
   "execution_count": 3,
   "metadata": {
    "collapsed": false
   },
   "outputs": [
    {
     "name": "stdout",
     "output_type": "stream",
     "text": [
      "Please enter the environment: \n"
     ]
    },
    {
     "name": "stderr",
     "output_type": "stream",
     "text": [
      "[2016-11-24 17:14:35,798] Making new env: Pendulum-v0\n"
     ]
    }
   ],
   "source": [
    "env, observations, inputsNumpy, observationsNumpy, rewardsNumpy, action, predictionPDF = gympy.setupEnvironment(defaultEnvironment = 'Pendulum-v0', whichVersion = 0)\n",
    "k_dynamics = GPy.kern.RBF(input_dim=4, variance=1., lengthscale=1.)\n",
    "k_rewards = GPy.kern.RBF(input_dim=3, variance=1., lengthscale=1.)"
   ]
  },
  {
   "cell_type": "markdown",
   "metadata": {},
   "source": [
    "It is now necessary to define the key features of the RL algorithm. These include the how the reward (or cost) will be caluculated, the structure of the policy, and finally the objective function that will be minimised. \n",
    "\n",
    "The first of these is how the policy will be calculated. The policy must now be defined in terms of its parameters. In this particular example, a linear policy was chosen, for simplicity. This will be of the form:\n",
    "\n",
    "$$ \\pi(s_t) = \\phi(s_t)^T \\mathbf{\\theta} + \\mathbf{b},$$\n",
    "\n",
    "where the basis functions in $\\phi$ are simply the state variables, and the vector $\\theta$ represents the weights. Thus the action will be selected by policy that looks like:\n",
    "\n",
    "$$ a_t = s_{t,1}\\theta_1 + s_{t,2}\\theta_2  +  s_{t,3}\\theta_3 + \\theta_4, $$\n",
    "\n",
    "since this particular problem has 3 state variables. Note that $\\theta_4$ is the sum of the vector $\\mathbf{b}$. The reinforcement learning problem now becomes one of finiding the values of $\\theta$ such that the cost defined earlier is minimised. \n",
    "\n",
    "A function is defined to return the action after following the equation above."
   ]
  },
  {
   "cell_type": "code",
   "execution_count": 4,
   "metadata": {
    "collapsed": true
   },
   "outputs": [],
   "source": [
    "def action_fromPolicy(policyParameters, bufferObservations_policy):\n",
    "    actionToTake_policy = 0\n",
    "    [r,c] = policyParameters.shape\n",
    "    for i in range(c):\n",
    "        if i < c-1:\n",
    "            actionToTake_policy = actionToTake_policy + (bufferObservations_policy[0,i] * policyParameters[0,i])\n",
    "        else:\n",
    "            actionToTake_policy = actionToTake_policy + policyParameters[0,i]\n",
    "    actionToTake_policy = 2 * ((9/8)*np.sin(actionToTake_policy) + (1/8)*np.sin(3*actionToTake_policy))         \n",
    "\n",
    "    return actionToTake_policy"
   ]
  },
  {
   "cell_type": "markdown",
   "metadata": {},
   "source": [
    "Finding the policy parameters that minimise the total reward is clearly an optimisation problem. As such the optimisation method that will be used for this particular notebook is Bayesian Optimisation using Expected Improvement. Simply put, this methods chooses the next test point based on the highest expected improvement from the current minimun point (for a minimising problem that is). Thusly, a good mix of exploration and exploitation can be utilised to find the global minimum given the state box.\n",
    "\n",
    "The python library GPyOpt will be utilised for this. This requires the definition of an objective function; this is function that is to be optimised. In the present work, this will be the mapping from the policyy parameters to the total reward. Since this is a model based RL algorithm, the GP model that was trained previously will be used to generate the total reward. \n",
    "\n",
    "A key feature of this objective function is that it initially uses the actual system, while training the GP model as it gathers training data. It is programmed to switch to the GP model once the percentage error of the predictions from the model have reduced below a certain threshold. In order to save time, the GP model is trained ever time 500 new training points have been gathered. This also acts as a soft check to ensure that the threshold has been satisfied for a few data points. \n",
    "\n",
    "The reward, as mentioned in the [previous notebook](Learning_3.ipynb), the reward is function of the current state and the goal state. For the present notebook, the reward is calculated as the sum of the geometric distances between the each of the current states and the goal states. Please note that since each of these will be $ \\geqslant \\: 0$, it is technically speaking a cost, rather than a reward. However, since the difference betweeen the two is merely a negative symbol, reward and cost will be used interchangebly.\n",
    "\n",
    "In this case, the reward, or total cost is defined as the inverse of the number of iterations the system stay within the limits defined at the start; the longer it stays, the lower the cost. "
   ]
  },
  {
   "cell_type": "code",
   "execution_count": 5,
   "metadata": {
    "collapsed": false
   },
   "outputs": [],
   "source": [
    "def objectiveFunction(policyParameters):\n",
    "#     thetaBound = np.array([np.pi*5*180,1])\n",
    "#     thetaObservations = np.random.uniform(low=-thetaBound, high=thetaBound)\n",
    "\n",
    "#     bufferObservations_policy = np.array([np.cos(thetaObservations[0]), np.sin(thetaObservations[0]), thetaObservations[1]])\n",
    "\n",
    "#     bufferObservations_policy = np.reshape(bufferObservations_policy, ([1,3]))\n",
    "\n",
    "    global useBelief\n",
    "    global observationsNumpy\n",
    "    global inputsNumpy\n",
    "    global k_dynamics\n",
    "    global m_dynamics\n",
    "    global avgErrorSummary\n",
    "    global modelCounter\n",
    "    \n",
    "    bufferObservations_policy = np.zeros((1,4))\n",
    "    bufferInputs_policy = np.zeros((1,4))\n",
    "    \n",
    "    totalIterations = 1000\n",
    "    totalReward = 0\n",
    "    counter = 1\n",
    "    \n",
    "    \n",
    "    observations_sim = env.reset(whichVersion=1)\n",
    "    observations = np.reshape(observations_sim, ([1,3]))\n",
    "    predictionPDF = observations\n",
    "    actionToTake_policy = action_fromPolicy(policyParameters, observations)\n",
    "    \n",
    "    \n",
    "    if useBelief == False:\n",
    "        \n",
    "        while abs(observations[0,0]) > np.cos(5*np.pi/180) and counter <= totalIterations:\n",
    "            \n",
    "            bufferActionToTake = np.array([actionToTake_policy])\n",
    "            bufferActionToTake = np.reshape(bufferActionToTake, ([1]))\n",
    "            bufferActionToTake_toAppend = np.reshape(bufferActionToTake,([1,1]))\n",
    "            bufferInputs_policy = np.append(bufferActionToTake_toAppend, observations, axis = 1) \n",
    "            \n",
    "            [observationsNumpy, bufferObservations] = gympy.appendObservationsArray(observationsNumpy, observations_sim, counter)\n",
    "            [inputsNumpy, bufferInput] = gympy.appendInputArray(inputsNumpy, bufferActionToTake, observations_sim, counter)\n",
    "\n",
    "            \n",
    "            observations_sim, rewards, done, info = env.step(bufferActionToTake)\n",
    "            predictionPDF = m_dynamics.predict(bufferInputs_policy)[0]\n",
    "            \n",
    "            observations = np.reshape(observations_sim, ([1,3]))\n",
    "            predictionPDF = np.reshape(predictionPDF, ([1,3]))\n",
    "            \n",
    "            if counter == 1:\n",
    "                observationsSummary = observations\n",
    "                predictionSummary = predictionPDF\n",
    "                errorSummary = abs((predictionPDF - observations)/observations)\n",
    "            else:\n",
    "                observationsSummary = np.append(observationsSummary, observations, axis = 0)\n",
    "                predictionSummary = np.append(predictionSummary, predictionPDF, axis = 0)\n",
    "                errorSummary = np.append(errorSummary, abs((predictionPDF - observations)/observations), axis = 0)\n",
    "            \n",
    "            actionToTake_policy = action_fromPolicy(policyParameters,observations)\n",
    "                \n",
    "            counter += 1\n",
    "            \n",
    "        avgError = np.mean(errorSummary) * 100\n",
    "        avgErrorSummary = np.append(avgErrorSummary, np.reshape(avgError, ([1])), axis = 0)\n",
    "        \n",
    "        if inputsNumpy.shape[0] - modelCounter >= 500:\n",
    "            print 'training GP model'\n",
    "            m_dynamics = gympy.generateModel(inputsNumpy, observationsNumpy, k_dynamics)\n",
    "            m_dynamics.optimize() \n",
    "            modelCounter = inputsNumpy.shape[0]\n",
    "        \n",
    "        if avgError < 1:\n",
    "                useBelief = True\n",
    "                print 'using GP model'\n",
    "        \n",
    "        print 'not using GP model, current error is %f' % avgError, inputsNumpy.shape, observationsNumpy.shape\n",
    "        \n",
    "    if useBelief == True:\n",
    "        \n",
    "        \n",
    "        \n",
    "        while abs(predictionPDF[0,0]) > np.cos(5*np.pi/180) and counter <= totalIterations:\n",
    "            bufferActionToTake = np.array([actionToTake_policy])\n",
    "            bufferActionToTake = np.reshape(bufferActionToTake, ([1]))\n",
    "            bufferActionToTake_toAppend = np.reshape(bufferActionToTake,([1,1]))\n",
    "            bufferInputs_policy = np.append(bufferActionToTake_toAppend, predictionPDF, axis = 1) \n",
    "        \n",
    "            predictionPDF = m_dynamics.predict(bufferInputs_policy)[0]\n",
    "            \n",
    "            predictionPDF = np.reshape(predictionPDF, ([1,3]))\n",
    "            actionToTakePolicy = action_fromPolicy(policyParameters, observations)\n",
    "            \n",
    "            counter += 1\n",
    "    \n",
    "    totalReward = (1000/counter)\n",
    "    \n",
    "    \n",
    "    \n",
    "    return totalReward\n",
    "        \n",
    "    "
   ]
  },
  {
   "cell_type": "markdown",
   "metadata": {},
   "source": [
    "A random policy is now created to start the process."
   ]
  },
  {
   "cell_type": "code",
   "execution_count": 20,
   "metadata": {
    "collapsed": true
   },
   "outputs": [],
   "source": [
    "policyBounds = np.array([1,1,1,10])\n",
    "policyParameters =  np.random.uniform(low = -policyBounds, high = policyBounds)\n",
    "policyParameters = np.reshape(policyParameters,([1,4]))"
   ]
  },
  {
   "cell_type": "markdown",
   "metadata": {},
   "source": [
    "Once the policy parameters have been chosen, they must be used on the actual system. For the first iteration, to learn an initial dynamics model, this policy is used on 5 experiments of 100 time steps each. "
   ]
  },
  {
   "cell_type": "code",
   "execution_count": 7,
   "metadata": {
    "collapsed": false
   },
   "outputs": [],
   "source": [
    "for attempt in range(500):\n",
    "    if attempt%100 == 0:\n",
    "        observations = env.reset(whichVersion=1)\n",
    "    \n",
    "    bufferObservations = np.reshape(observations, ([1,3]))\n",
    "    actionToTake = action_fromPolicy(policyParameters, bufferObservations)\n",
    "    actionToTake_random = env.action_space.sample()\n",
    "    \n",
    "    inputsNumpy, bufferInput = gympy.appendInputArray(inputsNumpy, actionToTake_random, observations, attempt)\n",
    "    \n",
    "    actionToTake = np.array([actionToTake])\n",
    "    \n",
    "    [observationsNumpy, bufferObservations] = gympy.appendObservationsArray(observationsNumpy, observations, attempt)\n",
    "    \n",
    "    observations, rewards, done, info = env.step(actionToTake)"
   ]
  },
  {
   "cell_type": "code",
   "execution_count": 8,
   "metadata": {
    "collapsed": false
   },
   "outputs": [
    {
     "name": "stderr",
     "output_type": "stream",
     "text": [
      "[2016-11-24 17:14:41,103] initializing Y\n",
      "[2016-11-24 17:14:41,104] initializing inference method\n",
      "[2016-11-24 17:14:41,105] adding kernel and likelihood as parameters\n"
     ]
    }
   ],
   "source": [
    "m_dynamics = gympy.generateModel(inputsNumpy, observationsNumpy, k_dynamics)\n",
    "m_dynamics.optimize()"
   ]
  },
  {
   "cell_type": "code",
   "execution_count": 9,
   "metadata": {
    "collapsed": true
   },
   "outputs": [],
   "source": [
    "bounds = [{'domain': (-1,1), 'name': 'var_1', 'type': 'continuous', 'dimensionality':3},\n",
    "         {'domain': (-10,10), 'name': 'var_4', 'type': 'continuous', 'dimensionality':1}]"
   ]
  },
  {
   "cell_type": "markdown",
   "metadata": {},
   "source": [
    "Now, the optimistation loop is carried out."
   ]
  },
  {
   "cell_type": "code",
   "execution_count": 10,
   "metadata": {
    "collapsed": false,
    "scrolled": true
   },
   "outputs": [
    {
     "name": "stderr",
     "output_type": "stream",
     "text": [
      "[2016-11-24 17:14:50,579] initializing Y\n",
      "[2016-11-24 17:14:50,581] initializing inference method\n",
      "[2016-11-24 17:14:50,583] adding kernel and likelihood as parameters\n"
     ]
    },
    {
     "name": "stdout",
     "output_type": "stream",
     "text": [
      "not using GP model, current error is 55.594624 (504, 4) (504, 3)\n",
      "not using GP model, current error is 40.904601 (507, 4) (507, 3)\n",
      "not using GP model, current error is 23.695562 (516, 4) (516, 3)\n",
      "not using GP model, current error is 30.193165 (521, 4) (521, 3)\n",
      "not using GP model, current error is 41.199166 (524, 4) (524, 3)\n",
      "not using GP model, current error is 28.917555 (529, 4) (529, 3)\n",
      "not using GP model, current error is 25.645802 (536, 4) (536, 3)\n",
      "not using GP model, current error is 15.262079 (553, 4) (553, 3)\n",
      "not using GP model, current error is 21.078159 (568, 4) (568, 3)\n",
      "not using GP model, current error is 34.228792 (572, 4) (572, 3)\n",
      "not using GP model, current error is 35.217052 (576, 4) (576, 3)\n",
      "not using GP model, current error is 17.149026 (604, 4) (604, 3)\n",
      "not using GP model, current error is 9.582419 (627, 4) (627, 3)\n",
      "not using GP model, current error is 15.915531 (654, 4) (654, 3)\n",
      "not using GP model, current error is 7.303523 (694, 4) (694, 3)\n",
      "not using GP model, current error is 9.504001 (716, 4) (716, 3)\n",
      "not using GP model, current error is 27.106669 (723, 4) (723, 3)\n",
      "not using GP model, current error is 33.766115 (727, 4) (727, 3)\n",
      "not using GP model, current error is 39.923739 (730, 4) (730, 3)\n",
      "not using GP model, current error is 37.154859 (734, 4) (734, 3)\n",
      "not using GP model, current error is 48.536079 (738, 4) (738, 3)\n",
      "not using GP model, current error is 28.598645 (743, 4) (743, 3)\n",
      "not using GP model, current error is 44.418890 (747, 4) (747, 3)\n",
      "not using GP model, current error is 34.590994 (755, 4) (755, 3)\n",
      "not using GP model, current error is 46.139553 (759, 4) (759, 3)\n",
      "not using GP model, current error is 35.435408 (763, 4) (763, 3)\n",
      "not using GP model, current error is 49.655169 (767, 4) (767, 3)\n",
      "not using GP model, current error is 54.463855 (772, 4) (772, 3)\n",
      "not using GP model, current error is 42.858770 (776, 4) (776, 3)\n",
      "not using GP model, current error is 40.176904 (779, 4) (779, 3)\n",
      "not using GP model, current error is 207.073877 (785, 4) (785, 3)\n",
      "not using GP model, current error is 46.953350 (789, 4) (789, 3)\n",
      "not using GP model, current error is 31.272072 (797, 4) (797, 3)\n",
      "not using GP model, current error is 19.089987 (805, 4) (805, 3)\n",
      "not using GP model, current error is 30.602117 (810, 4) (810, 3)\n",
      "not using GP model, current error is 40.586720 (815, 4) (815, 3)\n",
      "not using GP model, current error is 34.402166 (820, 4) (820, 3)\n",
      "not using GP model, current error is 38.378876 (825, 4) (825, 3)\n",
      "not using GP model, current error is 39.377034 (829, 4) (829, 3)\n",
      "not using GP model, current error is 34.146219 (833, 4) (833, 3)\n",
      "not using GP model, current error is 18.423834 (842, 4) (842, 3)\n",
      "not using GP model, current error is 48.509292 (847, 4) (847, 3)\n",
      "not using GP model, current error is 40.704507 (851, 4) (851, 3)\n",
      "not using GP model, current error is 51.786118 (855, 4) (855, 3)\n",
      "not using GP model, current error is 16.465444 (866, 4) (866, 3)\n",
      "not using GP model, current error is 31.397829 (875, 4) (875, 3)\n",
      "not using GP model, current error is 24.089127 (883, 4) (883, 3)\n",
      "not using GP model, current error is 37.841831 (887, 4) (887, 3)\n",
      "not using GP model, current error is 23.920472 (893, 4) (893, 3)\n",
      "not using GP model, current error is 40.965478 (900, 4) (900, 3)\n",
      "not using GP model, current error is 36.752529 (905, 4) (905, 3)\n",
      "not using GP model, current error is 19.933213 (914, 4) (914, 3)\n",
      "not using GP model, current error is 27.533992 (919, 4) (919, 3)\n",
      "not using GP model, current error is 51.069632 (923, 4) (923, 3)\n",
      "not using GP model, current error is 40.803814 (926, 4) (926, 3)\n",
      "not using GP model, current error is 27.378836 (933, 4) (933, 3)\n",
      "not using GP model, current error is 42.605029 (936, 4) (936, 3)\n",
      "not using GP model, current error is 41.290727 (943, 4) (943, 3)\n",
      "not using GP model, current error is 32.739476 (947, 4) (947, 3)\n",
      "not using GP model, current error is 34.947318 (952, 4) (952, 3)\n",
      "not using GP model, current error is 41.059118 (956, 4) (956, 3)\n",
      "not using GP model, current error is 35.563920 (960, 4) (960, 3)\n",
      "not using GP model, current error is 44.960258 (963, 4) (963, 3)\n",
      "not using GP model, current error is 28.278430 (968, 4) (968, 3)\n",
      "not using GP model, current error is 43.215725 (973, 4) (973, 3)\n",
      "not using GP model, current error is 38.851845 (977, 4) (977, 3)\n",
      "not using GP model, current error is 47.045433 (981, 4) (981, 3)\n",
      "not using GP model, current error is 38.020116 (984, 4) (984, 3)\n",
      "not using GP model, current error is 37.089586 (991, 4) (991, 3)\n",
      "not using GP model, current error is 50.288586 (995, 4) (995, 3)\n",
      "not using GP model, current error is 42.298973 (999, 4) (999, 3)\n"
     ]
    },
    {
     "name": "stderr",
     "output_type": "stream",
     "text": [
      "[2016-11-24 17:15:18,631] initializing Y\n",
      "[2016-11-24 17:15:18,632] initializing inference method\n",
      "[2016-11-24 17:15:18,633] adding kernel and likelihood as parameters\n"
     ]
    },
    {
     "name": "stdout",
     "output_type": "stream",
     "text": [
      "training GP model\n",
      "not using GP model, current error is 83.953435 (1003, 4) (1003, 3)\n",
      "not using GP model, current error is 31.601189 (1008, 4) (1008, 3)\n",
      "not using GP model, current error is 64.796537 (1012, 4) (1012, 3)\n",
      "not using GP model, current error is 31.586194 (1018, 4) (1018, 3)\n",
      "not using GP model, current error is 39.611150 (1022, 4) (1022, 3)\n",
      "not using GP model, current error is 20.426772 (1066, 4) (1066, 3)\n",
      "not using GP model, current error is 11.293281 (1085, 4) (1085, 3)\n",
      "not using GP model, current error is 55.938287 (1098, 4) (1098, 3)\n",
      "not using GP model, current error is 4.380403 (1134, 4) (1134, 3)\n",
      "not using GP model, current error is 10.223955 (1172, 4) (1172, 3)\n",
      "not using GP model, current error is 33.834442 (1178, 4) (1178, 3)\n",
      "not using GP model, current error is 37.158265 (1185, 4) (1185, 3)\n",
      "not using GP model, current error is 32.811667 (1190, 4) (1190, 3)\n",
      "not using GP model, current error is 41.898468 (1194, 4) (1194, 3)\n",
      "not using GP model, current error is 9.016677 (1227, 4) (1227, 3)\n",
      "not using GP model, current error is 43.968127 (1230, 4) (1230, 3)\n",
      "not using GP model, current error is 46.106764 (1234, 4) (1234, 3)\n",
      "not using GP model, current error is 66.747929 (1238, 4) (1238, 3)\n",
      "not using GP model, current error is 32.931865 (1244, 4) (1244, 3)\n",
      "not using GP model, current error is 48.246947 (1247, 4) (1247, 3)\n",
      "not using GP model, current error is 45.856141 (1250, 4) (1250, 3)\n",
      "not using GP model, current error is 84.190562 (1255, 4) (1255, 3)\n",
      "not using GP model, current error is 39.760464 (1258, 4) (1258, 3)\n",
      "not using GP model, current error is 50.234427 (1262, 4) (1262, 3)\n",
      "not using GP model, current error is 26.484492 (1275, 4) (1275, 3)\n",
      "not using GP model, current error is 25.695025 (1281, 4) (1281, 3)\n",
      "not using GP model, current error is 8.158136 (1305, 4) (1305, 3)\n",
      "not using GP model, current error is 20.168448 (1314, 4) (1314, 3)\n",
      "not using GP model, current error is 44.492343 (1325, 4) (1325, 3)\n",
      "not using GP model, current error is 23.218915 (1338, 4) (1338, 3)\n",
      "not using GP model, current error is 38.745956 (1341, 4) (1341, 3)\n",
      "not using GP model, current error is 42.150755 (1346, 4) (1346, 3)\n",
      "not using GP model, current error is 23.771836 (1352, 4) (1352, 3)\n",
      "not using GP model, current error is 49.918850 (1356, 4) (1356, 3)\n",
      "not using GP model, current error is 21.903589 (1364, 4) (1364, 3)\n",
      "not using GP model, current error is 23.416845 (1374, 4) (1374, 3)\n",
      "not using GP model, current error is 16.899846 (1386, 4) (1386, 3)\n",
      "not using GP model, current error is 45.498612 (1393, 4) (1393, 3)\n",
      "not using GP model, current error is 31.414933 (1398, 4) (1398, 3)\n",
      "not using GP model, current error is 38.732510 (1405, 4) (1405, 3)\n",
      "not using GP model, current error is 20.146815 (1413, 4) (1413, 3)\n",
      "not using GP model, current error is 34.579082 (1417, 4) (1417, 3)\n",
      "not using GP model, current error is 14.633292 (1429, 4) (1429, 3)\n",
      "not using GP model, current error is 36.844720 (1436, 4) (1436, 3)\n",
      "not using GP model, current error is 22.921423 (1444, 4) (1444, 3)\n",
      "not using GP model, current error is 47.662982 (1449, 4) (1449, 3)\n",
      "not using GP model, current error is 31.618152 (1454, 4) (1454, 3)\n",
      "not using GP model, current error is 23.808958 (1461, 4) (1461, 3)\n",
      "not using GP model, current error is 51.002016 (1466, 4) (1466, 3)\n",
      "not using GP model, current error is 33.810394 (1472, 4) (1472, 3)\n",
      "not using GP model, current error is 23.494841 (1478, 4) (1478, 3)\n",
      "not using GP model, current error is 54.258484 (1483, 4) (1483, 3)\n",
      "not using GP model, current error is 32.341931 (1488, 4) (1488, 3)\n",
      "not using GP model, current error is 32.880258 (1496, 4) (1496, 3)\n",
      "not using GP model, current error is 28.328462 (1501, 4) (1501, 3)\n",
      "not using GP model, current error is 13.678157 (1515, 4) (1515, 3)\n",
      "not using GP model, current error is 47.037533 (1521, 4) (1521, 3)\n",
      "not using GP model, current error is 67.914131 (1527, 4) (1527, 3)\n",
      "not using GP model, current error is 16.308669 (1538, 4) (1538, 3)\n",
      "not using GP model, current error is 21.029480 (1548, 4) (1548, 3)\n",
      "not using GP model, current error is 12.433960 (1567, 4) (1567, 3)\n",
      "not using GP model, current error is 46.919545 (1574, 4) (1574, 3)\n",
      "not using GP model, current error is 26.721645 (1580, 4) (1580, 3)\n",
      "not using GP model, current error is 30.779093 (1588, 4) (1588, 3)\n",
      "not using GP model, current error is 30.464322 (1594, 4) (1594, 3)\n",
      "not using GP model, current error is 160.878702 (1598, 4) (1598, 3)\n",
      "not using GP model, current error is 34.432833 (1603, 4) (1603, 3)\n",
      "not using GP model, current error is 9.699856 (1632, 4) (1632, 3)\n",
      "not using GP model, current error is 44.431477 (1636, 4) (1636, 3)\n",
      "not using GP model, current error is 38.514512 (1640, 4) (1640, 3)\n",
      "not using GP model, current error is 16.789687 (1657, 4) (1657, 3)\n",
      "not using GP model, current error is 49.549954 (1661, 4) (1661, 3)\n",
      "not using GP model, current error is 39.253374 (1664, 4) (1664, 3)\n",
      "not using GP model, current error is 24.333627 (1671, 4) (1671, 3)\n",
      "not using GP model, current error is 48.921629 (1683, 4) (1683, 3)\n",
      "not using GP model, current error is 34.117821 (1701, 4) (1701, 3)\n",
      "not using GP model, current error is 33.890382 (1706, 4) (1706, 3)\n",
      "not using GP model, current error is 41.864388 (1709, 4) (1709, 3)\n",
      "not using GP model, current error is 39.622549 (1713, 4) (1713, 3)\n",
      "not using GP model, current error is 35.426381 (1721, 4) (1721, 3)\n",
      "not using GP model, current error is 22.500040 (1742, 4) (1742, 3)\n",
      "not using GP model, current error is 14.330295 (1753, 4) (1753, 3)\n",
      "not using GP model, current error is 4.410411 (1802, 4) (1802, 3)\n",
      "not using GP model, current error is 11.741623 (1822, 4) (1822, 3)\n",
      "not using GP model, current error is 17.964931 (1842, 4) (1842, 3)\n",
      "not using GP model, current error is 30.579203 (1882, 4) (1882, 3)\n",
      "not using GP model, current error is 30.082209 (1889, 4) (1889, 3)\n",
      "not using GP model, current error is 37.702586 (1894, 4) (1894, 3)\n",
      "not using GP model, current error is 36.824532 (1903, 4) (1903, 3)\n",
      "not using GP model, current error is 35.008295 (1914, 4) (1914, 3)\n",
      "not using GP model, current error is 56.373053 (1923, 4) (1923, 3)\n",
      "not using GP model, current error is 30.884872 (1932, 4) (1932, 3)\n",
      "not using GP model, current error is 28.358698 (1937, 4) (1937, 3)\n",
      "not using GP model, current error is 23.270208 (1943, 4) (1943, 3)\n",
      "not using GP model, current error is 21.640889 (1963, 4) (1963, 3)\n",
      "not using GP model, current error is 22.933675 (1970, 4) (1970, 3)\n",
      "not using GP model, current error is 22.542826 (1977, 4) (1977, 3)\n",
      "not using GP model, current error is 24.235279 (1989, 4) (1989, 3)\n",
      "not using GP model, current error is 18.638602 (2001, 4) (2001, 3)\n"
     ]
    },
    {
     "name": "stderr",
     "output_type": "stream",
     "text": [
      "[2016-11-24 17:16:33,086] initializing Y\n",
      "[2016-11-24 17:16:33,087] initializing inference method\n",
      "[2016-11-24 17:16:33,089] adding kernel and likelihood as parameters\n"
     ]
    },
    {
     "name": "stdout",
     "output_type": "stream",
     "text": [
      "training GP model\n",
      "not using GP model, current error is 38.455618 (2006, 4) (2006, 3)\n",
      "not using GP model, current error is 16.194586 (2021, 4) (2021, 3)\n",
      "not using GP model, current error is 29.776339 (2026, 4) (2026, 3)\n",
      "not using GP model, current error is 42.530170 (2034, 4) (2034, 3)\n",
      "not using GP model, current error is 26.725456 (2041, 4) (2041, 3)\n",
      "not using GP model, current error is 14.978380 (2056, 4) (2056, 3)\n",
      "not using GP model, current error is 47.504210 (2063, 4) (2063, 3)\n",
      "not using GP model, current error is 23.569173 (2070, 4) (2070, 3)\n",
      "not using GP model, current error is 19.472368 (2080, 4) (2080, 3)\n",
      "not using GP model, current error is 57.795752 (2085, 4) (2085, 3)\n",
      "not using GP model, current error is 31.561850 (2089, 4) (2089, 3)\n",
      "not using GP model, current error is 29.243139 (2097, 4) (2097, 3)\n",
      "not using GP model, current error is 25.136546 (2112, 4) (2112, 3)\n",
      "not using GP model, current error is 46.941866 (2118, 4) (2118, 3)\n",
      "not using GP model, current error is 35.575890 (2124, 4) (2124, 3)\n",
      "not using GP model, current error is 28.251325 (2131, 4) (2131, 3)\n",
      "not using GP model, current error is 22.964980 (2139, 4) (2139, 3)\n",
      "not using GP model, current error is 23.804615 (2147, 4) (2147, 3)\n",
      "not using GP model, current error is 147.518899 (2162, 4) (2162, 3)\n",
      "not using GP model, current error is 43.274639 (2173, 4) (2173, 3)\n",
      "not using GP model, current error is 146.383851 (2179, 4) (2179, 3)\n",
      "not using GP model, current error is 94.451413 (2184, 4) (2184, 3)\n",
      "not using GP model, current error is 35.691288 (2192, 4) (2192, 3)\n",
      "not using GP model, current error is 30.308816 (2203, 4) (2203, 3)\n",
      "not using GP model, current error is 27.347551 (2208, 4) (2208, 3)\n",
      "not using GP model, current error is 40.927369 (2220, 4) (2220, 3)\n",
      "not using GP model, current error is 29.253241 (2233, 4) (2233, 3)\n",
      "not using GP model, current error is 23.882328 (2241, 4) (2241, 3)\n",
      "not using GP model, current error is 41.829714 (2244, 4) (2244, 3)\n",
      "not using GP model, current error is 25.226053 (2250, 4) (2250, 3)\n",
      "not using GP model, current error is 36.501124 (2254, 4) (2254, 3)\n",
      "not using GP model, current error is 49.335397 (2261, 4) (2261, 3)\n",
      "not using GP model, current error is 39.733208 (2265, 4) (2265, 3)\n",
      "not using GP model, current error is 23.656315 (2272, 4) (2272, 3)\n",
      "not using GP model, current error is 41.657033 (2278, 4) (2278, 3)\n",
      "not using GP model, current error is 38.157449 (2285, 4) (2285, 3)\n",
      "not using GP model, current error is 29.906219 (2290, 4) (2290, 3)\n",
      "not using GP model, current error is 22.166660 (2312, 4) (2312, 3)\n",
      "not using GP model, current error is 10.632708 (2333, 4) (2333, 3)\n",
      "not using GP model, current error is 14.826439 (2350, 4) (2350, 3)\n",
      "not using GP model, current error is 24.089635 (2357, 4) (2357, 3)\n",
      "not using GP model, current error is 29.759177 (2367, 4) (2367, 3)\n",
      "not using GP model, current error is 38.657149 (2374, 4) (2374, 3)\n",
      "not using GP model, current error is 20.583265 (2383, 4) (2383, 3)\n",
      "not using GP model, current error is 31.155832 (2395, 4) (2395, 3)\n",
      "not using GP model, current error is 26.411334 (2400, 4) (2400, 3)\n",
      "not using GP model, current error is 29.208408 (2405, 4) (2405, 3)\n",
      "not using GP model, current error is 23.174262 (2416, 4) (2416, 3)\n",
      "not using GP model, current error is 32.612962 (2424, 4) (2424, 3)\n",
      "not using GP model, current error is 10.195696 (2449, 4) (2449, 3)\n",
      "not using GP model, current error is 10.691955 (2468, 4) (2468, 3)\n",
      "not using GP model, current error is 18.520666 (2477, 4) (2477, 3)\n",
      "not using GP model, current error is 25.318951 (2489, 4) (2489, 3)\n",
      "not using GP model, current error is 25.721959 (2496, 4) (2496, 3)\n",
      "not using GP model, current error is 20.203631 (2517, 4) (2517, 3)\n",
      "not using GP model, current error is 21.652878 (2533, 4) (2533, 3)\n",
      "not using GP model, current error is 43.915581 (2537, 4) (2537, 3)\n",
      "not using GP model, current error is 40.469096 (2541, 4) (2541, 3)\n",
      "not using GP model, current error is 39.170918 (2545, 4) (2545, 3)\n",
      "not using GP model, current error is 12.620308 (2565, 4) (2565, 3)\n",
      "not using GP model, current error is 21.699129 (2582, 4) (2582, 3)\n",
      "not using GP model, current error is 28.030455 (2588, 4) (2588, 3)\n",
      "not using GP model, current error is 27.446916 (2601, 4) (2601, 3)\n",
      "not using GP model, current error is 47.645553 (2617, 4) (2617, 3)\n",
      "not using GP model, current error is 38.332420 (2625, 4) (2625, 3)\n",
      "not using GP model, current error is 55.913679 (2634, 4) (2634, 3)\n",
      "not using GP model, current error is 19.998632 (2643, 4) (2643, 3)\n",
      "not using GP model, current error is 57.820243 (2649, 4) (2649, 3)\n",
      "not using GP model, current error is 50.957077 (2655, 4) (2655, 3)\n",
      "not using GP model, current error is 19.399993 (2666, 4) (2666, 3)\n",
      "not using GP model, current error is 58.747539 (2671, 4) (2671, 3)\n",
      "not using GP model, current error is 34.975136 (2676, 4) (2676, 3)\n",
      "not using GP model, current error is 47.134585 (2683, 4) (2683, 3)\n",
      "not using GP model, current error is 30.120662 (2688, 4) (2688, 3)\n",
      "not using GP model, current error is 185.764129 (2695, 4) (2695, 3)\n",
      "not using GP model, current error is 38.013487 (2699, 4) (2699, 3)\n",
      "not using GP model, current error is 16.253592 (2713, 4) (2713, 3)\n",
      "not using GP model, current error is 591.753531 (2738, 4) (2738, 3)\n",
      "not using GP model, current error is 26.672928 (2756, 4) (2756, 3)\n",
      "not using GP model, current error is 74.672287 (2767, 4) (2767, 3)\n",
      "not using GP model, current error is 19.497859 (2775, 4) (2775, 3)\n",
      "not using GP model, current error is 23.689306 (2798, 4) (2798, 3)\n",
      "not using GP model, current error is 39.598943 (2810, 4) (2810, 3)\n",
      "not using GP model, current error is 23.074172 (2818, 4) (2818, 3)\n",
      "not using GP model, current error is 14.696046 (2832, 4) (2832, 3)\n",
      "not using GP model, current error is 16.884941 (2857, 4) (2857, 3)\n",
      "not using GP model, current error is 9.683128 (2882, 4) (2882, 3)\n",
      "not using GP model, current error is 17.924335 (2895, 4) (2895, 3)\n",
      "not using GP model, current error is 10.876177 (2915, 4) (2915, 3)\n",
      "not using GP model, current error is 15.978295 (2925, 4) (2925, 3)\n",
      "not using GP model, current error is 20.450089 (2938, 4) (2938, 3)\n",
      "not using GP model, current error is 31.070561 (2943, 4) (2943, 3)\n",
      "not using GP model, current error is 26.381155 (2954, 4) (2954, 3)\n",
      "not using GP model, current error is 20.158054 (2963, 4) (2963, 3)\n",
      "not using GP model, current error is 32.513123 (2968, 4) (2968, 3)\n",
      "not using GP model, current error is 17.102972 (2986, 4) (2986, 3)\n",
      "not using GP model, current error is 26.962517 (2993, 4) (2993, 3)\n",
      "not using GP model, current error is 27.368708 (2999, 4) (2999, 3)\n",
      "not using GP model, current error is 26.800732 (3005, 4) (3005, 3)\n"
     ]
    },
    {
     "name": "stderr",
     "output_type": "stream",
     "text": [
      "[2016-11-24 17:18:38,044] initializing Y\n",
      "[2016-11-24 17:18:38,045] initializing inference method\n",
      "[2016-11-24 17:18:38,046] adding kernel and likelihood as parameters\n"
     ]
    },
    {
     "name": "stdout",
     "output_type": "stream",
     "text": [
      "training GP model\n",
      "not using GP model, current error is 26.734064 (3012, 4) (3012, 3)\n",
      "not using GP model, current error is 37.952482 (3016, 4) (3016, 3)\n",
      "not using GP model, current error is 18.798592 (3027, 4) (3027, 3)\n",
      "not using GP model, current error is 31.665636 (3032, 4) (3032, 3)\n",
      "not using GP model, current error is 17.752937 (3045, 4) (3045, 3)\n",
      "not using GP model, current error is 14.826613 (3061, 4) (3061, 3)\n",
      "not using GP model, current error is 40.433419 (3067, 4) (3067, 3)\n",
      "not using GP model, current error is 35.721861 (3072, 4) (3072, 3)\n",
      "not using GP model, current error is 717.894052 (3080, 4) (3080, 3)\n",
      "not using GP model, current error is 31.511173 (3086, 4) (3086, 3)\n",
      "not using GP model, current error is 34.208005 (3094, 4) (3094, 3)\n",
      "not using GP model, current error is 23.337875 (3100, 4) (3100, 3)\n",
      "not using GP model, current error is 20.825275 (3110, 4) (3110, 3)\n",
      "not using GP model, current error is 27.499014 (3116, 4) (3116, 3)\n",
      "not using GP model, current error is 28.929587 (3121, 4) (3121, 3)\n",
      "not using GP model, current error is 27.894754 (3126, 4) (3126, 3)\n",
      "not using GP model, current error is 30.720835 (3131, 4) (3131, 3)\n",
      "not using GP model, current error is 41.926520 (3135, 4) (3135, 3)\n",
      "not using GP model, current error is 35.981746 (3146, 4) (3146, 3)\n",
      "not using GP model, current error is 32.597856 (3152, 4) (3152, 3)\n",
      "not using GP model, current error is 5.170639 (3198, 4) (3198, 3)\n",
      "not using GP model, current error is 17.796380 (3214, 4) (3214, 3)\n",
      "not using GP model, current error is 47.414007 (3230, 4) (3230, 3)\n",
      "not using GP model, current error is 21.957691 (3240, 4) (3240, 3)\n",
      "not using GP model, current error is 29.706262 (3245, 4) (3245, 3)\n",
      "not using GP model, current error is 14.959045 (3283, 4) (3283, 3)\n",
      "not using GP model, current error is 41.810181 (3288, 4) (3288, 3)\n",
      "not using GP model, current error is 25.450654 (3296, 4) (3296, 3)\n",
      "not using GP model, current error is 16.466267 (3309, 4) (3309, 3)\n",
      "not using GP model, current error is 26.833238 (3315, 4) (3315, 3)\n",
      "not using GP model, current error is 28.941170 (3325, 4) (3325, 3)\n",
      "not using GP model, current error is 21.975554 (3344, 4) (3344, 3)\n",
      "not using GP model, current error is 20.344427 (3381, 4) (3381, 3)\n",
      "not using GP model, current error is 18.908768 (3403, 4) (3403, 3)\n",
      "not using GP model, current error is 17.992368 (3432, 4) (3432, 3)\n",
      "not using GP model, current error is 8.326323 (3470, 4) (3470, 3)\n",
      "not using GP model, current error is 10.047453 (3499, 4) (3499, 3)\n",
      "not using GP model, current error is 26.497747 (3514, 4) (3514, 3)\n",
      "not using GP model, current error is 16.313970 (3525, 4) (3525, 3)\n",
      "not using GP model, current error is 17.168436 (3549, 4) (3549, 3)\n",
      "not using GP model, current error is 22.097101 (3559, 4) (3559, 3)\n",
      "not using GP model, current error is 41.306584 (3562, 4) (3562, 3)\n",
      "not using GP model, current error is 42.823879 (3566, 4) (3566, 3)\n",
      "not using GP model, current error is 17.808707 (3609, 4) (3609, 3)\n",
      "not using GP model, current error is 12.827197 (3626, 4) (3626, 3)\n",
      "not using GP model, current error is 25.476598 (3632, 4) (3632, 3)\n",
      "not using GP model, current error is 24.157758 (3642, 4) (3642, 3)\n",
      "not using GP model, current error is 36.385319 (3649, 4) (3649, 3)\n",
      "not using GP model, current error is 31.123518 (3661, 4) (3661, 3)\n",
      "not using GP model, current error is 10.284659 (3691, 4) (3691, 3)\n",
      "not using GP model, current error is 20.136838 (3700, 4) (3700, 3)\n",
      "not using GP model, current error is 19.867312 (3712, 4) (3712, 3)\n",
      "not using GP model, current error is 25.568777 (3726, 4) (3726, 3)\n",
      "not using GP model, current error is 16.744020 (3738, 4) (3738, 3)\n",
      "not using GP model, current error is 12.980875 (3752, 4) (3752, 3)\n",
      "not using GP model, current error is 31.798869 (3758, 4) (3758, 3)\n",
      "not using GP model, current error is 21.332756 (3765, 4) (3765, 3)\n",
      "not using GP model, current error is 23.051106 (3774, 4) (3774, 3)\n",
      "not using GP model, current error is 26.706448 (3791, 4) (3791, 3)\n",
      "not using GP model, current error is 21.434034 (3806, 4) (3806, 3)\n",
      "not using GP model, current error is 21.324679 (3814, 4) (3814, 3)\n",
      "not using GP model, current error is 20.781942 (3823, 4) (3823, 3)\n",
      "not using GP model, current error is 49.095833 (3831, 4) (3831, 3)\n",
      "not using GP model, current error is 60.111451 (3848, 4) (3848, 3)\n",
      "not using GP model, current error is 19.378196 (3860, 4) (3860, 3)\n",
      "not using GP model, current error is 22.423159 (3877, 4) (3877, 3)\n",
      "not using GP model, current error is 20.952575 (3885, 4) (3885, 3)\n",
      "not using GP model, current error is 19.555037 (3894, 4) (3894, 3)\n",
      "not using GP model, current error is 26.542351 (3900, 4) (3900, 3)\n",
      "not using GP model, current error is 49.674353 (3911, 4) (3911, 3)\n",
      "not using GP model, current error is 25.354025 (3925, 4) (3925, 3)\n",
      "not using GP model, current error is 26.392465 (3931, 4) (3931, 3)\n",
      "not using GP model, current error is 26.780609 (3952, 4) (3952, 3)\n",
      "not using GP model, current error is 13.803166 (3966, 4) (3966, 3)\n",
      "not using GP model, current error is 15.808767 (3980, 4) (3980, 3)\n",
      "not using GP model, current error is 16.142879 (3994, 4) (3994, 3)\n"
     ]
    },
    {
     "name": "stderr",
     "output_type": "stream",
     "text": [
      "[2016-11-24 17:21:22,528] initializing Y\n",
      "[2016-11-24 17:21:22,530] initializing inference method\n",
      "[2016-11-24 17:21:22,531] adding kernel and likelihood as parameters\n"
     ]
    },
    {
     "name": "stdout",
     "output_type": "stream",
     "text": [
      "training GP model\n",
      "not using GP model, current error is 17.492251 (4016, 4) (4016, 3)\n",
      "not using GP model, current error is 17.399869 (4027, 4) (4027, 3)\n",
      "not using GP model, current error is 115.353168 (4037, 4) (4037, 3)\n",
      "not using GP model, current error is 13.640856 (4057, 4) (4057, 3)\n",
      "not using GP model, current error is 11.981014 (4074, 4) (4074, 3)\n",
      "not using GP model, current error is 11.810731 (4095, 4) (4095, 3)\n",
      "not using GP model, current error is 14.362493 (4108, 4) (4108, 3)\n",
      "not using GP model, current error is 134.231833 (4155, 4) (4155, 3)\n",
      "not using GP model, current error is 10.782857 (4180, 4) (4180, 3)\n",
      "not using GP model, current error is 28.644745 (4211, 4) (4211, 3)\n",
      "not using GP model, current error is 30.811420 (4247, 4) (4247, 3)\n",
      "not using GP model, current error is 22.689485 (4264, 4) (4264, 3)\n",
      "not using GP model, current error is 11.147920 (4292, 4) (4292, 3)\n",
      "not using GP model, current error is 17.266950 (4304, 4) (4304, 3)\n",
      "not using GP model, current error is 22.495713 (4322, 4) (4322, 3)\n",
      "not using GP model, current error is 19.242288 (4332, 4) (4332, 3)\n",
      "not using GP model, current error is 20.235161 (4342, 4) (4342, 3)\n",
      "not using GP model, current error is 33.211441 (4347, 4) (4347, 3)\n",
      "not using GP model, current error is 19.370811 (4371, 4) (4371, 3)\n",
      "not using GP model, current error is 24.509114 (4386, 4) (4386, 3)\n",
      "not using GP model, current error is 23.684909 (4394, 4) (4394, 3)\n",
      "not using GP model, current error is 34.232608 (4402, 4) (4402, 3)\n",
      "not using GP model, current error is 18.663808 (4411, 4) (4411, 3)\n",
      "not using GP model, current error is 32.691361 (4416, 4) (4416, 3)\n",
      "not using GP model, current error is 22.089164 (4430, 4) (4430, 3)\n",
      "not using GP model, current error is 15.077504 (4444, 4) (4444, 3)\n",
      "not using GP model, current error is 365.601631 (4449, 4) (4449, 3)\n",
      "not using GP model, current error is 42.905543 (4452, 4) (4452, 3)\n",
      "not using GP model, current error is 45.489960 (4455, 4) (4455, 3)\n",
      "not using GP model, current error is 6.303551 (4492, 4) (4492, 3)\n",
      "not using GP model, current error is 12.473389 (4511, 4) (4511, 3)\n",
      "not using GP model, current error is 24.676601 (4518, 4) (4518, 3)\n",
      "not using GP model, current error is 41.151922 (4521, 4) (4521, 3)\n",
      "not using GP model, current error is 25.680813 (4527, 4) (4527, 3)\n",
      "not using GP model, current error is 359.119749 (4534, 4) (4534, 3)\n",
      "not using GP model, current error is 13.145779 (4551, 4) (4551, 3)\n",
      "not using GP model, current error is 20.484173 (4569, 4) (4569, 3)\n",
      "not using GP model, current error is 10.482197 (4590, 4) (4590, 3)\n",
      "not using GP model, current error is 23.385389 (4599, 4) (4599, 3)\n",
      "not using GP model, current error is 52.295905 (4603, 4) (4603, 3)\n",
      "not using GP model, current error is 192.139969 (4615, 4) (4615, 3)\n",
      "not using GP model, current error is 18.742996 (4624, 4) (4624, 3)\n",
      "not using GP model, current error is 31.897203 (4628, 4) (4628, 3)\n",
      "not using GP model, current error is 23.350887 (4637, 4) (4637, 3)\n",
      "not using GP model, current error is 16.948003 (4648, 4) (4648, 3)\n",
      "not using GP model, current error is 11.725842 (4663, 4) (4663, 3)\n",
      "not using GP model, current error is 14.494768 (4675, 4) (4675, 3)\n",
      "not using GP model, current error is 10.957969 (4698, 4) (4698, 3)\n",
      "not using GP model, current error is 18.211370 (4708, 4) (4708, 3)\n",
      "not using GP model, current error is 478.439379 (4723, 4) (4723, 3)\n",
      "not using GP model, current error is 6.946720 (4762, 4) (4762, 3)\n",
      "not using GP model, current error is 39.667210 (4783, 4) (4783, 3)\n",
      "not using GP model, current error is 14.903594 (4797, 4) (4797, 3)\n",
      "not using GP model, current error is 11.397960 (4818, 4) (4818, 3)\n",
      "not using GP model, current error is 14.321588 (4832, 4) (4832, 3)\n",
      "not using GP model, current error is 24.165205 (4839, 4) (4839, 3)\n",
      "not using GP model, current error is 13.387696 (4857, 4) (4857, 3)\n",
      "not using GP model, current error is 34.093220 (4862, 4) (4862, 3)\n",
      "not using GP model, current error is 29.171838 (4868, 4) (4868, 3)\n",
      "not using GP model, current error is 30.807968 (4874, 4) (4874, 3)\n",
      "[ 20.]\n",
      "(405, 1)\n",
      "[[-0.49200146  0.23965896  1.         -8.94638503]]\n"
     ]
    }
   ],
   "source": [
    "useBelief = False\n",
    "avgErrorSummary = np.zeros([1])\n",
    "modelCounter = 0\n",
    "\n",
    "myBopt = GPyOpt.methods.BayesianOptimization(f = objectiveFunction, domain = bounds, acquisition_type ='MPI', num_cores=4, verbosity=True)\n",
    "max_iter = 400              # evaluation budget\n",
    "myBopt.run_optimization(max_iter)   # run optimization\n",
    "print min(myBopt.Y)\n",
    "print myBopt.Y.shape\n",
    "\n",
    "policyParameters = myBopt.X[np.argmin(myBopt.Y)]\n",
    "policyParameters = np.reshape(policyParameters, ([1,4]))\n",
    "print policyParameters "
   ]
  },
  {
   "cell_type": "code",
   "execution_count": 18,
   "metadata": {
    "collapsed": false
   },
   "outputs": [
    {
     "name": "stderr",
     "output_type": "stream",
     "text": [
      "[2016-11-24 17:53:54,282] Making new env: Pendulum-v0\n"
     ]
    },
    {
     "name": "stdout",
     "output_type": "stream",
     "text": [
      "[[-0.49200146  0.23965896  1.         -8.94638503]]\n"
     ]
    }
   ],
   "source": [
    "env = gym.make('Pendulum-v0')\n",
    "observations = env.reset(whichVersion = 1)\n",
    "predictionPDF = np.reshape(observations, ([1,3]))\n",
    "print policyParameters\n",
    "\n",
    "# policyParameters = np.array([ 0.00875598,  0.25458643, -0.95027489,  6.63289069])\n",
    "# policyParameters = np.reshape(policyParameters, ([1,4]))\n",
    "# observations = env.state(inputTheta = initialStates[0,0], inputThetaDot = initialStates[0.1])\n",
    "for i in range (100):\n",
    "    env.render()\n",
    "    observations = np.reshape(observations, ([1,3]))\n",
    "    action = action_fromPolicy(policyParameters, observations)\n",
    "    action = np.array([action])\n",
    "    \n",
    "    bufferActionToTake = np.reshape(action, ([1,1]))\n",
    "    bufferInputs_policy = np.append(bufferActionToTake, predictionPDF, axis = 1) \n",
    "    \n",
    "#     print action, observations-predictionPDF\n",
    "    \n",
    "#     predictionPDF = m_dynamics.predict(bufferInputs_policy)[0]\n",
    "    observations, rewards, done, info = env.step(action)"
   ]
  },
  {
   "cell_type": "markdown",
   "metadata": {},
   "source": [
    "Several plots are made to assess the success of the GP model."
   ]
  },
  {
   "cell_type": "code",
   "execution_count": 11,
   "metadata": {
    "collapsed": false,
    "scrolled": true
   },
   "outputs": [
    {
     "name": "stdout",
     "output_type": "stream",
     "text": [
      "[[-0.49200146  0.23965896  1.         -8.94638503]]\n"
     ]
    },
    {
     "data": {
      "image/png": "[encoded data removed]",
      "text/plain": [
       "<matplotlib.figure.Figure at 0x7f4e436f4510>"
      ]
     },
     "metadata": {},
     "output_type": "display_data"
    },
    {
     "data": {
      "image/png": "[encoded data removed]",
      "text/plain": [
       "<matplotlib.figure.Figure at 0x7f4e43541ad0>"
      ]
     },
     "metadata": {},
     "output_type": "display_data"
    },
    {
     "data": {
      "image/png": "[encoded data removed]",
      "text/plain": [
       "<matplotlib.figure.Figure at 0x7f4e433b1310>"
      ]
     },
     "metadata": {},
     "output_type": "display_data"
    },
    {
     "data": {
      "image/png": "[encoded data removed]",
      "text/plain": [
       "<matplotlib.figure.Figure at 0x7f4e41e35610>"
      ]
     },
     "metadata": {},
     "output_type": "display_data"
    }
   ],
   "source": [
    "plt.figure()\n",
    "plt.hist(inputsNumpy[:,0])\n",
    "plt.title('Actions')\n",
    "plt.savefig('Actions-Hist-1', format = 'svg')\n",
    "\n",
    "plt.figure()\n",
    "plt.hist(inputsNumpy[:,1])\n",
    "plt.title('cos(angle)')\n",
    "plt.savefig('Cos-Hist-1', format = 'svg')\n",
    "\n",
    "plt.figure()\n",
    "plt.hist(inputsNumpy[:,2])\n",
    "plt.title('sin(angle)')\n",
    "plt.savefig('Sin-Hist-1',  format = 'svg')\n",
    "\n",
    "plt.figure()\n",
    "plt.hist(inputsNumpy[:,3])\n",
    "print policyParameters\n",
    "plt.title('angle_dot')\n",
    "plt.savefig('Vel-Hist-1', format = 'svg')\n"
   ]
  },
  {
   "cell_type": "code",
   "execution_count": 19,
   "metadata": {
    "collapsed": false
   },
   "outputs": [
    {
     "data": {
      "image/png": "[encoded data removed]",
      "text/plain": [
       "<matplotlib.figure.Figure at 0x7f4e41bf2c90>"
      ]
     },
     "metadata": {},
     "output_type": "display_data"
    }
   ],
   "source": [
    "plt.plot(avgErrorSummary)\n",
    "plt.title('4874 Data Points')\n",
    "plt.xlabel('Experiment No')\n",
    "plt.ylabel('Percentage Error')\n",
    "plt.savefig('4874-datapoints', format = 'svg')"
   ]
  },
  {
   "cell_type": "code",
   "execution_count": null,
   "metadata": {
    "collapsed": false
   },
   "outputs": [],
   "source": [
    "print inputsNumpy.shape"
   ]
  },
  {
   "cell_type": "code",
   "execution_count": null,
   "metadata": {
    "collapsed": true
   },
   "outputs": [],
   "source": []
  }
 ],
 "metadata": {
  "kernelspec": {
   "display_name": "Python [Root]",
   "language": "python",
   "name": "Python [Root]"
  },
  "language_info": {
   "codemirror_mode": {
    "name": "ipython",
    "version": 2
   },
   "file_extension": ".py",
   "mimetype": "text/x-python",
   "name": "python",
   "nbconvert_exporter": "python",
   "pygments_lexer": "ipython2",
   "version": "2.7.12"
  }
 },
 "nbformat": 4,
 "nbformat_minor": 1
}
