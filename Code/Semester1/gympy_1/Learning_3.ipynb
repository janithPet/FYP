{
 "cells": [
  {
   "cell_type": "markdown",
   "metadata": {},
   "source": [
    "# Start simple, Start linearly\n",
    "\n",
    "The program below will mark the first RL algorithm truly implemented in this project. As such, to see if I've got the basics down, I started with a simply linear policy to learn. The algorithm contains two main parts. \n",
    "\n",
    "* The first is to learn a surrogate dynamics model of the environment. I personally like to think of this as the agent's belief of how the environment behaves, so the term surrogate doesn't too appropriate. A GP model will be used, with a gaussian covariance kernel. \n",
    "\n",
    "* The second is to use this belief of the system to learn an optimal policy. As mentioned previously, a linear policy structure will be used. Furthermore, bayesian optimisation with expected improvement will be used to find the optimal policy values. \n",
    "\n",
    "Let's see how this goes. Fingers crossed. "
   ]
  },
  {
   "cell_type": "code",
   "execution_count": 1,
   "metadata": {
    "collapsed": false
   },
   "outputs": [],
   "source": [
    "import gym\n",
    "import GPy\n",
    "import GPyOpt\n",
    "import numpy as np\n",
    "\n",
    "import matplotlib.pyplot as plt\n",
    "from mpl_toolkits.mplot3d import Axes3D\n",
    "from matplotlib import cm\n",
    "\n",
    "import gympy"
   ]
  },
  {
   "cell_type": "markdown",
   "metadata": {},
   "source": [
    "Define the characteristics of the particular exercise. In this case, for example, the type of learning analysis will be 'Reset' since the initial state of the environment is reset for each test point. "
   ]
  },
  {
   "cell_type": "code",
   "execution_count": 2,
   "metadata": {
    "collapsed": true
   },
   "outputs": [],
   "source": [
    "analysisType_learning = 'Reset'"
   ]
  },
  {
   "cell_type": "markdown",
   "metadata": {},
   "source": [
    "Set up the gym environment and create the array definitions for  input, output and predictions. Also generate initial values for the relevant variables. "
   ]
  },
  {
   "cell_type": "code",
   "execution_count": 3,
   "metadata": {
    "collapsed": false
   },
   "outputs": [
    {
     "name": "stdout",
     "output_type": "stream",
     "text": [
      "Please enter the environment: \n"
     ]
    },
    {
     "name": "stderr",
     "output_type": "stream",
     "text": [
      "[2016-11-15 22:03:59,248] Making new env: Pendulum-v0\n"
     ]
    }
   ],
   "source": [
    "env, observations, inputsNumpy, observationsNumpy, rewardsNumpy, action, predictionPDF = gympy.setupEnvironment(defaultEnvironment = 'Pendulum-v0', whichVersion = 0)\n",
    "k_dynamics = GPy.kern.RBF(input_dim=4, variance=1., lengthscale=1.)\n",
    "k_rewards = GPy.kern.RBF(input_dim=3, variance=1., lengthscale=1.)"
   ]
  },
  {
   "cell_type": "markdown",
   "metadata": {
    "collapsed": true
   },
   "source": [
    "Initial learning phase - learn surrogate model. This will be done with 500 random training data points. As such a loop will first be initiated to generate the training points."
   ]
  },
  {
   "cell_type": "code",
   "execution_count": 60,
   "metadata": {
    "collapsed": false
   },
   "outputs": [
    {
     "ename": "AttributeError",
     "evalue": "'numpy.ndarray' object has no attribute 'sample'",
     "output_type": "error",
     "traceback": [
      "\u001b[0;31m---------------------------------------------------------------------------\u001b[0m",
      "\u001b[0;31mAttributeError\u001b[0m                            Traceback (most recent call last)",
      "\u001b[0;32m<ipython-input-60-d65736bd308d>\u001b[0m in \u001b[0;36m<module>\u001b[0;34m()\u001b[0m\n\u001b[1;32m      1\u001b[0m \u001b[0menv\u001b[0m\u001b[0;34m.\u001b[0m\u001b[0mreset\u001b[0m\u001b[0;34m(\u001b[0m\u001b[0mwhichVersion\u001b[0m \u001b[0;34m=\u001b[0m \u001b[0;36m1\u001b[0m\u001b[0;34m)\u001b[0m\u001b[0;34m\u001b[0m\u001b[0m\n\u001b[1;32m      2\u001b[0m \u001b[0;32mfor\u001b[0m \u001b[0mattempt\u001b[0m \u001b[0;32min\u001b[0m \u001b[0mrange\u001b[0m\u001b[0;34m(\u001b[0m\u001b[0;36m100\u001b[0m\u001b[0;34m)\u001b[0m\u001b[0;34m:\u001b[0m\u001b[0;34m\u001b[0m\u001b[0m\n\u001b[0;32m----> 3\u001b[0;31m     \u001b[0;34m[\u001b[0m\u001b[0minputsNumpy\u001b[0m\u001b[0;34m,\u001b[0m \u001b[0mbufferInput\u001b[0m\u001b[0;34m,\u001b[0m \u001b[0mactionToTake\u001b[0m\u001b[0;34m]\u001b[0m \u001b[0;34m=\u001b[0m \u001b[0mgympy\u001b[0m\u001b[0;34m.\u001b[0m\u001b[0mappendInputArray\u001b[0m\u001b[0;34m(\u001b[0m\u001b[0minputsNumpy\u001b[0m\u001b[0;34m,\u001b[0m \u001b[0maction\u001b[0m\u001b[0;34m,\u001b[0m \u001b[0mobservations\u001b[0m\u001b[0;34m,\u001b[0m \u001b[0mattempt\u001b[0m\u001b[0;34m)\u001b[0m\u001b[0;34m\u001b[0m\u001b[0m\n\u001b[0m\u001b[1;32m      4\u001b[0m     \u001b[0;34m[\u001b[0m\u001b[0mobservations\u001b[0m\u001b[0;34m,\u001b[0m \u001b[0mrewards\u001b[0m\u001b[0;34m,\u001b[0m \u001b[0mdone\u001b[0m\u001b[0;34m,\u001b[0m \u001b[0minfo\u001b[0m\u001b[0;34m]\u001b[0m \u001b[0;34m=\u001b[0m \u001b[0menv\u001b[0m\u001b[0;34m.\u001b[0m\u001b[0mstep\u001b[0m\u001b[0;34m(\u001b[0m\u001b[0mactionToTake\u001b[0m\u001b[0;34m)\u001b[0m\u001b[0;34m\u001b[0m\u001b[0m\n\u001b[1;32m      5\u001b[0m     \u001b[0;34m[\u001b[0m\u001b[0mobservationsNumpy\u001b[0m\u001b[0;34m,\u001b[0m \u001b[0mbufferObservations\u001b[0m\u001b[0;34m]\u001b[0m \u001b[0;34m=\u001b[0m \u001b[0mgympy\u001b[0m\u001b[0;34m.\u001b[0m\u001b[0mappendObservationsArray\u001b[0m\u001b[0;34m(\u001b[0m\u001b[0mobservationsNumpy\u001b[0m\u001b[0;34m,\u001b[0m \u001b[0mobservations\u001b[0m\u001b[0;34m,\u001b[0m \u001b[0mattempt\u001b[0m\u001b[0;34m)\u001b[0m\u001b[0;34m\u001b[0m\u001b[0m\n",
      "\u001b[0;32m/home/janith_p/FYP/Github/FYP/Code/Semester1/gympy_1/gympy.pyc\u001b[0m in \u001b[0;36mappendInputArray\u001b[0;34m(inputsNumpy, action, observations, attempt)\u001b[0m\n\u001b[1;32m     65\u001b[0m \u001b[0;34m\u001b[0m\u001b[0m\n\u001b[1;32m     66\u001b[0m \u001b[0;32mdef\u001b[0m \u001b[0mappendInputArray\u001b[0m\u001b[0;34m(\u001b[0m\u001b[0minputsNumpy\u001b[0m\u001b[0;34m,\u001b[0m \u001b[0maction\u001b[0m\u001b[0;34m,\u001b[0m \u001b[0mobservations\u001b[0m\u001b[0;34m,\u001b[0m \u001b[0mattempt\u001b[0m\u001b[0;34m)\u001b[0m\u001b[0;34m:\u001b[0m\u001b[0;34m\u001b[0m\u001b[0m\n\u001b[0;32m---> 67\u001b[0;31m     \u001b[0mactionToTake\u001b[0m \u001b[0;34m=\u001b[0m \u001b[0maction\u001b[0m\u001b[0;34m.\u001b[0m\u001b[0msample\u001b[0m\u001b[0;34m(\u001b[0m\u001b[0;34m)\u001b[0m\u001b[0;34m\u001b[0m\u001b[0m\n\u001b[0m\u001b[1;32m     68\u001b[0m \u001b[0;34m\u001b[0m\u001b[0m\n\u001b[1;32m     69\u001b[0m     \u001b[0;32mif\u001b[0m \u001b[0mtype\u001b[0m\u001b[0;34m(\u001b[0m\u001b[0mactionToTake\u001b[0m\u001b[0;34m)\u001b[0m \u001b[0;34m==\u001b[0m \u001b[0mint\u001b[0m\u001b[0;34m:\u001b[0m\u001b[0;34m\u001b[0m\u001b[0m\n",
      "\u001b[0;31mAttributeError\u001b[0m: 'numpy.ndarray' object has no attribute 'sample'"
     ]
    }
   ],
   "source": [
    "env.reset(whichVersion = 1)\n",
    "for attempt in range(100):\n",
    "    [inputsNumpy, bufferInput, actionToTake] = gympy.appendInputArray(inputsNumpy, action, observations, attempt)\n",
    "    [observations, rewards, done, info] = env.step(actionToTake)\n",
    "    [observationsNumpy, bufferObservations] = gympy.appendObservationsArray(observationsNumpy, observations, attempt)\n",
    "    [rewardsNumpy, bufferRewards] = gympy.appendRewardsArray(rewardsNumpy, rewards, attempt)\n",
    "#     observations = env.reset()\n",
    "    env.render()"
   ]
  },
  {
   "cell_type": "markdown",
   "metadata": {},
   "source": [
    "Use the training points to generate the training points. "
   ]
  },
  {
   "cell_type": "code",
   "execution_count": 6,
   "metadata": {
    "collapsed": false
   },
   "outputs": [
    {
     "name": "stderr",
     "output_type": "stream",
     "text": [
      "[2016-11-15 22:04:12,951] initializing Y\n",
      "[2016-11-15 22:04:12,952] initializing inference method\n",
      "[2016-11-15 22:04:12,953] adding kernel and likelihood as parameters\n"
     ]
    }
   ],
   "source": [
    "m_dynamics = gympy.generateModel(inputsNumpy, observationsNumpy, k_dynamics)\n",
    "m_dynamics.optimize()"
   ]
  },
  {
   "cell_type": "markdown",
   "metadata": {
    "collapsed": true
   },
   "source": [
    "Once the learning phase has been completed, it is necessary to define the goal state (that is the terminal state) and how the reward can be calculated in terms of the current state with respect to the goal state. \n",
    "\n",
    "In this case, the reward is calculated as the sum of the geometric distances between the each of the current states and the goal states. Please note that since each of these will be $ \\geqslant \\: 0$, it is technically speaking a cost, rather than a reward. However, since the difference betweeen the two is merely a negative symbol, reward and cost will be used interchangebly. "
   ]
  },
  {
   "cell_type": "code",
   "execution_count": 7,
   "metadata": {
    "collapsed": true
   },
   "outputs": [],
   "source": [
    "goalState = np.array([1,0,0])"
   ]
  },
  {
   "cell_type": "code",
   "execution_count": 8,
   "metadata": {
    "collapsed": false
   },
   "outputs": [],
   "source": [
    "def generateTotalReward(predictionPDF, goalState, totalReward):\n",
    "    predictionPDF[0,2] = predictionPDF[0,1]/8\n",
    "    if abs(np.arccos(predictionPDF[0,0])) > 1*np.pi/180:\n",
    "        multiplier = 100\n",
    "    else:\n",
    "        multiplier = 1\n",
    "    currentReward = multiplier*(np.sqrt(np.sum((predictionPDF-goalState)*(predictionPDF-goalState))))\n",
    "    totalReward = totalReward + currentReward\n",
    "    \n",
    "    return totalReward"
   ]
  },
  {
   "cell_type": "markdown",
   "metadata": {},
   "source": [
    "The policy must now be defined in terms of its parameters. In this particular example, a linear policy was chosen, for simplicity. This will be of the form:\n",
    "\n",
    "$$ \\pi(s_t) = \\phi(s_t)^T \\mathbf{\\theta},$$\n",
    "\n",
    "where the basis functions in $\\phi$ are simply the state variables, and the vector $\\theta$ represents the weights. Thus the action will be selected by policy that looks like:\n",
    "\n",
    "$$ a_t = s_{t,1}\\theta_1 + s_{t,2}\\theta_2  +  s_{t,3}\\theta_3 + \\theta_4, $$\n",
    "\n",
    "since this particular problem has 3 state variables. The reinforcement learning problem now becomes one of finiding the values of $\\theta$ such that the cost defined earlier is minimised. \n",
    "\n",
    "The first step of this is to generate random initial values for the parameter values."
   ]
  },
  {
   "cell_type": "code",
   "execution_count": 9,
   "metadata": {
    "collapsed": false
   },
   "outputs": [],
   "source": [
    "policyParameters =  np.random.uniform(-1., 1., ([1, 4]))"
   ]
  },
  {
   "cell_type": "markdown",
   "metadata": {},
   "source": [
    "Now, a function is defined to return the action that needs to be taken as given by the policy defined by the current parameter values."
   ]
  },
  {
   "cell_type": "code",
   "execution_count": 10,
   "metadata": {
    "collapsed": true
   },
   "outputs": [],
   "source": [
    "def action_fromPolicy(policyParameters, bufferObservations_policy):\n",
    "    actionToTake_policy = 0\n",
    "    [r,c] = policyParameters.shape\n",
    "    for i in range(c):\n",
    "        if i < c-1:\n",
    "            actionToTake_policy = actionToTake_policy + (bufferObservations_policy[0,i] * policyParameters[0,i])\n",
    "        else:\n",
    "            actionToTake_policy = actionToTake_policy + policyParameters[0,i]\n",
    "                \n",
    "\n",
    "    return actionToTake_policy"
   ]
  },
  {
   "cell_type": "markdown",
   "metadata": {},
   "source": [
    "Finding the policy parameters that minimise the total reward is clearly an optimisation problem. As such the optimisation method that will be used for this particular notebook is Bayesian Optimisation using Expected Improvement. Simply put, this methods chooses the next test point based on the highest expected improvement from the current minimun point (for a minimising problem that is). Thusly, a good mix of exploration and exploitation can be utilised to find the global minimum given the state box.\n",
    "\n",
    "The python library GPyOpt will be utilised for this. This requires the definition of an objective function; this is function that is to be optimised. In the present work, this will be the mapping from the policyy parameters to the total reward. Since this is a model based RL algorithm, the GP model that was trained previously will be used to generate the total reward. "
   ]
  },
  {
   "cell_type": "code",
   "execution_count": 27,
   "metadata": {
    "collapsed": false
   },
   "outputs": [],
   "source": [
    "def objectiveFunction(policyParameters):\n",
    "    thetaBound = np.array([np.pi*5*180,1])\n",
    "    \n",
    "    thetaObservations = np.random.uniform(low=-thetaBound, high=thetaBound)\n",
    "\n",
    "    bufferObservations_policy = np.array([np.cos(thetaObservations[0]), np.sin(thetaObservations[0]), thetaObservations[1]])\n",
    "\n",
    "    bufferObservations_policy = np.reshape(bufferObservations_policy, ([1,3]))\n",
    "    bufferInpust_policy = np.zeros((1,4))\n",
    "    totalIterations = 100\n",
    "    totalReward = 0\n",
    "    \n",
    "    goalState = np.array([-1,0,0])\n",
    "    \n",
    "#     env.setState(np.arccos(bufferObservations_policy[0,0]), bufferObservations_policy[0,2])\n",
    "#     env.render()\n",
    "    \n",
    "    actionToTake_policy = action_fromPolicy(policyParameters, bufferObservations_policy)\n",
    "    \n",
    "    for i in range(totalIterations):\n",
    "        \n",
    "#         if abs(actionToTake_policy) > 2:\n",
    "#             totalReward = totalReward + 1000\n",
    "        bufferActionToTake = np.array([actionToTake_policy])\n",
    "        bufferActionToTake = np.reshape(bufferActionToTake, ([1,1]))\n",
    "        bufferInputs_policy = np.append(bufferObservations_policy, bufferActionToTake, axis = 1) \n",
    "\n",
    "        predictionPDF = m_dynamics.predict(bufferInputs_policy)[0]\n",
    "                \n",
    "        totalReward = generateTotalReward(predictionPDF, goalState, totalReward)\n",
    "        \n",
    "        actionToTake_policy = action_fromPolicy(policyParameters, predictionPDF)\n",
    "#         env.setState(np.arccos(predictionPDF[0,0]), predictionPDF[0,2])\n",
    "#         env.render()\n",
    "        \n",
    "    return totalReward"
   ]
  },
  {
   "cell_type": "code",
   "execution_count": 28,
   "metadata": {
    "collapsed": false
   },
   "outputs": [],
   "source": [
    "bounds = [{'domain': (-1,1), 'name': 'var_1', 'type': 'continuous', 'dimensionality':3},\n",
    "         {'domain': (-10,10), 'name': 'var_4', 'type': 'continuous', 'dimensionality':1}]"
   ]
  },
  {
   "cell_type": "code",
   "execution_count": 31,
   "metadata": {
    "collapsed": false
   },
   "outputs": [
    {
     "name": "stderr",
     "output_type": "stream",
     "text": [
      "[2016-11-15 22:19:46,645] initializing Y\n",
      "[2016-11-15 22:19:46,646] initializing inference method\n",
      "[2016-11-15 22:19:46,646] adding kernel and likelihood as parameters\n"
     ]
    }
   ],
   "source": [
    "myBopt = GPyOpt.methods.BayesianOptimization(f = objectiveFunction, domain = bounds, acquisition_type ='EI')"
   ]
  },
  {
   "cell_type": "code",
   "execution_count": 54,
   "metadata": {
    "collapsed": false,
    "scrolled": false
   },
   "outputs": [
    {
     "name": "stdout",
     "output_type": "stream",
     "text": [
      "(224, 1)\n"
     ]
    }
   ],
   "source": [
    "max_iter = 10              # evaluation budget\n",
    "myBopt.run_optimization(max_iter)   # run optimization\n",
    "print myBopt.Y.shape\n"
   ]
  },
  {
   "cell_type": "code",
   "execution_count": 58,
   "metadata": {
    "collapsed": false
   },
   "outputs": [
    {
     "name": "stdout",
     "output_type": "stream",
     "text": [
      "[ 6.14298203]\n",
      "[[ 1.          1.         -1.         -8.44482693]]\n"
     ]
    }
   ],
   "source": [
    "policyParameters_optimal = myBopt.X[np.argmin(myBopt.Y)]\n",
    "print min(myBopt.Y)\n",
    "policyParameters_optimal = np.reshape(policyParameters_optimal, ([1,4]))\n",
    "print policyParameters_optimal"
   ]
  },
  {
   "cell_type": "code",
   "execution_count": 69,
   "metadata": {
    "collapsed": false
   },
   "outputs": [
    {
     "name": "stderr",
     "output_type": "stream",
     "text": [
      "[2016-11-15 23:53:44,013] Making new env: Pendulum-v0\n"
     ]
    },
    {
     "name": "stdout",
     "output_type": "stream",
     "text": [
      "[ 3.5403856]\n",
      "[-13.21918359]\n",
      "[-10.3710819]\n",
      "[-7.38893283]\n",
      "[-4.15501112]\n",
      "[-0.53542592]\n",
      "[ 1.30610032]\n",
      "[ 0.72138894]\n",
      "[ 1.37140239]\n",
      "[ 1.36665221]\n",
      "[ 1.68370724]\n",
      "[ 1.81655195]\n",
      "[ 2.02790888]\n",
      "[ 2.22609111]\n",
      "[ 2.68798451]\n",
      "[ 3.42482487]\n",
      "[ 4.45695695]\n",
      "[ 5.81358207]\n",
      "[ 7.53246246]\n",
      "[ 9.65929243]\n",
      "[ 12.24629876]\n",
      "[ 15.34940602]\n",
      "[ 19.02298597]\n",
      "[ 23.31083307]\n",
      "[ 28.23169208]\n",
      "[ 33.75773355]\n",
      "[ 39.78547498]\n",
      "[ 46.10176893]\n",
      "[ 52.35349777]\n",
      "[ 58.03784142]\n",
      "[ 62.53577808]\n",
      "[ 65.2053798]\n",
      "[ 65.52525101]\n",
      "[ 63.23954681]\n",
      "[ 58.43477543]\n",
      "[ 51.50496188]\n",
      "[ 43.02473201]\n",
      "[ 33.59829767]\n",
      "[ 23.74967093]\n",
      "[ 13.88006896]\n",
      "[ 4.28071496]\n",
      "[-4.82639898]\n",
      "[-7.66465669]\n",
      "[-10.16924839]\n",
      "[-12.27568659]\n",
      "[-13.9208953]\n",
      "[-15.04621968]\n",
      "[-15.60183651]\n",
      "[-15.55166296]\n",
      "[-14.87768847]\n",
      "[-13.58281661]\n",
      "[-11.69178997]\n",
      "[-9.25039534]\n",
      "[-6.32363061]\n",
      "[-2.99365432]\n",
      "[ 0.64188389]\n",
      "[ 0.68255145]\n",
      "[ 1.0265151]\n",
      "[ 1.22246087]\n",
      "[ 1.49006657]\n",
      "[ 1.71901189]\n",
      "[ 1.96172056]\n",
      "[ 2.19016603]\n",
      "[ 2.69603474]\n",
      "[ 3.5141184]\n",
      "[ 4.61540249]\n",
      "[ 5.96577663]\n",
      "[ 7.52694635]\n",
      "[ 9.25693589]\n",
      "[ 11.11022882]\n",
      "[ 13.03766446]\n",
      "[ 14.98627211]\n",
      "[ 16.89927529]\n",
      "[ 18.7165251]\n",
      "[ 20.37561046]\n",
      "[ 21.81382666]\n",
      "[ 22.97105472]\n",
      "[ 23.79341805]\n",
      "[ 24.2373717]\n",
      "[ 24.2736967]\n",
      "[ 23.89078096]\n",
      "[ 23.09661779]\n",
      "[ 21.91914816]\n",
      "[ 20.40486557]\n",
      "[ 18.61590634]\n",
      "[ 16.62607215]\n",
      "[ 14.51632265]\n",
      "[ 12.37023288]\n",
      "[ 10.26978313]\n",
      "[ 8.29170072]\n",
      "[ 6.50445888]\n",
      "[ 4.96597644]\n",
      "[ 3.72204363]\n",
      "[ 2.80549184]\n",
      "[ 2.23610305]\n",
      "[ 2.02120304]\n",
      "[ 2.15681293]\n",
      "[ 2.62916937]\n",
      "[ 3.41638719]\n",
      "[ 4.49004339]\n",
      "[ 5.81650264]\n",
      "[ 7.35787075]\n",
      "[ 9.07253864]\n",
      "[ 10.91535587]\n",
      "[ 12.83754485]\n",
      "[ 14.78653145]\n",
      "[ 16.70591994]\n",
      "[ 18.53587029]\n",
      "[ 20.21412876]\n",
      "[ 21.67790308]\n",
      "[ 22.86665081]\n",
      "[ 23.72566835]\n",
      "[ 24.21015754]\n",
      "[ 24.28925771]\n",
      "[ 23.94942826]\n",
      "[ 23.19660075]\n",
      "[ 22.05670049]\n",
      "[ 20.57442467]\n",
      "[ 18.81047054]\n",
      "[ 16.83764342]\n",
      "[ 14.73637925]\n",
      "[ 12.59018622]\n",
      "[ 10.48138789]\n",
      "[ 8.48740184]\n",
      "[ 6.67766834]\n",
      "[ 5.11127676]\n",
      "[ 3.83531557]\n",
      "[ 2.88396534]\n",
      "[ 2.27833349]\n",
      "[ 2.02698177]\n",
      "[ 2.12702821]\n",
      "[ 2.56563953]\n",
      "[ 3.32168975]\n",
      "[ 4.36736151]\n",
      "[ 5.66950465]\n",
      "[ 7.19063097]\n",
      "[ 8.8894998]\n",
      "[ 10.72132565]\n",
      "[ 12.63771203]\n",
      "[ 14.58648085]\n",
      "[ 16.51162093]\n",
      "[ 18.35361182]\n",
      "[ 20.05037688]\n",
      "[ 21.53906589]\n",
      "[ 22.75875116]\n",
      "[ 23.65394555]\n",
      "[ 24.17864089]\n",
      "[ 24.30037109]\n",
      "[ 24.00369021]\n",
      "[ 23.29247362]\n",
      "[ 22.19061791]\n",
      "[ 20.74099421]\n",
      "[ 19.00281912]\n",
      "[ 17.04785374]\n",
      "[ 14.9559618]\n",
      "[ 12.81053939]\n",
      "[ 10.69421389]\n",
      "[ 8.68506065]\n",
      "[ 6.85346185]\n",
      "[ 5.2596599]\n",
      "[ 3.95203197]\n",
      "[ 2.96610605]\n",
      "[ 2.3243207]\n",
      "[ 2.03648545]\n",
      "[ 2.10083126]\n",
      "[ 2.50547261]\n",
      "[ 3.23005984]\n",
      "[ 4.24739571]\n",
      "[ 5.52482577]\n",
      "[ 7.02527399]\n",
      "[ 8.7078702]\n",
      "[ 10.52819303]\n",
      "[ 12.43822506]\n",
      "[ 14.3861835]\n",
      "[ 16.31644489]\n",
      "[ 18.16981827]\n",
      "[ 19.88442289]\n",
      "[ 21.39737913]\n",
      "[ 22.64741154]\n",
      "[ 23.57829261]\n",
      "[ 24.14284764]\n",
      "[ 24.30704246]\n",
      "[ 24.05355051]\n",
      "[ 23.3841985]\n",
      "[ 22.32084306]\n",
      "[ 20.90450113]\n",
      "[ 19.19286792]\n",
      "[ 17.25661293]\n",
      "[ 15.17497896]\n",
      "[ 13.03120432]\n",
      "[ 10.90818011]\n",
      "[ 8.88460614]\n",
      "[ 7.03178065]\n",
      "[ 5.4110808]\n",
      "[ 4.07216206]\n",
      "[ 3.05189734]\n",
      "[ 2.3740613]\n",
      "[ 2.04972253]\n",
      "[ 2.07824052]\n",
      "[ 2.44869528]\n",
      "[ 3.14153066]\n",
      "[ 4.13018438]\n",
      "[ 5.38250871]\n",
      "[ 6.8618464]\n",
      "[ 8.52770027]\n",
      "[ 10.33601243]\n",
      "[ 12.23914258]\n",
      "[ 14.18570217]\n",
      "[ 16.12045815]\n",
      "[ 17.98455814]\n",
      "[ 19.71633505]\n",
      "[ 21.25290746]\n",
      "[ 22.53268881]\n",
      "[ 23.49875402]\n",
      "[ 24.10280563]\n",
      "[ 24.30927965]\n",
      "[ 24.09899514]\n",
      "[ 23.47173964]\n",
      "[ 22.44732047]\n",
      "[ 21.06487376]\n",
      "[ 19.38053371]\n",
      "[ 17.46383119]\n",
      "[ 15.3933393]\n",
      "[ 13.25209244]\n",
      "[ 11.1232046]\n",
      "[ 9.08596613]\n",
      "[ 7.21256463]\n",
      "[ 5.56549295]\n",
      "[ 4.19567363]\n",
      "[ 3.14132119]\n",
      "[ 2.42755062]\n",
      "[ 2.06670027]\n",
      "[ 2.05927351]\n",
      "[ 2.3953334]\n",
      "[ 3.05613478]\n",
      "[ 4.01576542]\n",
      "[ 5.24259577]\n",
      "[ 6.70039441]\n",
      "[ 8.34904003]\n",
      "[ 10.14483786]\n",
      "[ 12.04052277]\n",
      "[ 13.98509923]\n",
      "[ 15.92372673]\n",
      "[ 17.79789977]\n",
      "[ 19.54618177]\n",
      "[ 21.10571606]\n",
      "[ 22.41464083]\n",
      "[ 23.41537575]\n",
      "[ 24.05854456]\n"
     ]
    },
    {
     "ename": "ArgumentError",
     "evalue": "argument 2: <type 'exceptions.TypeError'>: wrong type",
     "output_type": "error",
     "traceback": [
      "\u001b[0;31m---------------------------------------------------------------------------\u001b[0m",
      "\u001b[0;31mArgumentError\u001b[0m                             Traceback (most recent call last)",
      "\u001b[0;32m<ipython-input-69-67b902919f0c>\u001b[0m in \u001b[0;36m<module>\u001b[0;34m()\u001b[0m\n\u001b[1;32m      5\u001b[0m \u001b[0;31m# observations = env.state(inputTheta = initialStates[0,0], inputThetaDot = initialStates[0.1])\u001b[0m\u001b[0;34m\u001b[0m\u001b[0;34m\u001b[0m\u001b[0m\n\u001b[1;32m      6\u001b[0m \u001b[0;32mfor\u001b[0m \u001b[0mi\u001b[0m \u001b[0;32min\u001b[0m \u001b[0mrange\u001b[0m \u001b[0;34m(\u001b[0m\u001b[0;36m500\u001b[0m\u001b[0;34m)\u001b[0m\u001b[0;34m:\u001b[0m\u001b[0;34m\u001b[0m\u001b[0m\n\u001b[0;32m----> 7\u001b[0;31m     \u001b[0menv\u001b[0m\u001b[0;34m.\u001b[0m\u001b[0mrender\u001b[0m\u001b[0;34m(\u001b[0m\u001b[0;34m)\u001b[0m\u001b[0;34m\u001b[0m\u001b[0m\n\u001b[0m\u001b[1;32m      8\u001b[0m     \u001b[0mobservations\u001b[0m \u001b[0;34m=\u001b[0m \u001b[0mnp\u001b[0m\u001b[0;34m.\u001b[0m\u001b[0mreshape\u001b[0m\u001b[0;34m(\u001b[0m\u001b[0mobservations\u001b[0m\u001b[0;34m,\u001b[0m \u001b[0;34m(\u001b[0m\u001b[0;34m[\u001b[0m\u001b[0;36m1\u001b[0m\u001b[0;34m,\u001b[0m\u001b[0;36m3\u001b[0m\u001b[0;34m]\u001b[0m\u001b[0;34m)\u001b[0m\u001b[0;34m)\u001b[0m\u001b[0;34m\u001b[0m\u001b[0m\n\u001b[1;32m      9\u001b[0m     \u001b[0maction\u001b[0m \u001b[0;34m=\u001b[0m \u001b[0maction_fromPolicy\u001b[0m\u001b[0;34m(\u001b[0m\u001b[0mpolicyParameters_optimal\u001b[0m\u001b[0;34m,\u001b[0m \u001b[0mobservations\u001b[0m\u001b[0;34m)\u001b[0m\u001b[0;34m\u001b[0m\u001b[0m\n",
      "\u001b[0;32m/home/janith_p/anaconda2/lib/python2.7/site-packages/gym/core.pyc\u001b[0m in \u001b[0;36mrender\u001b[0;34m(self, mode, close)\u001b[0m\n\u001b[1;32m    202\u001b[0m             \u001b[0;32mraise\u001b[0m \u001b[0merror\u001b[0m\u001b[0;34m.\u001b[0m\u001b[0mUnsupportedMode\u001b[0m\u001b[0;34m(\u001b[0m\u001b[0;34m'Unsupported rendering mode: {}. (Supported modes for {}: {})'\u001b[0m\u001b[0;34m.\u001b[0m\u001b[0mformat\u001b[0m\u001b[0;34m(\u001b[0m\u001b[0mmode\u001b[0m\u001b[0;34m,\u001b[0m \u001b[0mself\u001b[0m\u001b[0;34m,\u001b[0m \u001b[0mmodes\u001b[0m\u001b[0;34m)\u001b[0m\u001b[0;34m)\u001b[0m\u001b[0;34m\u001b[0m\u001b[0m\n\u001b[1;32m    203\u001b[0m \u001b[0;34m\u001b[0m\u001b[0m\n\u001b[0;32m--> 204\u001b[0;31m         \u001b[0;32mreturn\u001b[0m \u001b[0mself\u001b[0m\u001b[0;34m.\u001b[0m\u001b[0m_render\u001b[0m\u001b[0;34m(\u001b[0m\u001b[0mmode\u001b[0m\u001b[0;34m=\u001b[0m\u001b[0mmode\u001b[0m\u001b[0;34m,\u001b[0m \u001b[0mclose\u001b[0m\u001b[0;34m=\u001b[0m\u001b[0mclose\u001b[0m\u001b[0;34m)\u001b[0m\u001b[0;34m\u001b[0m\u001b[0m\n\u001b[0m\u001b[1;32m    205\u001b[0m \u001b[0;34m\u001b[0m\u001b[0m\n\u001b[1;32m    206\u001b[0m     \u001b[0;32mdef\u001b[0m \u001b[0mclose\u001b[0m\u001b[0;34m(\u001b[0m\u001b[0mself\u001b[0m\u001b[0;34m)\u001b[0m\u001b[0;34m:\u001b[0m\u001b[0;34m\u001b[0m\u001b[0m\n",
      "\u001b[0;32m/home/janith_p/anaconda2/lib/python2.7/site-packages/gym/envs/classic_control/pendulum.pyc\u001b[0m in \u001b[0;36m_render\u001b[0;34m(self, mode, close)\u001b[0m\n\u001b[1;32m     96\u001b[0m             \u001b[0mself\u001b[0m\u001b[0;34m.\u001b[0m\u001b[0mimgtrans\u001b[0m\u001b[0;34m.\u001b[0m\u001b[0mscale\u001b[0m \u001b[0;34m=\u001b[0m \u001b[0;34m(\u001b[0m\u001b[0;34m-\u001b[0m\u001b[0mself\u001b[0m\u001b[0;34m.\u001b[0m\u001b[0mlast_u\u001b[0m\u001b[0;34m/\u001b[0m\u001b[0;36m2\u001b[0m\u001b[0;34m,\u001b[0m \u001b[0mnp\u001b[0m\u001b[0;34m.\u001b[0m\u001b[0mabs\u001b[0m\u001b[0;34m(\u001b[0m\u001b[0mself\u001b[0m\u001b[0;34m.\u001b[0m\u001b[0mlast_u\u001b[0m\u001b[0;34m)\u001b[0m\u001b[0;34m/\u001b[0m\u001b[0;36m2\u001b[0m\u001b[0;34m)\u001b[0m\u001b[0;34m\u001b[0m\u001b[0m\n\u001b[1;32m     97\u001b[0m \u001b[0;34m\u001b[0m\u001b[0m\n\u001b[0;32m---> 98\u001b[0;31m         \u001b[0;32mreturn\u001b[0m \u001b[0mself\u001b[0m\u001b[0;34m.\u001b[0m\u001b[0mviewer\u001b[0m\u001b[0;34m.\u001b[0m\u001b[0mrender\u001b[0m\u001b[0;34m(\u001b[0m\u001b[0mreturn_rgb_array\u001b[0m \u001b[0;34m=\u001b[0m \u001b[0mmode\u001b[0m\u001b[0;34m==\u001b[0m\u001b[0;34m'rgb_array'\u001b[0m\u001b[0;34m)\u001b[0m\u001b[0;34m\u001b[0m\u001b[0m\n\u001b[0m\u001b[1;32m     99\u001b[0m \u001b[0;34m\u001b[0m\u001b[0m\n\u001b[1;32m    100\u001b[0m \u001b[0;32mdef\u001b[0m \u001b[0mangle_normalize\u001b[0m\u001b[0;34m(\u001b[0m\u001b[0mx\u001b[0m\u001b[0;34m)\u001b[0m\u001b[0;34m:\u001b[0m\u001b[0;34m\u001b[0m\u001b[0m\n",
      "\u001b[0;32m/home/janith_p/anaconda2/lib/python2.7/site-packages/gym/envs/classic_control/rendering.pyc\u001b[0m in \u001b[0;36mrender\u001b[0;34m(self, return_rgb_array)\u001b[0m\n\u001b[1;32m     82\u001b[0m         \u001b[0mself\u001b[0m\u001b[0;34m.\u001b[0m\u001b[0mwindow\u001b[0m\u001b[0;34m.\u001b[0m\u001b[0mclear\u001b[0m\u001b[0;34m(\u001b[0m\u001b[0;34m)\u001b[0m\u001b[0;34m\u001b[0m\u001b[0m\n\u001b[1;32m     83\u001b[0m         \u001b[0mself\u001b[0m\u001b[0;34m.\u001b[0m\u001b[0mwindow\u001b[0m\u001b[0;34m.\u001b[0m\u001b[0mswitch_to\u001b[0m\u001b[0;34m(\u001b[0m\u001b[0;34m)\u001b[0m\u001b[0;34m\u001b[0m\u001b[0m\n\u001b[0;32m---> 84\u001b[0;31m         \u001b[0mself\u001b[0m\u001b[0;34m.\u001b[0m\u001b[0mwindow\u001b[0m\u001b[0;34m.\u001b[0m\u001b[0mdispatch_events\u001b[0m\u001b[0;34m(\u001b[0m\u001b[0;34m)\u001b[0m\u001b[0;34m\u001b[0m\u001b[0m\n\u001b[0m\u001b[1;32m     85\u001b[0m         \u001b[0mself\u001b[0m\u001b[0;34m.\u001b[0m\u001b[0mtransform\u001b[0m\u001b[0;34m.\u001b[0m\u001b[0menable\u001b[0m\u001b[0;34m(\u001b[0m\u001b[0;34m)\u001b[0m\u001b[0;34m\u001b[0m\u001b[0m\n\u001b[1;32m     86\u001b[0m         \u001b[0;32mfor\u001b[0m \u001b[0mgeom\u001b[0m \u001b[0;32min\u001b[0m \u001b[0mself\u001b[0m\u001b[0;34m.\u001b[0m\u001b[0mgeoms\u001b[0m\u001b[0;34m:\u001b[0m\u001b[0;34m\u001b[0m\u001b[0m\n",
      "\u001b[0;32m/home/janith_p/anaconda2/lib/python2.7/site-packages/pyglet/window/xlib/__init__.pyc\u001b[0m in \u001b[0;36mdispatch_events\u001b[0;34m(self)\u001b[0m\n\u001b[1;32m    851\u001b[0m         \u001b[0;31m# Check for the events specific to this window\u001b[0m\u001b[0;34m\u001b[0m\u001b[0;34m\u001b[0m\u001b[0m\n\u001b[1;32m    852\u001b[0m         while xlib.XCheckWindowEvent(_x_display, _window,\n\u001b[0;32m--> 853\u001b[0;31m                                      0x1ffffff, byref(e)):\n\u001b[0m\u001b[1;32m    854\u001b[0m             \u001b[0;31m# Key events are filtered by the xlib window event\u001b[0m\u001b[0;34m\u001b[0m\u001b[0;34m\u001b[0m\u001b[0m\n\u001b[1;32m    855\u001b[0m             \u001b[0;31m# handler so they get a shot at the prefiltered event.\u001b[0m\u001b[0;34m\u001b[0m\u001b[0;34m\u001b[0m\u001b[0m\n",
      "\u001b[0;31mArgumentError\u001b[0m: argument 2: <type 'exceptions.TypeError'>: wrong type"
     ]
    }
   ],
   "source": [
    "env = gym.make('Pendulum-v0')\n",
    "\n",
    "policyParameters_optimal = np.array([[-10,-10,-10,0]])\n",
    "env.reset(whichVersion = 1)\n",
    "# observations = env.state(inputTheta = initialStates[0,0], inputThetaDot = initialStates[0.1])\n",
    "for i in range (500):\n",
    "    env.render()\n",
    "    observations = np.reshape(observations, ([1,3]))\n",
    "    action = action_fromPolicy(policyParameters_optimal, observations)\n",
    "    action = np.array([action])\n",
    "    print action\n",
    "    observations, rewards, done, info = env.step(action)"
   ]
  },
  {
   "cell_type": "code",
   "execution_count": null,
   "metadata": {
    "collapsed": true
   },
   "outputs": [],
   "source": [
    "for iterations in range(100)\n",
    "    "
   ]
  },
  {
   "cell_type": "code",
   "execution_count": 62,
   "metadata": {
    "collapsed": false
   },
   "outputs": [
    {
     "ename": "SyntaxError",
     "evalue": "unexpected EOF while parsing (<ipython-input-62-6340df6f05f3>, line 1)",
     "output_type": "error",
     "traceback": [
      "\u001b[0;36m  File \u001b[0;32m\"<ipython-input-62-6340df6f05f3>\"\u001b[0;36m, line \u001b[0;32m1\u001b[0m\n\u001b[0;31m    for x in range(100):\u001b[0m\n\u001b[0m                        ^\u001b[0m\n\u001b[0;31mSyntaxError\u001b[0m\u001b[0;31m:\u001b[0m unexpected EOF while parsing\n"
     ]
    }
   ],
   "source": [
    "for x in range(100):"
   ]
  },
  {
   "cell_type": "code",
   "execution_count": null,
   "metadata": {
    "collapsed": true
   },
   "outputs": [],
   "source": []
  }
 ],
 "metadata": {
  "kernelspec": {
   "display_name": "Python [Root]",
   "language": "python",
   "name": "Python [Root]"
  },
  "language_info": {
   "codemirror_mode": {
    "name": "ipython",
    "version": 2
   },
   "file_extension": ".py",
   "mimetype": "text/x-python",
   "name": "python",
   "nbconvert_exporter": "python",
   "pygments_lexer": "ipython2",
   "version": "2.7.12"
  }
 },
 "nbformat": 4,
 "nbformat_minor": 1
}
