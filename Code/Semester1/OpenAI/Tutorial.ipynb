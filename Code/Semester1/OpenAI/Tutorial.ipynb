{
 "cells": [
  {
   "cell_type": "code",
   "execution_count": 1,
   "metadata": {
    "collapsed": true
   },
   "outputs": [],
   "source": [
    "import gym\n",
    "import time\n",
    "import numpy as np\n",
    "import GPy"
   ]
  },
  {
   "cell_type": "code",
   "execution_count": null,
   "metadata": {
    "collapsed": true
   },
   "outputs": [],
   "source": [
    "env = gym.make('Pendulum-v0')\n",
    "env.reset()\n",
    "x = env.action_space\n",
    "action = gym.spaces.Box(-2, 2, shape=(1,))\n",
    "\n",
    "observationsNumpy = np.zeros((1,3))\n",
    "inputsNumpy = np.zeros((1,1))\n",
    "\n",
    "for _ in  range(10):\n",
    "    env.render()\n",
    "    actionToTake = action.sample()\n",
    "    bufferAction = np.array([actionToTake])\n",
    "    inputsNumpy = np.append(inputsNumpy, bufferAction, axis = 0)\n",
    "\n",
    "    observations, rewards, done, info = env.step(actionToTake)\n",
    "\n",
    "    bufferObservations = np.asarray([observations])\n",
    "    observationsNumpy = np.append(observationsNumpy, bufferObservations, axis = 0)\n",
    "\n",
    "print inputsNumpy.shape\n",
    "print observationsNumpy.shape\n",
    "\n",
    "k = GPy.kern.RBF(input_dim=1, variance=1., lengthscale=1.)\n",
    "m = GPy.models.GPRegression(inputsNumpy,observationsNumpy,k)\n",
    "\n",
    "print(m)\n"
   ]
  }
 ],
 "metadata": {
  "kernelspec": {
   "display_name": "Python [Root]",
   "language": "python",
   "name": "Python [Root]"
  },
  "language_info": {
   "codemirror_mode": {
    "name": "ipython",
    "version": 2
   },
   "file_extension": ".py",
   "mimetype": "text/x-python",
   "name": "python",
   "nbconvert_exporter": "python",
   "pygments_lexer": "ipython2",
   "version": "2.7.12"
  }
 },
 "nbformat": 4,
 "nbformat_minor": 1
}
