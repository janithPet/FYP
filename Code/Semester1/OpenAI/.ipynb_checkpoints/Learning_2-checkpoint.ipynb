{
 "cells": [
  {
   "cell_type": "markdown",
   "metadata": {},
   "source": [
    "This code builds on what was done in the Tutorial.ipynb program. While the point of the Tutorial was to allow me to test how to interact with both OpenAI Gym and GPy, both individually and in compliment, this particular program attempts to learn a model of the dynamics of the system in the form of:\n",
    "\n",
    "$x_{n+1}= f(x_n,u_n)$,    where $x = x(\\theta, \\dot{\\theta}, \\ddot{\\theta})$ is the state vector in terms of position, velocity and acceleration, and $u$ is the control input. \n",
    "\n",
    "When run, the program will ask for what gym environment to run, how many tests to carry out, and whether to reset the environment at each iteration. Presently, the program will only work with 'Pendulum-v0', but a future update will be made to allow for other environments. Defaults values for there are set at 'Pendulum-v0', 50 and False respectively; these can be accessed by simply entering the *return* key when asked.\n",
    "\n",
    "The program will create a new folder in Learning_2_Figs (please have this folder ready in the root directory of the program), where it will store 6 figures. The folders will be numbered, and will specify whether the environment was set to reset (prefixed by 'Reset') or not (prefixed by 'Cont'). The figures will show the following:\n",
    "\n",
    "* Plots of the absolute difference between the prediction of the model at each iteration and the simulation, for each state, as a function of the interation number\n",
    "* A 3D scatter plot with iteration number, position (state 1), and error (as defined above) as its axes.\n",
    "* Histograms of the distributions of the each states and the control input. The frequencies are set so that there are 100 bins.\n"
   ]
  },
  {
   "cell_type": "code",
   "execution_count": 5,
   "metadata": {
    "collapsed": true
   },
   "outputs": [],
   "source": [
    "import gym\n",
    "import numpy as np\n",
    "import GPy\n",
    "\n",
    "import matplotlib.pyplot as plt\n",
    "from mpl_toolkits.mplot3d import Axes3D\n",
    "from matplotlib import cm\n",
    "import pylab\n",
    "import os"
   ]
  },
  {
   "cell_type": "code",
   "execution_count": 6,
   "metadata": {
    "collapsed": true
   },
   "outputs": [],
   "source": [
    "#define functions\n",
    "def generateInputs(inputsNumpy, action, observations, attempt):\n",
    "    actionToTake = action.sample()\n",
    "    bufferAction = np.array([actionToTake])\n",
    "    bufferStateCurrent = np.asarray([observations])\n",
    "    bufferInput = np.append(bufferAction, bufferStateCurrent, axis = 1)\n",
    "\n",
    "    if attempt == 0:\n",
    "        inputsNumpy = bufferInput\n",
    "    elif attempt > 0:\n",
    "        inputsNumpy = np.append(inputsNumpy, bufferInput, axis = 0)\n",
    "\n",
    "    return inputsNumpy, bufferInput, actionToTake\n",
    "\n",
    "def generateObservations(observationsNumpy, observations, attempt):\n",
    "    bufferObservations = np.asarray([observations])\n",
    "\n",
    "    if attempt == 0:\n",
    "        observationsNumpy = bufferObservations\n",
    "    elif attempt > 0:\n",
    "        observationsNumpy = np.append(observationsNumpy, bufferObservations, axis = 0)\n",
    "\n",
    "    return observationsNumpy, bufferObservations\n",
    "\n",
    "def generateModel(inputsNumpy, observationsNumpy, k):\n",
    "    m = GPy.models.GPRegression(inputsNumpy, observationsNumpy, k)\n",
    "    m.optimize()\n",
    "\n",
    "    return m\n",
    "\n",
    "def generatePrediction(m, bufferInput, attempt):\n",
    "    predictionPDF = m.predict(bufferInput)[0]\n",
    "\n",
    "    return predictionPDF\n",
    "\n",
    "def generateAbsoluteError(absoluteErrorMean, attemptNumpy, predictionPDF, bufferObservations, attempt, attemptsTotal):\n",
    "    if attempt > 0:\n",
    "        absoluteErrorMean[attempt-1,:] = np.abs(predictionPDF[0,:] - bufferObservations)\n",
    "        attemptNumpy[attempt-1,0] = attempt\n",
    "    else:\n",
    "        absoluteErrorMean = np.zeros((attemptsTotal,3))\n",
    "        attemptNumpy = np.zeros((attemptsTotal,1))\n",
    "\n",
    "    return absoluteErrorMean, attemptNumpy\n",
    "\n",
    "def generateGraphs(looper, reset, dirNumber, attemptNumpy, absoluteErrorMean, inputsNumpy):\n",
    "    while looper == True:\n",
    "        if reset == True:\n",
    "            if os.path.exists('./Learning_2_Figs/ResetAttempt%d' %dirNumber) == False:\n",
    "                os.makedirs('./Learning_2_Figs/ResetAttempt%d' %dirNumber)\n",
    "                looper = False\n",
    "                os.chdir('./Learning_2_Figs/ResetAttempt%d' %dirNumber)\n",
    "            else:\n",
    "                dirNumber = dirNumber + 1\n",
    "        if reset == False:\n",
    "            if os.path.exists('./Learning_2_Figs/ContAttempt%d' %dirNumber) == False:\n",
    "                os.makedirs('./Learning_2_Figs/ContAttempt%d' %dirNumber)\n",
    "                looper = False\n",
    "                os.chdir('./Learning_2_Figs/ContAttempt%d' %dirNumber)\n",
    "            else:\n",
    "                dirNumber = dirNumber + 1\n",
    "\n",
    "    plt.plot(attemptNumpy[:,0],absoluteErrorMean[:,0])\n",
    "    plt.plot(attemptNumpy[:,0],absoluteErrorMean[:,1])\n",
    "    plt.plot(attemptNumpy[:,0],absoluteErrorMean[:,2])\n",
    "    plt.legend(['State 1', 'State 2', 'State 3'], loc='upper left')\n",
    "    pylab.savefig('./AbsoluteErrors')\n",
    "\n",
    "    fig1 = plt.figure()\n",
    "    ax = fig1.gca(projection='3d')\n",
    "    ax.scatter(attemptNumpy[:,0], inputsNumpy[1:,1], absoluteErrorMean[:,0], cmap=cm.coolwarm)\n",
    "    pylab.savefig('./Scatter')\n",
    "\n",
    "    fig2 = plt.figure()\n",
    "    plt.hist(inputsNumpy[:,0], bins = 100)\n",
    "    # plt.legend('Control Input', loc='upper left')\n",
    "    pylab.savefig('./ControlInputHist')\n",
    "\n",
    "    fig3 = plt.figure()\n",
    "    plt.hist(inputsNumpy[:,1],bins = 100)\n",
    "    # plt.legend('State 1', loc='upper left')\n",
    "    pylab.savefig('./State_1Hist')\n",
    "\n",
    "    fig4 = plt.figure()\n",
    "    plt.hist(inputsNumpy[:,2],bins = 100)\n",
    "    # plt.legend('State 2', loc='upper left')\n",
    "    pylab.savefig('./State_2Hist')\n",
    "\n",
    "    fig5 = plt.figure()\n",
    "    plt.hist(inputsNumpy[:,3], bins = 100)\n",
    "    # plt.legend('State 3', loc='upper left')\n",
    "    pylab.savefig('./State_3Hist')\n"
   ]
  },
  {
   "cell_type": "code",
   "execution_count": 7,
   "metadata": {
    "collapsed": false
   },
   "outputs": [
    {
     "name": "stdout",
     "output_type": "stream",
     "text": [
      "Please enter the environment: \n"
     ]
    },
    {
     "name": "stderr",
     "output_type": "stream",
     "text": [
      "[2016-10-20 20:20:32,888] Making new env: Pendulum-v0\n"
     ]
    },
    {
     "name": "stdout",
     "output_type": "stream",
     "text": [
      "Please enter the number of tests: \n",
      "Reset every interation?:  \n",
      "0\n"
     ]
    },
    {
     "name": "stderr",
     "output_type": "stream",
     "text": [
      "[2016-10-20 20:20:35,418] initializing Y\n",
      "[2016-10-20 20:20:35,419] initializing inference method\n",
      "[2016-10-20 20:20:35,419] adding kernel and likelihood as parameters\n",
      "[2016-10-20 20:20:35,529] initializing Y\n",
      "[2016-10-20 20:20:35,529] initializing inference method\n",
      "[2016-10-20 20:20:35,530] adding kernel and likelihood as parameters\n",
      "[2016-10-20 20:20:35,566] initializing Y\n",
      "[2016-10-20 20:20:35,567] initializing inference method\n",
      "[2016-10-20 20:20:35,568] adding kernel and likelihood as parameters\n",
      "[2016-10-20 20:20:35,623] initializing Y\n",
      "[2016-10-20 20:20:35,624] initializing inference method\n",
      "[2016-10-20 20:20:35,624] adding kernel and likelihood as parameters\n",
      "[2016-10-20 20:20:35,659] initializing Y\n",
      "[2016-10-20 20:20:35,662] initializing inference method\n",
      "[2016-10-20 20:20:35,665] adding kernel and likelihood as parameters\n",
      "[2016-10-20 20:20:35,710] initializing Y\n",
      "[2016-10-20 20:20:35,711] initializing inference method\n",
      "[2016-10-20 20:20:35,711] adding kernel and likelihood as parameters\n"
     ]
    },
    {
     "name": "stdout",
     "output_type": "stream",
     "text": [
      "1\n",
      "2\n",
      "3\n",
      "4\n",
      "5\n"
     ]
    },
    {
     "name": "stderr",
     "output_type": "stream",
     "text": [
      "[2016-10-20 20:20:35,793] initializing Y\n",
      "[2016-10-20 20:20:35,794] initializing inference method\n",
      "[2016-10-20 20:20:35,795] adding kernel and likelihood as parameters\n",
      "[2016-10-20 20:20:35,892] initializing Y\n",
      "[2016-10-20 20:20:35,893] initializing inference method\n",
      "[2016-10-20 20:20:35,893] adding kernel and likelihood as parameters\n",
      " /home/janith_p/anaconda2/lib/python2.7/site-packages/paramz/transformations.py:109: RuntimeWarning:overflow encountered in expm1\n"
     ]
    },
    {
     "name": "stdout",
     "output_type": "stream",
     "text": [
      "6\n",
      "7\n"
     ]
    },
    {
     "name": "stderr",
     "output_type": "stream",
     "text": [
      "[2016-10-20 20:20:36,078] initializing Y\n",
      "[2016-10-20 20:20:36,078] initializing inference method\n",
      "[2016-10-20 20:20:36,079] adding kernel and likelihood as parameters\n",
      " /home/janith_p/anaconda2/lib/python2.7/site-packages/GPy/kern/src/stationary.py:160: RuntimeWarning:overflow encountered in divide\n",
      " /home/janith_p/anaconda2/lib/python2.7/site-packages/GPy/kern/src/rbf.py:35: RuntimeWarning:overflow encountered in square\n",
      " /home/janith_p/anaconda2/lib/python2.7/site-packages/GPy/kern/src/rbf.py:38: RuntimeWarning:invalid value encountered in multiply\n",
      "[2016-10-20 20:20:36,162] initializing Y\n",
      "[2016-10-20 20:20:36,163] initializing inference method\n",
      "[2016-10-20 20:20:36,164] adding kernel and likelihood as parameters\n"
     ]
    },
    {
     "name": "stdout",
     "output_type": "stream",
     "text": [
      "8\n",
      "9\n"
     ]
    },
    {
     "name": "stderr",
     "output_type": "stream",
     "text": [
      "[2016-10-20 20:20:36,333] initializing Y\n",
      "[2016-10-20 20:20:36,334] initializing inference method\n",
      "[2016-10-20 20:20:36,335] adding kernel and likelihood as parameters\n",
      "[2016-10-20 20:20:36,400] initializing Y\n",
      "[2016-10-20 20:20:36,400] initializing inference method\n",
      "[2016-10-20 20:20:36,401] adding kernel and likelihood as parameters\n",
      "[2016-10-20 20:20:36,503] initializing Y\n",
      "[2016-10-20 20:20:36,504] initializing inference method\n",
      "[2016-10-20 20:20:36,505] adding kernel and likelihood as parameters\n"
     ]
    },
    {
     "name": "stdout",
     "output_type": "stream",
     "text": [
      "10\n",
      "11\n",
      "12\n"
     ]
    },
    {
     "name": "stderr",
     "output_type": "stream",
     "text": [
      "[2016-10-20 20:20:36,615] initializing Y\n",
      "[2016-10-20 20:20:36,616] initializing inference method\n",
      "[2016-10-20 20:20:36,617] adding kernel and likelihood as parameters\n",
      "[2016-10-20 20:20:36,718] initializing Y\n",
      "[2016-10-20 20:20:36,719] initializing inference method\n",
      "[2016-10-20 20:20:36,719] adding kernel and likelihood as parameters\n",
      "[2016-10-20 20:20:36,770] initializing Y\n",
      "[2016-10-20 20:20:36,771] initializing inference method\n",
      "[2016-10-20 20:20:36,772] adding kernel and likelihood as parameters\n"
     ]
    },
    {
     "name": "stdout",
     "output_type": "stream",
     "text": [
      "13\n",
      "14\n",
      "15\n"
     ]
    },
    {
     "name": "stderr",
     "output_type": "stream",
     "text": [
      "[2016-10-20 20:20:36,930] initializing Y\n",
      "[2016-10-20 20:20:36,931] initializing inference method\n",
      "[2016-10-20 20:20:36,931] adding kernel and likelihood as parameters\n",
      "[2016-10-20 20:20:37,059] initializing Y\n",
      "[2016-10-20 20:20:37,060] initializing inference method\n",
      "[2016-10-20 20:20:37,060] adding kernel and likelihood as parameters\n"
     ]
    },
    {
     "name": "stdout",
     "output_type": "stream",
     "text": [
      "16\n",
      "17\n"
     ]
    },
    {
     "name": "stderr",
     "output_type": "stream",
     "text": [
      "[2016-10-20 20:20:37,245] initializing Y\n",
      "[2016-10-20 20:20:37,246] initializing inference method\n",
      "[2016-10-20 20:20:37,248] adding kernel and likelihood as parameters\n",
      "[2016-10-20 20:20:37,373] initializing Y\n",
      "[2016-10-20 20:20:37,375] initializing inference method\n",
      "[2016-10-20 20:20:37,376] adding kernel and likelihood as parameters\n"
     ]
    },
    {
     "name": "stdout",
     "output_type": "stream",
     "text": [
      "18\n",
      "19\n"
     ]
    },
    {
     "name": "stderr",
     "output_type": "stream",
     "text": [
      "[2016-10-20 20:20:37,521] initializing Y\n",
      "[2016-10-20 20:20:37,526] initializing inference method\n",
      "[2016-10-20 20:20:37,528] adding kernel and likelihood as parameters\n",
      "[2016-10-20 20:20:37,612] initializing Y\n",
      "[2016-10-20 20:20:37,612] initializing inference method\n",
      "[2016-10-20 20:20:37,613] adding kernel and likelihood as parameters\n"
     ]
    },
    {
     "name": "stdout",
     "output_type": "stream",
     "text": [
      "20\n",
      "21\n"
     ]
    },
    {
     "name": "stderr",
     "output_type": "stream",
     "text": [
      "[2016-10-20 20:20:37,768] initializing Y\n",
      "[2016-10-20 20:20:37,770] initializing inference method\n",
      "[2016-10-20 20:20:37,772] adding kernel and likelihood as parameters\n",
      "[2016-10-20 20:20:37,949] initializing Y\n",
      "[2016-10-20 20:20:37,950] initializing inference method\n",
      "[2016-10-20 20:20:37,951] adding kernel and likelihood as parameters\n"
     ]
    },
    {
     "name": "stdout",
     "output_type": "stream",
     "text": [
      "22\n",
      "23\n"
     ]
    },
    {
     "name": "stderr",
     "output_type": "stream",
     "text": [
      "[2016-10-20 20:20:38,083] initializing Y\n",
      "[2016-10-20 20:20:38,085] initializing inference method\n",
      "[2016-10-20 20:20:38,087] adding kernel and likelihood as parameters\n"
     ]
    },
    {
     "name": "stdout",
     "output_type": "stream",
     "text": [
      "24\n"
     ]
    },
    {
     "name": "stderr",
     "output_type": "stream",
     "text": [
      "[2016-10-20 20:20:38,326] initializing Y\n",
      "[2016-10-20 20:20:38,327] initializing inference method\n",
      "[2016-10-20 20:20:38,327] adding kernel and likelihood as parameters\n",
      "[2016-10-20 20:20:38,400] initializing Y\n",
      "[2016-10-20 20:20:38,401] initializing inference method\n",
      "[2016-10-20 20:20:38,402] adding kernel and likelihood as parameters\n",
      "[2016-10-20 20:20:38,447] initializing Y\n",
      "[2016-10-20 20:20:38,448] initializing inference method\n",
      "[2016-10-20 20:20:38,449] adding kernel and likelihood as parameters\n"
     ]
    },
    {
     "name": "stdout",
     "output_type": "stream",
     "text": [
      "25\n",
      "26\n",
      "27\n"
     ]
    },
    {
     "name": "stderr",
     "output_type": "stream",
     "text": [
      "[2016-10-20 20:20:38,583] initializing Y\n",
      "[2016-10-20 20:20:38,584] initializing inference method\n",
      "[2016-10-20 20:20:38,586] adding kernel and likelihood as parameters\n",
      "[2016-10-20 20:20:38,644] initializing Y\n",
      "[2016-10-20 20:20:38,646] initializing inference method\n",
      "[2016-10-20 20:20:38,646] adding kernel and likelihood as parameters\n",
      "[2016-10-20 20:20:38,718] initializing Y\n",
      "[2016-10-20 20:20:38,720] initializing inference method\n",
      "[2016-10-20 20:20:38,720] adding kernel and likelihood as parameters\n"
     ]
    },
    {
     "name": "stdout",
     "output_type": "stream",
     "text": [
      "28\n",
      "29\n",
      "30\n"
     ]
    },
    {
     "name": "stderr",
     "output_type": "stream",
     "text": [
      "[2016-10-20 20:20:38,873] initializing Y\n",
      "[2016-10-20 20:20:38,874] initializing inference method\n",
      "[2016-10-20 20:20:38,875] adding kernel and likelihood as parameters\n",
      "[2016-10-20 20:20:39,025] initializing Y\n",
      "[2016-10-20 20:20:39,027] initializing inference method\n",
      "[2016-10-20 20:20:39,028] adding kernel and likelihood as parameters\n"
     ]
    },
    {
     "name": "stdout",
     "output_type": "stream",
     "text": [
      "31\n",
      "32\n"
     ]
    },
    {
     "name": "stderr",
     "output_type": "stream",
     "text": [
      "[2016-10-20 20:20:39,193] initializing Y\n",
      "[2016-10-20 20:20:39,195] initializing inference method\n",
      "[2016-10-20 20:20:39,195] adding kernel and likelihood as parameters\n",
      "[2016-10-20 20:20:39,346] initializing Y\n",
      "[2016-10-20 20:20:39,347] initializing inference method\n",
      "[2016-10-20 20:20:39,349] adding kernel and likelihood as parameters\n"
     ]
    },
    {
     "name": "stdout",
     "output_type": "stream",
     "text": [
      "33\n",
      "34\n"
     ]
    },
    {
     "name": "stderr",
     "output_type": "stream",
     "text": [
      "[2016-10-20 20:20:39,436] initializing Y\n",
      "[2016-10-20 20:20:39,438] initializing inference method\n",
      "[2016-10-20 20:20:39,440] adding kernel and likelihood as parameters\n"
     ]
    },
    {
     "name": "stdout",
     "output_type": "stream",
     "text": [
      "35\n"
     ]
    },
    {
     "name": "stderr",
     "output_type": "stream",
     "text": [
      "[2016-10-20 20:20:39,658] initializing Y\n",
      "[2016-10-20 20:20:39,659] initializing inference method\n",
      "[2016-10-20 20:20:39,660] adding kernel and likelihood as parameters\n"
     ]
    },
    {
     "name": "stdout",
     "output_type": "stream",
     "text": [
      "36\n"
     ]
    },
    {
     "name": "stderr",
     "output_type": "stream",
     "text": [
      "[2016-10-20 20:20:39,908] initializing Y\n",
      "[2016-10-20 20:20:39,909] initializing inference method\n",
      "[2016-10-20 20:20:39,910] adding kernel and likelihood as parameters\n",
      "[2016-10-20 20:20:40,056] initializing Y\n",
      "[2016-10-20 20:20:40,057] initializing inference method\n",
      "[2016-10-20 20:20:40,059] adding kernel and likelihood as parameters\n"
     ]
    },
    {
     "name": "stdout",
     "output_type": "stream",
     "text": [
      "37\n",
      "38\n"
     ]
    },
    {
     "name": "stderr",
     "output_type": "stream",
     "text": [
      "[2016-10-20 20:20:40,263] initializing Y\n",
      "[2016-10-20 20:20:40,264] initializing inference method\n",
      "[2016-10-20 20:20:40,265] adding kernel and likelihood as parameters\n",
      "[2016-10-20 20:20:40,416] initializing Y\n",
      "[2016-10-20 20:20:40,418] initializing inference method\n",
      "[2016-10-20 20:20:40,418] adding kernel and likelihood as parameters\n"
     ]
    },
    {
     "name": "stdout",
     "output_type": "stream",
     "text": [
      "39\n",
      "40\n"
     ]
    },
    {
     "name": "stderr",
     "output_type": "stream",
     "text": [
      "[2016-10-20 20:20:40,586] initializing Y\n",
      "[2016-10-20 20:20:40,587] initializing inference method\n",
      "[2016-10-20 20:20:40,588] adding kernel and likelihood as parameters\n",
      "[2016-10-20 20:20:40,748] initializing Y\n",
      "[2016-10-20 20:20:40,749] initializing inference method\n",
      "[2016-10-20 20:20:40,750] adding kernel and likelihood as parameters\n"
     ]
    },
    {
     "name": "stdout",
     "output_type": "stream",
     "text": [
      "41\n",
      "42\n"
     ]
    },
    {
     "name": "stderr",
     "output_type": "stream",
     "text": [
      "[2016-10-20 20:20:40,965] initializing Y\n",
      "[2016-10-20 20:20:40,966] initializing inference method\n",
      "[2016-10-20 20:20:40,967] adding kernel and likelihood as parameters\n",
      "[2016-10-20 20:20:41,145] initializing Y\n",
      "[2016-10-20 20:20:41,147] initializing inference method\n",
      "[2016-10-20 20:20:41,148] adding kernel and likelihood as parameters\n"
     ]
    },
    {
     "name": "stdout",
     "output_type": "stream",
     "text": [
      "43\n",
      "44\n"
     ]
    },
    {
     "name": "stderr",
     "output_type": "stream",
     "text": [
      "[2016-10-20 20:20:41,228] initializing Y\n",
      "[2016-10-20 20:20:41,229] initializing inference method\n",
      "[2016-10-20 20:20:41,231] adding kernel and likelihood as parameters\n"
     ]
    },
    {
     "name": "stdout",
     "output_type": "stream",
     "text": [
      "45\n"
     ]
    },
    {
     "name": "stderr",
     "output_type": "stream",
     "text": [
      "[2016-10-20 20:20:41,447] initializing Y\n",
      "[2016-10-20 20:20:41,448] initializing inference method\n",
      "[2016-10-20 20:20:41,449] adding kernel and likelihood as parameters\n",
      "[2016-10-20 20:20:41,548] initializing Y\n",
      "[2016-10-20 20:20:41,549] initializing inference method\n",
      "[2016-10-20 20:20:41,550] adding kernel and likelihood as parameters\n",
      "[2016-10-20 20:20:41,625] initializing Y\n",
      "[2016-10-20 20:20:41,626] initializing inference method\n",
      "[2016-10-20 20:20:41,628] adding kernel and likelihood as parameters\n"
     ]
    },
    {
     "name": "stdout",
     "output_type": "stream",
     "text": [
      "46\n",
      "47\n",
      "48\n"
     ]
    },
    {
     "name": "stderr",
     "output_type": "stream",
     "text": [
      "[2016-10-20 20:20:41,821] initializing Y\n",
      "[2016-10-20 20:20:41,823] initializing inference method\n",
      "[2016-10-20 20:20:41,828] adding kernel and likelihood as parameters\n"
     ]
    },
    {
     "name": "stdout",
     "output_type": "stream",
     "text": [
      "49\n"
     ]
    },
    {
     "name": "stderr",
     "output_type": "stream",
     "text": [
      "[2016-10-20 20:20:42,139] initializing Y\n",
      "[2016-10-20 20:20:42,142] initializing inference method\n",
      "[2016-10-20 20:20:42,144] adding kernel and likelihood as parameters\n"
     ]
    },
    {
     "name": "stdout",
     "output_type": "stream",
     "text": [
      "50\n"
     ]
    }
   ],
   "source": [
    "#Set up standard parameters\n",
    "standardEnvironment = \"Pendulum-v0\"\n",
    "standardAttempts = \"50\"\n",
    "standardReset = \"False\"\n",
    "\n",
    "#Set up environment\n",
    "environmentSetUp = raw_input('Please enter the environment: ')\n",
    "if environmentSetUp == \"\":\n",
    "    environmentSetUp = standardEnvironment\n",
    "env = gym.make(environmentSetUp)\n",
    "observations = env.reset()\n",
    "action = gym.spaces.Box(-2,2, shape=(1,))\n",
    "\n",
    "#Set up program parameters\n",
    "attemptsTotal = raw_input('Please enter the number of tests: ')\n",
    "if attemptsTotal == \"\":\n",
    "    attemptsTotal = standardAttempts\n",
    "attemptsTotal = int(attemptsTotal)\n",
    "reset = raw_input('Reset every interation?:  ')\n",
    "if reset == \"\":\n",
    "    reset = standardReset\n",
    "reset = reset in ['True']\n",
    "\n",
    "looper = True\n",
    "dirNumber = 0\n",
    "\n",
    "#set up initial variables\n",
    "\n",
    "absoluteError = np.zeros((attemptsTotal,3))\n",
    "absoluteErrorMean = np.zeros((attemptsTotal,3))\n",
    "attemptNumpy = np.zeros([attemptsTotal,1])\n",
    "predictions = np.zeros([1,3])\n",
    "inputsNumpy = np.zeros((1,4))\n",
    "observationsNumpy = np.zeros((1,3))\n",
    "predictionPDF = np.zeros((1,3))\n",
    "\n",
    "k = GPy.kern.RBF(input_dim=4, variance=1., lengthscale=1.)\n",
    "\n",
    "\n",
    "for attempt in range(attemptsTotal+1):\n",
    "    print attempt\n",
    "\n",
    "    if reset == True:\n",
    "        observations = env.reset()\n",
    "    env.render()\n",
    "\n",
    "    #generate input array\n",
    "    (inputsNumpy, bufferInput, actionToTake) = generateInputs(inputsNumpy, action, observations, attempt)\n",
    "\n",
    "    #generate predictions if present attempt isn't the first\n",
    "    if attempt > 0:\n",
    "        predictionPDF = generatePrediction(m, bufferInput, attempt)\n",
    "\n",
    "    #carry out simulation\n",
    "    (observations, rewards, done, info) = env.step(actionToTake)\n",
    "\n",
    "    #generate output array\n",
    "    (observationsNumpy, bufferObservations) = generateObservations(observationsNumpy, observations, attempt)\n",
    "\n",
    "    #generate GP model\n",
    "    m = generateModel(inputsNumpy, observationsNumpy, k)\n",
    "\n",
    "    #generate performance arrays\n",
    "    (absoluteErrorMean, attemptNumpy) = generateAbsoluteError(absoluteErrorMean, attemptNumpy, predictionPDF, bufferObservations, attempt, attemptsTotal)\n",
    "\n",
    "generateGraphs(looper, reset, dirNumber, attemptNumpy, absoluteErrorMean, inputsNumpy)\n"
   ]
  },
  {
   "cell_type": "code",
   "execution_count": null,
   "metadata": {
    "collapsed": true
   },
   "outputs": [],
   "source": []
  }
 ],
 "metadata": {
  "kernelspec": {
   "display_name": "Python [Root]",
   "language": "python",
   "name": "Python [Root]"
  },
  "language_info": {
   "codemirror_mode": {
    "name": "ipython",
    "version": 2
   },
   "file_extension": ".py",
   "mimetype": "text/x-python",
   "name": "python",
   "nbconvert_exporter": "python",
   "pygments_lexer": "ipython2",
   "version": "2.7.12"
  }
 },
 "nbformat": 4,
 "nbformat_minor": 1
}
